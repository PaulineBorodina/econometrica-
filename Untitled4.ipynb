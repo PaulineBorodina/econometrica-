{
 "cells": [
  {
   "cell_type": "code",
   "execution_count": 1,
   "id": "e195ccc2",
   "metadata": {},
   "outputs": [],
   "source": [
    "import pandas as pd\n",
    "import numpy as np\n",
    "import io\n",
    "import statsmodels.formula.api as smf"
   ]
  },
  {
   "cell_type": "code",
   "execution_count": 2,
   "id": "009af3a1",
   "metadata": {},
   "outputs": [],
   "source": [
    "data = '''sleep totwrk age male hrwage\n",
    "3113   3438  32   1    7.07 \n",
    "2920   5020  31   1    1.43 \n",
    "2670   2815  44   1   20.53 \n",
    "3083   3786  30   0    9.62 \n",
    "3448   2580  64   1    2.75 \n",
    "4063   1205  41   1   19.25 ''' "
   ]
  },
  {
   "cell_type": "code",
   "execution_count": 3,
   "id": "38a52819",
   "metadata": {},
   "outputs": [
    {
     "data": {
      "text/plain": [
       "'sleep totwrk age male hrwage\\n3113   3438  32   1    7.07 \\n2920   5020  31   1    1.43 \\n2670   2815  44   1   20.53 \\n3083   3786  30   0    9.62 \\n3448   2580  64   1    2.75 \\n4063   1205  41   1   19.25 '"
      ]
     },
     "execution_count": 3,
     "metadata": {},
     "output_type": "execute_result"
    }
   ],
   "source": [
    "data "
   ]
  },
  {
   "cell_type": "code",
   "execution_count": 4,
   "id": "b19a5f03",
   "metadata": {},
   "outputs": [
    {
     "data": {
      "text/html": [
       "<div>\n",
       "<style scoped>\n",
       "    .dataframe tbody tr th:only-of-type {\n",
       "        vertical-align: middle;\n",
       "    }\n",
       "\n",
       "    .dataframe tbody tr th {\n",
       "        vertical-align: top;\n",
       "    }\n",
       "\n",
       "    .dataframe thead th {\n",
       "        text-align: right;\n",
       "    }\n",
       "</style>\n",
       "<table border=\"1\" class=\"dataframe\">\n",
       "  <thead>\n",
       "    <tr style=\"text-align: right;\">\n",
       "      <th></th>\n",
       "      <th>sleep</th>\n",
       "      <th>totwrk</th>\n",
       "      <th>age</th>\n",
       "      <th>male</th>\n",
       "      <th>hrwage</th>\n",
       "    </tr>\n",
       "  </thead>\n",
       "  <tbody>\n",
       "    <tr>\n",
       "      <th>0</th>\n",
       "      <td>3113</td>\n",
       "      <td>3438</td>\n",
       "      <td>32</td>\n",
       "      <td>1</td>\n",
       "      <td>7.07</td>\n",
       "    </tr>\n",
       "    <tr>\n",
       "      <th>1</th>\n",
       "      <td>2920</td>\n",
       "      <td>5020</td>\n",
       "      <td>31</td>\n",
       "      <td>1</td>\n",
       "      <td>1.43</td>\n",
       "    </tr>\n",
       "    <tr>\n",
       "      <th>2</th>\n",
       "      <td>2670</td>\n",
       "      <td>2815</td>\n",
       "      <td>44</td>\n",
       "      <td>1</td>\n",
       "      <td>20.53</td>\n",
       "    </tr>\n",
       "    <tr>\n",
       "      <th>3</th>\n",
       "      <td>3083</td>\n",
       "      <td>3786</td>\n",
       "      <td>30</td>\n",
       "      <td>0</td>\n",
       "      <td>9.62</td>\n",
       "    </tr>\n",
       "    <tr>\n",
       "      <th>4</th>\n",
       "      <td>3448</td>\n",
       "      <td>2580</td>\n",
       "      <td>64</td>\n",
       "      <td>1</td>\n",
       "      <td>2.75</td>\n",
       "    </tr>\n",
       "    <tr>\n",
       "      <th>5</th>\n",
       "      <td>4063</td>\n",
       "      <td>1205</td>\n",
       "      <td>41</td>\n",
       "      <td>1</td>\n",
       "      <td>19.25</td>\n",
       "    </tr>\n",
       "  </tbody>\n",
       "</table>\n",
       "</div>"
      ],
      "text/plain": [
       "   sleep  totwrk  age  male  hrwage\n",
       "0   3113    3438   32     1    7.07\n",
       "1   2920    5020   31     1    1.43\n",
       "2   2670    2815   44     1   20.53\n",
       "3   3083    3786   30     0    9.62\n",
       "4   3448    2580   64     1    2.75\n",
       "5   4063    1205   41     1   19.25"
      ]
     },
     "execution_count": 4,
     "metadata": {},
     "output_type": "execute_result"
    }
   ],
   "source": [
    "df = pd.read_csv(io.StringIO(data), sep= '\\s+')\n",
    "df  "
   ]
  },
  {
   "cell_type": "code",
   "execution_count": 5,
   "id": "fac3beb3",
   "metadata": {},
   "outputs": [
    {
     "data": {
      "text/html": [
       "<div>\n",
       "<style scoped>\n",
       "    .dataframe tbody tr th:only-of-type {\n",
       "        vertical-align: middle;\n",
       "    }\n",
       "\n",
       "    .dataframe tbody tr th {\n",
       "        vertical-align: top;\n",
       "    }\n",
       "\n",
       "    .dataframe thead th {\n",
       "        text-align: right;\n",
       "    }\n",
       "</style>\n",
       "<table border=\"1\" class=\"dataframe\">\n",
       "  <thead>\n",
       "    <tr style=\"text-align: right;\">\n",
       "      <th></th>\n",
       "      <th>sleep</th>\n",
       "      <th>totwrk</th>\n",
       "      <th>age</th>\n",
       "      <th>male</th>\n",
       "      <th>hrwage</th>\n",
       "      <th>pred</th>\n",
       "    </tr>\n",
       "  </thead>\n",
       "  <tbody>\n",
       "    <tr>\n",
       "      <th>0</th>\n",
       "      <td>3113</td>\n",
       "      <td>3438</td>\n",
       "      <td>32</td>\n",
       "      <td>1</td>\n",
       "      <td>7.07</td>\n",
       "      <td>3059.416098</td>\n",
       "    </tr>\n",
       "    <tr>\n",
       "      <th>1</th>\n",
       "      <td>2920</td>\n",
       "      <td>5020</td>\n",
       "      <td>31</td>\n",
       "      <td>1</td>\n",
       "      <td>1.43</td>\n",
       "      <td>2820.466176</td>\n",
       "    </tr>\n",
       "    <tr>\n",
       "      <th>2</th>\n",
       "      <td>2670</td>\n",
       "      <td>2815</td>\n",
       "      <td>44</td>\n",
       "      <td>1</td>\n",
       "      <td>20.53</td>\n",
       "      <td>3168.003754</td>\n",
       "    </tr>\n",
       "    <tr>\n",
       "      <th>3</th>\n",
       "      <td>3083</td>\n",
       "      <td>3786</td>\n",
       "      <td>30</td>\n",
       "      <td>0</td>\n",
       "      <td>9.62</td>\n",
       "      <td>2945.613219</td>\n",
       "    </tr>\n",
       "    <tr>\n",
       "      <th>4</th>\n",
       "      <td>3448</td>\n",
       "      <td>2580</td>\n",
       "      <td>64</td>\n",
       "      <td>1</td>\n",
       "      <td>2.75</td>\n",
       "      <td>3257.865383</td>\n",
       "    </tr>\n",
       "    <tr>\n",
       "      <th>5</th>\n",
       "      <td>4063</td>\n",
       "      <td>1205</td>\n",
       "      <td>41</td>\n",
       "      <td>1</td>\n",
       "      <td>19.25</td>\n",
       "      <td>3421.379791</td>\n",
       "    </tr>\n",
       "  </tbody>\n",
       "</table>\n",
       "</div>"
      ],
      "text/plain": [
       "   sleep  totwrk  age  male  hrwage         pred\n",
       "0   3113    3438   32     1    7.07  3059.416098\n",
       "1   2920    5020   31     1    1.43  2820.466176\n",
       "2   2670    2815   44     1   20.53  3168.003754\n",
       "3   3083    3786   30     0    9.62  2945.613219\n",
       "4   3448    2580   64     1    2.75  3257.865383\n",
       "5   4063    1205   41     1   19.25  3421.379791"
      ]
     },
     "execution_count": 5,
     "metadata": {},
     "output_type": "execute_result"
    }
   ],
   "source": [
    "df['pred'] = 3525.14 + (-0.16)*df['totwrk'] + (1.62)*df['age'] + (51.84)*df['male'] + (-9.88)*np.log(df['hrwage'])\n",
    "df "
   ]
  },
  {
   "cell_type": "code",
   "execution_count": 6,
   "id": "fb91b8a8",
   "metadata": {},
   "outputs": [],
   "source": [
    "df ['residual'] = df ['sleep'] - df ['pred']"
   ]
  },
  {
   "cell_type": "code",
   "execution_count": 7,
   "id": "70fc06cf",
   "metadata": {},
   "outputs": [
    {
     "data": {
      "text/html": [
       "<div>\n",
       "<style scoped>\n",
       "    .dataframe tbody tr th:only-of-type {\n",
       "        vertical-align: middle;\n",
       "    }\n",
       "\n",
       "    .dataframe tbody tr th {\n",
       "        vertical-align: top;\n",
       "    }\n",
       "\n",
       "    .dataframe thead th {\n",
       "        text-align: right;\n",
       "    }\n",
       "</style>\n",
       "<table border=\"1\" class=\"dataframe\">\n",
       "  <thead>\n",
       "    <tr style=\"text-align: right;\">\n",
       "      <th></th>\n",
       "      <th>sleep</th>\n",
       "      <th>totwrk</th>\n",
       "      <th>age</th>\n",
       "      <th>male</th>\n",
       "      <th>hrwage</th>\n",
       "      <th>pred</th>\n",
       "      <th>residual</th>\n",
       "    </tr>\n",
       "  </thead>\n",
       "  <tbody>\n",
       "    <tr>\n",
       "      <th>0</th>\n",
       "      <td>3113</td>\n",
       "      <td>3438</td>\n",
       "      <td>32</td>\n",
       "      <td>1</td>\n",
       "      <td>7.07</td>\n",
       "      <td>3059.416098</td>\n",
       "      <td>53.583902</td>\n",
       "    </tr>\n",
       "    <tr>\n",
       "      <th>1</th>\n",
       "      <td>2920</td>\n",
       "      <td>5020</td>\n",
       "      <td>31</td>\n",
       "      <td>1</td>\n",
       "      <td>1.43</td>\n",
       "      <td>2820.466176</td>\n",
       "      <td>99.533824</td>\n",
       "    </tr>\n",
       "    <tr>\n",
       "      <th>2</th>\n",
       "      <td>2670</td>\n",
       "      <td>2815</td>\n",
       "      <td>44</td>\n",
       "      <td>1</td>\n",
       "      <td>20.53</td>\n",
       "      <td>3168.003754</td>\n",
       "      <td>-498.003754</td>\n",
       "    </tr>\n",
       "    <tr>\n",
       "      <th>3</th>\n",
       "      <td>3083</td>\n",
       "      <td>3786</td>\n",
       "      <td>30</td>\n",
       "      <td>0</td>\n",
       "      <td>9.62</td>\n",
       "      <td>2945.613219</td>\n",
       "      <td>137.386781</td>\n",
       "    </tr>\n",
       "    <tr>\n",
       "      <th>4</th>\n",
       "      <td>3448</td>\n",
       "      <td>2580</td>\n",
       "      <td>64</td>\n",
       "      <td>1</td>\n",
       "      <td>2.75</td>\n",
       "      <td>3257.865383</td>\n",
       "      <td>190.134617</td>\n",
       "    </tr>\n",
       "    <tr>\n",
       "      <th>5</th>\n",
       "      <td>4063</td>\n",
       "      <td>1205</td>\n",
       "      <td>41</td>\n",
       "      <td>1</td>\n",
       "      <td>19.25</td>\n",
       "      <td>3421.379791</td>\n",
       "      <td>641.620209</td>\n",
       "    </tr>\n",
       "  </tbody>\n",
       "</table>\n",
       "</div>"
      ],
      "text/plain": [
       "   sleep  totwrk  age  male  hrwage         pred    residual\n",
       "0   3113    3438   32     1    7.07  3059.416098   53.583902\n",
       "1   2920    5020   31     1    1.43  2820.466176   99.533824\n",
       "2   2670    2815   44     1   20.53  3168.003754 -498.003754\n",
       "3   3083    3786   30     0    9.62  2945.613219  137.386781\n",
       "4   3448    2580   64     1    2.75  3257.865383  190.134617\n",
       "5   4063    1205   41     1   19.25  3421.379791  641.620209"
      ]
     },
     "execution_count": 7,
     "metadata": {},
     "output_type": "execute_result"
    }
   ],
   "source": [
    "df "
   ]
  },
  {
   "cell_type": "markdown",
   "id": "fdd6a410",
   "metadata": {},
   "source": [
    "# 1.1.2  "
   ]
  },
  {
   "cell_type": "code",
   "execution_count": 10,
   "id": "49ccf746",
   "metadata": {},
   "outputs": [],
   "source": [
    "data = '''output capital labour\n",
    "9.25    2.61    184  \n",
    "3.66    1.32     91  \n",
    "28.78   22.09   426  \n",
    "4.12    10.74    72  \n",
    "2.89    1.16     46''' "
   ]
  },
  {
   "cell_type": "code",
   "execution_count": 11,
   "id": "35cdd908",
   "metadata": {},
   "outputs": [
    {
     "data": {
      "text/plain": [
       "'output capital labour\\n9.25    2.61    184  \\n3.66    1.32     91  \\n28.78   22.09   426  \\n4.12    10.74    72  \\n2.89    1.16     46'"
      ]
     },
     "execution_count": 11,
     "metadata": {},
     "output_type": "execute_result"
    }
   ],
   "source": [
    "data"
   ]
  },
  {
   "cell_type": "code",
   "execution_count": 12,
   "id": "84e013df",
   "metadata": {},
   "outputs": [
    {
     "data": {
      "text/html": [
       "<div>\n",
       "<style scoped>\n",
       "    .dataframe tbody tr th:only-of-type {\n",
       "        vertical-align: middle;\n",
       "    }\n",
       "\n",
       "    .dataframe tbody tr th {\n",
       "        vertical-align: top;\n",
       "    }\n",
       "\n",
       "    .dataframe thead th {\n",
       "        text-align: right;\n",
       "    }\n",
       "</style>\n",
       "<table border=\"1\" class=\"dataframe\">\n",
       "  <thead>\n",
       "    <tr style=\"text-align: right;\">\n",
       "      <th></th>\n",
       "      <th>output</th>\n",
       "      <th>capital</th>\n",
       "      <th>labour</th>\n",
       "    </tr>\n",
       "  </thead>\n",
       "  <tbody>\n",
       "    <tr>\n",
       "      <th>0</th>\n",
       "      <td>9.25</td>\n",
       "      <td>2.61</td>\n",
       "      <td>184</td>\n",
       "    </tr>\n",
       "    <tr>\n",
       "      <th>1</th>\n",
       "      <td>3.66</td>\n",
       "      <td>1.32</td>\n",
       "      <td>91</td>\n",
       "    </tr>\n",
       "    <tr>\n",
       "      <th>2</th>\n",
       "      <td>28.78</td>\n",
       "      <td>22.09</td>\n",
       "      <td>426</td>\n",
       "    </tr>\n",
       "    <tr>\n",
       "      <th>3</th>\n",
       "      <td>4.12</td>\n",
       "      <td>10.74</td>\n",
       "      <td>72</td>\n",
       "    </tr>\n",
       "    <tr>\n",
       "      <th>4</th>\n",
       "      <td>2.89</td>\n",
       "      <td>1.16</td>\n",
       "      <td>46</td>\n",
       "    </tr>\n",
       "  </tbody>\n",
       "</table>\n",
       "</div>"
      ],
      "text/plain": [
       "   output  capital  labour\n",
       "0    9.25     2.61     184\n",
       "1    3.66     1.32      91\n",
       "2   28.78    22.09     426\n",
       "3    4.12    10.74      72\n",
       "4    2.89     1.16      46"
      ]
     },
     "execution_count": 12,
     "metadata": {},
     "output_type": "execute_result"
    }
   ],
   "source": [
    "df = pd.read_csv(io.StringIO(data), sep= '\\s+')\n",
    "df "
   ]
  },
  {
   "cell_type": "code",
   "execution_count": 13,
   "id": "121c3366",
   "metadata": {},
   "outputs": [
    {
     "data": {
      "text/html": [
       "<div>\n",
       "<style scoped>\n",
       "    .dataframe tbody tr th:only-of-type {\n",
       "        vertical-align: middle;\n",
       "    }\n",
       "\n",
       "    .dataframe tbody tr th {\n",
       "        vertical-align: top;\n",
       "    }\n",
       "\n",
       "    .dataframe thead th {\n",
       "        text-align: right;\n",
       "    }\n",
       "</style>\n",
       "<table border=\"1\" class=\"dataframe\">\n",
       "  <thead>\n",
       "    <tr style=\"text-align: right;\">\n",
       "      <th></th>\n",
       "      <th>output</th>\n",
       "      <th>capital</th>\n",
       "      <th>labour</th>\n",
       "      <th>pred</th>\n",
       "    </tr>\n",
       "  </thead>\n",
       "  <tbody>\n",
       "    <tr>\n",
       "      <th>0</th>\n",
       "      <td>9.25</td>\n",
       "      <td>2.61</td>\n",
       "      <td>184</td>\n",
       "      <td>2.194068</td>\n",
       "    </tr>\n",
       "    <tr>\n",
       "      <th>1</th>\n",
       "      <td>3.66</td>\n",
       "      <td>1.32</td>\n",
       "      <td>91</td>\n",
       "      <td>1.551013</td>\n",
       "    </tr>\n",
       "    <tr>\n",
       "      <th>2</th>\n",
       "      <td>28.78</td>\n",
       "      <td>22.09</td>\n",
       "      <td>426</td>\n",
       "      <td>3.238628</td>\n",
       "    </tr>\n",
       "    <tr>\n",
       "      <th>3</th>\n",
       "      <td>4.12</td>\n",
       "      <td>10.74</td>\n",
       "      <td>72</td>\n",
       "      <td>1.824968</td>\n",
       "    </tr>\n",
       "    <tr>\n",
       "      <th>4</th>\n",
       "      <td>2.89</td>\n",
       "      <td>1.16</td>\n",
       "      <td>46</td>\n",
       "      <td>1.039504</td>\n",
       "    </tr>\n",
       "  </tbody>\n",
       "</table>\n",
       "</div>"
      ],
      "text/plain": [
       "   output  capital  labour      pred\n",
       "0    9.25     2.61     184  2.194068\n",
       "1    3.66     1.32      91  1.551013\n",
       "2   28.78    22.09     426  3.238628\n",
       "3    4.12    10.74      72  1.824968\n",
       "4    2.89     1.16      46  1.039504"
      ]
     },
     "execution_count": 13,
     "metadata": {},
     "output_type": "execute_result"
    }
   ],
   "source": [
    "df ['pred'] = -1.71 + np.log(df['capital'])*0.21 + np.log(df['labour'])*0.71 \n",
    "df"
   ]
  },
  {
   "cell_type": "code",
   "execution_count": 20,
   "id": "758ccf61",
   "metadata": {},
   "outputs": [
    {
     "data": {
      "text/html": [
       "<div>\n",
       "<style scoped>\n",
       "    .dataframe tbody tr th:only-of-type {\n",
       "        vertical-align: middle;\n",
       "    }\n",
       "\n",
       "    .dataframe tbody tr th {\n",
       "        vertical-align: top;\n",
       "    }\n",
       "\n",
       "    .dataframe thead th {\n",
       "        text-align: right;\n",
       "    }\n",
       "</style>\n",
       "<table border=\"1\" class=\"dataframe\">\n",
       "  <thead>\n",
       "    <tr style=\"text-align: right;\">\n",
       "      <th></th>\n",
       "      <th>output</th>\n",
       "      <th>capital</th>\n",
       "      <th>labour</th>\n",
       "      <th>pred</th>\n",
       "      <th>residual</th>\n",
       "    </tr>\n",
       "  </thead>\n",
       "  <tbody>\n",
       "    <tr>\n",
       "      <th>0</th>\n",
       "      <td>9.25</td>\n",
       "      <td>2.61</td>\n",
       "      <td>184</td>\n",
       "      <td>2.194068</td>\n",
       "      <td>181.805932</td>\n",
       "    </tr>\n",
       "    <tr>\n",
       "      <th>1</th>\n",
       "      <td>3.66</td>\n",
       "      <td>1.32</td>\n",
       "      <td>91</td>\n",
       "      <td>1.551013</td>\n",
       "      <td>89.448987</td>\n",
       "    </tr>\n",
       "    <tr>\n",
       "      <th>2</th>\n",
       "      <td>28.78</td>\n",
       "      <td>22.09</td>\n",
       "      <td>426</td>\n",
       "      <td>3.238628</td>\n",
       "      <td>422.761372</td>\n",
       "    </tr>\n",
       "    <tr>\n",
       "      <th>3</th>\n",
       "      <td>4.12</td>\n",
       "      <td>10.74</td>\n",
       "      <td>72</td>\n",
       "      <td>1.824968</td>\n",
       "      <td>70.175032</td>\n",
       "    </tr>\n",
       "    <tr>\n",
       "      <th>4</th>\n",
       "      <td>2.89</td>\n",
       "      <td>1.16</td>\n",
       "      <td>46</td>\n",
       "      <td>1.039504</td>\n",
       "      <td>44.960496</td>\n",
       "    </tr>\n",
       "  </tbody>\n",
       "</table>\n",
       "</div>"
      ],
      "text/plain": [
       "   output  capital  labour      pred    residual\n",
       "0    9.25     2.61     184  2.194068  181.805932\n",
       "1    3.66     1.32      91  1.551013   89.448987\n",
       "2   28.78    22.09     426  3.238628  422.761372\n",
       "3    4.12    10.74      72  1.824968   70.175032\n",
       "4    2.89     1.16      46  1.039504   44.960496"
      ]
     },
     "execution_count": 20,
     "metadata": {},
     "output_type": "execute_result"
    }
   ],
   "source": [
    "df ['residual'] = df ['labour'] - df ['pred'] \n",
    "df   "
   ]
  },
  {
   "cell_type": "markdown",
   "id": "da6a9a3b",
   "metadata": {},
   "source": [
    "# 1.2.1 "
   ]
  },
  {
   "cell_type": "code",
   "execution_count": 22,
   "id": "2a7affcf",
   "metadata": {},
   "outputs": [],
   "source": [
    "TSS = 100.35\n",
    "ESS = 47.56  "
   ]
  },
  {
   "cell_type": "code",
   "execution_count": 23,
   "id": "335d06dc",
   "metadata": {},
   "outputs": [
    {
     "data": {
      "text/plain": [
       "52.78999999999999"
      ]
     },
     "execution_count": 23,
     "metadata": {},
     "output_type": "execute_result"
    }
   ],
   "source": [
    "RSS = TSS - ESS\n",
    "RSS "
   ]
  },
  {
   "cell_type": "code",
   "execution_count": 24,
   "id": "b714300e",
   "metadata": {},
   "outputs": [
    {
     "data": {
      "text/plain": [
       "0.47394120577977084"
      ]
     },
     "execution_count": 24,
     "metadata": {},
     "output_type": "execute_result"
    }
   ],
   "source": [
    "R2 = ESS/TSS\n",
    "R2 "
   ]
  },
  {
   "cell_type": "markdown",
   "id": "92979efd",
   "metadata": {},
   "source": [
    "# 1.2.2 "
   ]
  },
  {
   "cell_type": "code",
   "execution_count": 25,
   "id": "27d8534a",
   "metadata": {},
   "outputs": [],
   "source": [
    "TSS = 240.82\n",
    "RSS = 93.52 "
   ]
  },
  {
   "cell_type": "code",
   "execution_count": 26,
   "id": "25b7b430",
   "metadata": {},
   "outputs": [
    {
     "data": {
      "text/plain": [
       "147.3"
      ]
     },
     "execution_count": 26,
     "metadata": {},
     "output_type": "execute_result"
    }
   ],
   "source": [
    "ESS = TSS - RSS \n",
    "ESS "
   ]
  },
  {
   "cell_type": "code",
   "execution_count": 27,
   "id": "f3f402b1",
   "metadata": {},
   "outputs": [
    {
     "data": {
      "text/plain": [
       "0.6116601611161864"
      ]
     },
     "execution_count": 27,
     "metadata": {},
     "output_type": "execute_result"
    }
   ],
   "source": [
    "R2 = ESS/TSS\n",
    "R2 "
   ]
  },
  {
   "cell_type": "markdown",
   "id": "511b2787",
   "metadata": {},
   "source": [
    "# 1.2.3 "
   ]
  },
  {
   "cell_type": "code",
   "execution_count": 28,
   "id": "a99c4ab2",
   "metadata": {},
   "outputs": [],
   "source": [
    "ESS = 418.38\n",
    "RSS = 782.83 "
   ]
  },
  {
   "cell_type": "code",
   "execution_count": 29,
   "id": "896fc158",
   "metadata": {},
   "outputs": [
    {
     "data": {
      "text/plain": [
       "1201.21"
      ]
     },
     "execution_count": 29,
     "metadata": {},
     "output_type": "execute_result"
    }
   ],
   "source": [
    "TSS = RSS + ESS \n",
    "TSS "
   ]
  },
  {
   "cell_type": "code",
   "execution_count": 30,
   "id": "456da3b9",
   "metadata": {},
   "outputs": [
    {
     "data": {
      "text/plain": [
       "0.34829879871129943"
      ]
     },
     "execution_count": 30,
     "metadata": {},
     "output_type": "execute_result"
    }
   ],
   "source": [
    "R2 = ESS/TSS \n",
    "R2"
   ]
  },
  {
   "cell_type": "markdown",
   "id": "68987bf6",
   "metadata": {},
   "source": [
    "# 1.2.4  "
   ]
  },
  {
   "cell_type": "code",
   "execution_count": 31,
   "id": "50fdc69c",
   "metadata": {},
   "outputs": [],
   "source": [
    "import pandas as pd\n",
    "import numpy as np\n",
    "import io\n",
    "import statsmodels.formula.api as smf "
   ]
  },
  {
   "cell_type": "code",
   "execution_count": 33,
   "id": "affa63c5",
   "metadata": {},
   "outputs": [],
   "source": [
    "data_string='''residual\n",
    "-0.24\n",
    "0.41\n",
    "1.22\n",
    "-0.93\n",
    "-0.37\n",
    "-1.33\n",
    "0.16\n",
    "-0.27\n",
    "0.06\n",
    "1.29''' "
   ]
  },
  {
   "cell_type": "code",
   "execution_count": 34,
   "id": "1f4d856f",
   "metadata": {},
   "outputs": [
    {
     "data": {
      "text/plain": [
       "'output capital labour\\n9.25    2.61    184  \\n3.66    1.32     91  \\n28.78   22.09   426  \\n4.12    10.74    72  \\n2.89    1.16     46'"
      ]
     },
     "execution_count": 34,
     "metadata": {},
     "output_type": "execute_result"
    }
   ],
   "source": [
    "data "
   ]
  },
  {
   "cell_type": "code",
   "execution_count": 35,
   "id": "9885f2e4",
   "metadata": {},
   "outputs": [
    {
     "data": {
      "text/html": [
       "<div>\n",
       "<style scoped>\n",
       "    .dataframe tbody tr th:only-of-type {\n",
       "        vertical-align: middle;\n",
       "    }\n",
       "\n",
       "    .dataframe tbody tr th {\n",
       "        vertical-align: top;\n",
       "    }\n",
       "\n",
       "    .dataframe thead th {\n",
       "        text-align: right;\n",
       "    }\n",
       "</style>\n",
       "<table border=\"1\" class=\"dataframe\">\n",
       "  <thead>\n",
       "    <tr style=\"text-align: right;\">\n",
       "      <th></th>\n",
       "      <th>residual</th>\n",
       "    </tr>\n",
       "  </thead>\n",
       "  <tbody>\n",
       "    <tr>\n",
       "      <th>0</th>\n",
       "      <td>-0.24</td>\n",
       "    </tr>\n",
       "    <tr>\n",
       "      <th>1</th>\n",
       "      <td>0.41</td>\n",
       "    </tr>\n",
       "    <tr>\n",
       "      <th>2</th>\n",
       "      <td>1.22</td>\n",
       "    </tr>\n",
       "    <tr>\n",
       "      <th>3</th>\n",
       "      <td>-0.93</td>\n",
       "    </tr>\n",
       "    <tr>\n",
       "      <th>4</th>\n",
       "      <td>-0.37</td>\n",
       "    </tr>\n",
       "    <tr>\n",
       "      <th>5</th>\n",
       "      <td>-1.33</td>\n",
       "    </tr>\n",
       "    <tr>\n",
       "      <th>6</th>\n",
       "      <td>0.16</td>\n",
       "    </tr>\n",
       "    <tr>\n",
       "      <th>7</th>\n",
       "      <td>-0.27</td>\n",
       "    </tr>\n",
       "    <tr>\n",
       "      <th>8</th>\n",
       "      <td>0.06</td>\n",
       "    </tr>\n",
       "    <tr>\n",
       "      <th>9</th>\n",
       "      <td>1.29</td>\n",
       "    </tr>\n",
       "  </tbody>\n",
       "</table>\n",
       "</div>"
      ],
      "text/plain": [
       "   residual\n",
       "0     -0.24\n",
       "1      0.41\n",
       "2      1.22\n",
       "3     -0.93\n",
       "4     -0.37\n",
       "5     -1.33\n",
       "6      0.16\n",
       "7     -0.27\n",
       "8      0.06\n",
       "9      1.29"
      ]
     },
     "execution_count": 35,
     "metadata": {},
     "output_type": "execute_result"
    }
   ],
   "source": [
    "df = pd.read_csv(io.StringIO(data_string), sep='\\s+')\n",
    "df  "
   ]
  },
  {
   "cell_type": "code",
   "execution_count": 36,
   "id": "1302fcd9",
   "metadata": {},
   "outputs": [
    {
     "data": {
      "text/html": [
       "<div>\n",
       "<style scoped>\n",
       "    .dataframe tbody tr th:only-of-type {\n",
       "        vertical-align: middle;\n",
       "    }\n",
       "\n",
       "    .dataframe tbody tr th {\n",
       "        vertical-align: top;\n",
       "    }\n",
       "\n",
       "    .dataframe thead th {\n",
       "        text-align: right;\n",
       "    }\n",
       "</style>\n",
       "<table border=\"1\" class=\"dataframe\">\n",
       "  <thead>\n",
       "    <tr style=\"text-align: right;\">\n",
       "      <th></th>\n",
       "      <th>residual</th>\n",
       "      <th>residual^2</th>\n",
       "    </tr>\n",
       "  </thead>\n",
       "  <tbody>\n",
       "    <tr>\n",
       "      <th>0</th>\n",
       "      <td>-0.24</td>\n",
       "      <td>0.0576</td>\n",
       "    </tr>\n",
       "    <tr>\n",
       "      <th>1</th>\n",
       "      <td>0.41</td>\n",
       "      <td>0.1681</td>\n",
       "    </tr>\n",
       "    <tr>\n",
       "      <th>2</th>\n",
       "      <td>1.22</td>\n",
       "      <td>1.4884</td>\n",
       "    </tr>\n",
       "    <tr>\n",
       "      <th>3</th>\n",
       "      <td>-0.93</td>\n",
       "      <td>0.8649</td>\n",
       "    </tr>\n",
       "    <tr>\n",
       "      <th>4</th>\n",
       "      <td>-0.37</td>\n",
       "      <td>0.1369</td>\n",
       "    </tr>\n",
       "    <tr>\n",
       "      <th>5</th>\n",
       "      <td>-1.33</td>\n",
       "      <td>1.7689</td>\n",
       "    </tr>\n",
       "    <tr>\n",
       "      <th>6</th>\n",
       "      <td>0.16</td>\n",
       "      <td>0.0256</td>\n",
       "    </tr>\n",
       "    <tr>\n",
       "      <th>7</th>\n",
       "      <td>-0.27</td>\n",
       "      <td>0.0729</td>\n",
       "    </tr>\n",
       "    <tr>\n",
       "      <th>8</th>\n",
       "      <td>0.06</td>\n",
       "      <td>0.0036</td>\n",
       "    </tr>\n",
       "    <tr>\n",
       "      <th>9</th>\n",
       "      <td>1.29</td>\n",
       "      <td>1.6641</td>\n",
       "    </tr>\n",
       "  </tbody>\n",
       "</table>\n",
       "</div>"
      ],
      "text/plain": [
       "   residual  residual^2\n",
       "0     -0.24      0.0576\n",
       "1      0.41      0.1681\n",
       "2      1.22      1.4884\n",
       "3     -0.93      0.8649\n",
       "4     -0.37      0.1369\n",
       "5     -1.33      1.7689\n",
       "6      0.16      0.0256\n",
       "7     -0.27      0.0729\n",
       "8      0.06      0.0036\n",
       "9      1.29      1.6641"
      ]
     },
     "execution_count": 36,
     "metadata": {},
     "output_type": "execute_result"
    }
   ],
   "source": [
    "регресионные остататки\n",
    "df['residual^2'] = df['residual']**2\n",
    "df "
   ]
  },
  {
   "cell_type": "code",
   "execution_count": 37,
   "id": "e45eb5c1",
   "metadata": {},
   "outputs": [
    {
     "data": {
      "text/plain": [
       "residual^2    6.251\n",
       "dtype: float64"
      ]
     },
     "execution_count": 37,
     "metadata": {},
     "output_type": "execute_result"
    }
   ],
   "source": [
    "сумма квадратов остатков \n",
    "df[['residual^2']].sum(axis=0) "
   ]
  },
  {
   "cell_type": "code",
   "execution_count": 38,
   "id": "06a943ac",
   "metadata": {},
   "outputs": [
    {
     "data": {
      "text/plain": [
       "0.94"
      ]
     },
     "execution_count": 38,
     "metadata": {},
     "output_type": "execute_result"
    }
   ],
   "source": [
    "n=10\n",
    "k=2\n",
    "s=np.sqrt(6.25/(n-k-1))\n",
    "round(s,2) "
   ]
  },
  {
   "cell_type": "markdown",
   "id": "a2e9f274",
   "metadata": {},
   "source": [
    "# RSS = 6.251; s = 0.94 "
   ]
  },
  {
   "cell_type": "markdown",
   "id": "6c8806f7",
   "metadata": {},
   "source": [
    "# 1.2.5 "
   ]
  },
  {
   "cell_type": "code",
   "execution_count": 39,
   "id": "fe69ad90",
   "metadata": {},
   "outputs": [],
   "source": [
    "import pandas as pd\n",
    "import numpy as np\n",
    "import io\n",
    "import statsmodels.formula.api as smf "
   ]
  },
  {
   "cell_type": "code",
   "execution_count": 40,
   "id": "890bbe1c",
   "metadata": {},
   "outputs": [
    {
     "data": {
      "text/plain": [
       "'output capital labour\\n9.25    2.61    184  \\n3.66    1.32     91  \\n28.78   22.09   426  \\n4.12    10.74    72  \\n2.89    1.16     46'"
      ]
     },
     "execution_count": 40,
     "metadata": {},
     "output_type": "execute_result"
    }
   ],
   "source": [
    "data_string='''sleep/60 totwrk age y.hat\n",
    "51.88     3438  32  51.00\n",
    "48.67     5020  31  44.43\n",
    "44.50     2815  44  53.72\n",
    "51.38     3786  30  49.53\n",
    "57.47     2580  64  54.92\n",
    "67.72     1205  41  60.36\n",
    "53        2113  35  56.53\n",
    "48.80     3608  47  50.46\n",
    "56.13     2353  32  55.50\n",
    "50.30     2851  30  53.41''' \n",
    "data "
   ]
  },
  {
   "cell_type": "code",
   "execution_count": 41,
   "id": "6937a016",
   "metadata": {},
   "outputs": [
    {
     "data": {
      "text/html": [
       "<div>\n",
       "<style scoped>\n",
       "    .dataframe tbody tr th:only-of-type {\n",
       "        vertical-align: middle;\n",
       "    }\n",
       "\n",
       "    .dataframe tbody tr th {\n",
       "        vertical-align: top;\n",
       "    }\n",
       "\n",
       "    .dataframe thead th {\n",
       "        text-align: right;\n",
       "    }\n",
       "</style>\n",
       "<table border=\"1\" class=\"dataframe\">\n",
       "  <thead>\n",
       "    <tr style=\"text-align: right;\">\n",
       "      <th></th>\n",
       "      <th>sleep/60</th>\n",
       "      <th>totwrk</th>\n",
       "      <th>age</th>\n",
       "      <th>y.hat</th>\n",
       "    </tr>\n",
       "  </thead>\n",
       "  <tbody>\n",
       "    <tr>\n",
       "      <th>0</th>\n",
       "      <td>51.88</td>\n",
       "      <td>3438</td>\n",
       "      <td>32</td>\n",
       "      <td>51.00</td>\n",
       "    </tr>\n",
       "    <tr>\n",
       "      <th>1</th>\n",
       "      <td>48.67</td>\n",
       "      <td>5020</td>\n",
       "      <td>31</td>\n",
       "      <td>44.43</td>\n",
       "    </tr>\n",
       "    <tr>\n",
       "      <th>2</th>\n",
       "      <td>44.50</td>\n",
       "      <td>2815</td>\n",
       "      <td>44</td>\n",
       "      <td>53.72</td>\n",
       "    </tr>\n",
       "    <tr>\n",
       "      <th>3</th>\n",
       "      <td>51.38</td>\n",
       "      <td>3786</td>\n",
       "      <td>30</td>\n",
       "      <td>49.53</td>\n",
       "    </tr>\n",
       "    <tr>\n",
       "      <th>4</th>\n",
       "      <td>57.47</td>\n",
       "      <td>2580</td>\n",
       "      <td>64</td>\n",
       "      <td>54.92</td>\n",
       "    </tr>\n",
       "    <tr>\n",
       "      <th>5</th>\n",
       "      <td>67.72</td>\n",
       "      <td>1205</td>\n",
       "      <td>41</td>\n",
       "      <td>60.36</td>\n",
       "    </tr>\n",
       "    <tr>\n",
       "      <th>6</th>\n",
       "      <td>53.00</td>\n",
       "      <td>2113</td>\n",
       "      <td>35</td>\n",
       "      <td>56.53</td>\n",
       "    </tr>\n",
       "    <tr>\n",
       "      <th>7</th>\n",
       "      <td>48.80</td>\n",
       "      <td>3608</td>\n",
       "      <td>47</td>\n",
       "      <td>50.46</td>\n",
       "    </tr>\n",
       "    <tr>\n",
       "      <th>8</th>\n",
       "      <td>56.13</td>\n",
       "      <td>2353</td>\n",
       "      <td>32</td>\n",
       "      <td>55.50</td>\n",
       "    </tr>\n",
       "    <tr>\n",
       "      <th>9</th>\n",
       "      <td>50.30</td>\n",
       "      <td>2851</td>\n",
       "      <td>30</td>\n",
       "      <td>53.41</td>\n",
       "    </tr>\n",
       "  </tbody>\n",
       "</table>\n",
       "</div>"
      ],
      "text/plain": [
       "   sleep/60  totwrk  age  y.hat\n",
       "0     51.88    3438   32  51.00\n",
       "1     48.67    5020   31  44.43\n",
       "2     44.50    2815   44  53.72\n",
       "3     51.38    3786   30  49.53\n",
       "4     57.47    2580   64  54.92\n",
       "5     67.72    1205   41  60.36\n",
       "6     53.00    2113   35  56.53\n",
       "7     48.80    3608   47  50.46\n",
       "8     56.13    2353   32  55.50\n",
       "9     50.30    2851   30  53.41"
      ]
     },
     "execution_count": 41,
     "metadata": {},
     "output_type": "execute_result"
    }
   ],
   "source": [
    "df = pd.read_csv(io.StringIO(data_string), sep='\\s+')\n",
    "df "
   ]
  },
  {
   "cell_type": "code",
   "execution_count": 42,
   "id": "4ab1a86a",
   "metadata": {},
   "outputs": [
    {
     "data": {
      "text/plain": [
       "366.26"
      ]
     },
     "execution_count": 42,
     "metadata": {},
     "output_type": "execute_result"
    }
   ],
   "source": [
    "Tss\n",
    "TSS = ((df['sleep/60'] - np.mean(df['sleep/60']))**2).sum()\n",
    "TSS.round(2) "
   ]
  },
  {
   "cell_type": "code",
   "execution_count": 43,
   "id": "4b5b7fe3",
   "metadata": {},
   "outputs": [
    {
     "data": {
      "text/plain": [
       "193.14"
      ]
     },
     "execution_count": 43,
     "metadata": {},
     "output_type": "execute_result"
    }
   ],
   "source": [
    "Rss\n",
    "RSS = ((df['sleep/60'] - df['y.hat'])**2).sum()\n",
    "RSS.round(2)"
   ]
  },
  {
   "cell_type": "code",
   "execution_count": 44,
   "id": "917b7212",
   "metadata": {},
   "outputs": [
    {
     "data": {
      "text/plain": [
       "173.19"
      ]
     },
     "execution_count": 44,
     "metadata": {},
     "output_type": "execute_result"
    }
   ],
   "source": [
    "Ess\n",
    "ESS = ((df['y.hat'] - np.mean(df['sleep/60']))**2).sum()\n",
    "ESS.round(2) "
   ]
  },
  {
   "cell_type": "markdown",
   "id": "b86279f8",
   "metadata": {},
   "source": [
    "# TSS=366.26; RSS = 193.14; ESS = 173.19 "
   ]
  },
  {
   "cell_type": "markdown",
   "id": "d02320bc",
   "metadata": {},
   "source": [
    "# 1.2.6 "
   ]
  },
  {
   "cell_type": "code",
   "execution_count": 45,
   "id": "68f9ff12",
   "metadata": {},
   "outputs": [],
   "source": [
    "import pandas as pd\n",
    "import numpy as np\n",
    "import io\n",
    "import statsmodels.formula.api as smf"
   ]
  },
  {
   "cell_type": "code",
   "execution_count": 46,
   "id": "73d3029b",
   "metadata": {},
   "outputs": [
    {
     "data": {
      "text/plain": [
       "'output capital labour\\n9.25    2.61    184  \\n3.66    1.32     91  \\n28.78   22.09   426  \\n4.12    10.74    72  \\n2.89    1.16     46'"
      ]
     },
     "execution_count": 46,
     "metadata": {},
     "output_type": "execute_result"
    }
   ],
   "source": [
    "data_string='''log(output) log(capital) log(labour) y.hat\n",
    "2.22            0.96        5.21     2.19 \n",
    "1.30            0.28        4.51     1.47 \n",
    "3.36            3.10        6.05     3.23 \n",
    "1.42            2.37        4.28     1.56 \n",
    "1.06            0.15        3.83     0.85 \n",
    "6.17            5.62        8.94     6.15 \n",
    "0.77            0.52        3.87     0.94 \n",
    "1.42            0.15        4.68     1.61 \n",
    "0.90           -0.13        3.56     0.57 \n",
    "1.35            1.25        4.28     1.40'''\n",
    "data "
   ]
  },
  {
   "cell_type": "code",
   "execution_count": 47,
   "id": "1a5eb350",
   "metadata": {},
   "outputs": [
    {
     "data": {
      "text/html": [
       "<div>\n",
       "<style scoped>\n",
       "    .dataframe tbody tr th:only-of-type {\n",
       "        vertical-align: middle;\n",
       "    }\n",
       "\n",
       "    .dataframe tbody tr th {\n",
       "        vertical-align: top;\n",
       "    }\n",
       "\n",
       "    .dataframe thead th {\n",
       "        text-align: right;\n",
       "    }\n",
       "</style>\n",
       "<table border=\"1\" class=\"dataframe\">\n",
       "  <thead>\n",
       "    <tr style=\"text-align: right;\">\n",
       "      <th></th>\n",
       "      <th>log(output)</th>\n",
       "      <th>log(capital)</th>\n",
       "      <th>log(labour)</th>\n",
       "      <th>y.hat</th>\n",
       "    </tr>\n",
       "  </thead>\n",
       "  <tbody>\n",
       "    <tr>\n",
       "      <th>0</th>\n",
       "      <td>2.22</td>\n",
       "      <td>0.96</td>\n",
       "      <td>5.21</td>\n",
       "      <td>2.19</td>\n",
       "    </tr>\n",
       "    <tr>\n",
       "      <th>1</th>\n",
       "      <td>1.30</td>\n",
       "      <td>0.28</td>\n",
       "      <td>4.51</td>\n",
       "      <td>1.47</td>\n",
       "    </tr>\n",
       "    <tr>\n",
       "      <th>2</th>\n",
       "      <td>3.36</td>\n",
       "      <td>3.10</td>\n",
       "      <td>6.05</td>\n",
       "      <td>3.23</td>\n",
       "    </tr>\n",
       "    <tr>\n",
       "      <th>3</th>\n",
       "      <td>1.42</td>\n",
       "      <td>2.37</td>\n",
       "      <td>4.28</td>\n",
       "      <td>1.56</td>\n",
       "    </tr>\n",
       "    <tr>\n",
       "      <th>4</th>\n",
       "      <td>1.06</td>\n",
       "      <td>0.15</td>\n",
       "      <td>3.83</td>\n",
       "      <td>0.85</td>\n",
       "    </tr>\n",
       "    <tr>\n",
       "      <th>5</th>\n",
       "      <td>6.17</td>\n",
       "      <td>5.62</td>\n",
       "      <td>8.94</td>\n",
       "      <td>6.15</td>\n",
       "    </tr>\n",
       "    <tr>\n",
       "      <th>6</th>\n",
       "      <td>0.77</td>\n",
       "      <td>0.52</td>\n",
       "      <td>3.87</td>\n",
       "      <td>0.94</td>\n",
       "    </tr>\n",
       "    <tr>\n",
       "      <th>7</th>\n",
       "      <td>1.42</td>\n",
       "      <td>0.15</td>\n",
       "      <td>4.68</td>\n",
       "      <td>1.61</td>\n",
       "    </tr>\n",
       "    <tr>\n",
       "      <th>8</th>\n",
       "      <td>0.90</td>\n",
       "      <td>-0.13</td>\n",
       "      <td>3.56</td>\n",
       "      <td>0.57</td>\n",
       "    </tr>\n",
       "    <tr>\n",
       "      <th>9</th>\n",
       "      <td>1.35</td>\n",
       "      <td>1.25</td>\n",
       "      <td>4.28</td>\n",
       "      <td>1.40</td>\n",
       "    </tr>\n",
       "  </tbody>\n",
       "</table>\n",
       "</div>"
      ],
      "text/plain": [
       "   log(output)  log(capital)  log(labour)  y.hat\n",
       "0         2.22          0.96         5.21   2.19\n",
       "1         1.30          0.28         4.51   1.47\n",
       "2         3.36          3.10         6.05   3.23\n",
       "3         1.42          2.37         4.28   1.56\n",
       "4         1.06          0.15         3.83   0.85\n",
       "5         6.17          5.62         8.94   6.15\n",
       "6         0.77          0.52         3.87   0.94\n",
       "7         1.42          0.15         4.68   1.61\n",
       "8         0.90         -0.13         3.56   0.57\n",
       "9         1.35          1.25         4.28   1.40"
      ]
     },
     "execution_count": 47,
     "metadata": {},
     "output_type": "execute_result"
    }
   ],
   "source": [
    "df = pd.read_csv(io.StringIO(data_string), sep='\\s+')\n",
    "df"
   ]
  },
  {
   "cell_type": "code",
   "execution_count": 48,
   "id": "739c00a7",
   "metadata": {},
   "outputs": [
    {
     "data": {
      "text/plain": [
       "24.48"
      ]
     },
     "execution_count": 48,
     "metadata": {},
     "output_type": "execute_result"
    }
   ],
   "source": [
    "Общая сумма квадратов:\n",
    "TSS = ((df['log(output)'] - np.mean(df['log(output)']))**2).sum()\n",
    "TSS.round(2) "
   ]
  },
  {
   "cell_type": "code",
   "execution_count": 49,
   "id": "5be299f7",
   "metadata": {},
   "outputs": [
    {
     "data": {
      "text/plain": [
       "24.25"
      ]
     },
     "execution_count": 49,
     "metadata": {},
     "output_type": "execute_result"
    }
   ],
   "source": [
    "Объясненная сумма квадратов:\n",
    "ESS = ((df['y.hat'] - np.mean(df['log(output)']))**2).sum()\n",
    "ESS.round(2) "
   ]
  },
  {
   "cell_type": "code",
   "execution_count": 50,
   "id": "36552c12",
   "metadata": {},
   "outputs": [
    {
     "data": {
      "text/plain": [
       "0.29"
      ]
     },
     "execution_count": 50,
     "metadata": {},
     "output_type": "execute_result"
    }
   ],
   "source": [
    "Остаточная сумма квадртов:\n",
    "RSS = ((df['log(output)'] - df['y.hat'])**2).sum()\n",
    "RSS.round(2) "
   ]
  },
  {
   "cell_type": "markdown",
   "id": "adbc997f",
   "metadata": {},
   "source": [
    "# TSS=24.48; ESS=24.25; RSS=0.29"
   ]
  },
  {
   "cell_type": "markdown",
   "id": "b51e3aed",
   "metadata": {},
   "source": [
    "# 1.2.7 "
   ]
  },
  {
   "cell_type": "code",
   "execution_count": 51,
   "id": "ed199932",
   "metadata": {},
   "outputs": [],
   "source": [
    "import pandas as pd\n",
    "import numpy as np\n",
    "import io\n",
    "import statsmodels.formula.api as smf "
   ]
  },
  {
   "cell_type": "code",
   "execution_count": 52,
   "id": "adb8c7de",
   "metadata": {},
   "outputs": [],
   "source": [
    "n=935\n",
    "k=5\n",
    "s=0.378 "
   ]
  },
  {
   "cell_type": "code",
   "execution_count": 53,
   "id": "a5792cbc",
   "metadata": {},
   "outputs": [
    {
     "data": {
      "text/plain": [
       "132.739"
      ]
     },
     "execution_count": 53,
     "metadata": {},
     "output_type": "execute_result"
    }
   ],
   "source": [
    "RSS=(n-k-1)*(s**2)\n",
    "round(RSS,3) "
   ]
  },
  {
   "cell_type": "markdown",
   "id": "ae3359f9",
   "metadata": {},
   "source": [
    "# 1.2.8 "
   ]
  },
  {
   "cell_type": "code",
   "execution_count": 54,
   "id": "558f79db",
   "metadata": {},
   "outputs": [],
   "source": [
    "import pandas as pd\n",
    "import numpy as np\n",
    "import io\n",
    "import statsmodels.formula.api as smf "
   ]
  },
  {
   "cell_type": "code",
   "execution_count": 56,
   "id": "8d0f537b",
   "metadata": {},
   "outputs": [],
   "source": [
    "n=935\n",
    "k=4\n",
    "s=0.383\n",
    "R2=0.178 "
   ]
  },
  {
   "cell_type": "code",
   "execution_count": 57,
   "id": "c11452e2",
   "metadata": {},
   "outputs": [
    {
     "data": {
      "text/plain": [
       "165.962"
      ]
     },
     "execution_count": 57,
     "metadata": {},
     "output_type": "execute_result"
    }
   ],
   "source": [
    "TSS=((n-k-1)*s**2)/(1-R2)\n",
    "round(TSS,3) "
   ]
  },
  {
   "cell_type": "markdown",
   "id": "1d375e00",
   "metadata": {},
   "source": [
    "# 1.2.9 "
   ]
  },
  {
   "cell_type": "code",
   "execution_count": 58,
   "id": "3634dcbd",
   "metadata": {},
   "outputs": [],
   "source": [
    "import pandas as pd\n",
    "import numpy as np\n",
    "import io\n",
    "import statsmodels.formula.api as smf "
   ]
  },
  {
   "cell_type": "code",
   "execution_count": 59,
   "id": "20d72eac",
   "metadata": {},
   "outputs": [],
   "source": [
    "n = 935\n",
    "k = 4\n",
    "s = 0.389\n",
    "R2 = 0.146"
   ]
  },
  {
   "cell_type": "code",
   "execution_count": 60,
   "id": "159dac51",
   "metadata": {},
   "outputs": [
    {
     "data": {
      "text/plain": [
       "140.729"
      ]
     },
     "execution_count": 60,
     "metadata": {},
     "output_type": "execute_result"
    }
   ],
   "source": [
    "RSS=(n-k-1)*(s**2)\n",
    "round(RSS,3) "
   ]
  },
  {
   "cell_type": "code",
   "execution_count": 61,
   "id": "8d948a9a",
   "metadata": {},
   "outputs": [
    {
     "data": {
      "text/plain": [
       "164.788"
      ]
     },
     "execution_count": 61,
     "metadata": {},
     "output_type": "execute_result"
    }
   ],
   "source": [
    "TSS=((n-k-1)*s**2)/(1-R2)\n",
    "round(TSS,3) "
   ]
  },
  {
   "cell_type": "code",
   "execution_count": 62,
   "id": "78db7ce7",
   "metadata": {},
   "outputs": [
    {
     "data": {
      "text/plain": [
       "24.059"
      ]
     },
     "execution_count": 62,
     "metadata": {},
     "output_type": "execute_result"
    }
   ],
   "source": [
    "ESS=TSS-RSS\n",
    "round(ESS,3) "
   ]
  },
  {
   "cell_type": "markdown",
   "id": "84ac23b2",
   "metadata": {},
   "source": [
    "# 2.1 "
   ]
  },
  {
   "cell_type": "code",
   "execution_count": 63,
   "id": "c4bcd568",
   "metadata": {},
   "outputs": [],
   "source": [
    "import pandas as pd\n",
    "import numpy as np\n",
    "import io\n",
    "import statsmodels.formula.api as smf "
   ]
  },
  {
   "cell_type": "code",
   "execution_count": 64,
   "id": "245f0f09",
   "metadata": {},
   "outputs": [],
   "source": [
    "n=526 \n",
    "k=5 \n",
    "R2=0.288 "
   ]
  },
  {
   "cell_type": "code",
   "execution_count": 65,
   "id": "de091bf6",
   "metadata": {},
   "outputs": [
    {
     "data": {
      "text/plain": [
       "0.281"
      ]
     },
     "execution_count": 65,
     "metadata": {},
     "output_type": "execute_result"
    }
   ],
   "source": [
    "R2adj=1-(1-R2)*(n-1)/(n-k-1)\n",
    "round(R2adj,3) "
   ]
  },
  {
   "cell_type": "markdown",
   "id": "9120d70d",
   "metadata": {},
   "source": [
    "# 2.2 "
   ]
  },
  {
   "cell_type": "code",
   "execution_count": 66,
   "id": "5b0ce613",
   "metadata": {},
   "outputs": [],
   "source": [
    "import pandas as pd\n",
    "import numpy as np\n",
    "import io\n",
    "import statsmodels.formula.api as smf "
   ]
  },
  {
   "cell_type": "code",
   "execution_count": 67,
   "id": "898daaa8",
   "metadata": {},
   "outputs": [],
   "source": [
    "n=935 \n",
    "k=6\n",
    "R2=0.201 "
   ]
  },
  {
   "cell_type": "code",
   "execution_count": 68,
   "id": "8cdcc0a2",
   "metadata": {},
   "outputs": [
    {
     "data": {
      "text/plain": [
       "0.196"
      ]
     },
     "execution_count": 68,
     "metadata": {},
     "output_type": "execute_result"
    }
   ],
   "source": [
    "R2adj=1-(1-R2)*(n-1)/(n-k-1)\n",
    "round(R2adj,3) "
   ]
  },
  {
   "cell_type": "markdown",
   "id": "f2b2ee73",
   "metadata": {},
   "source": [
    "# 2.3  "
   ]
  },
  {
   "cell_type": "code",
   "execution_count": 69,
   "id": "070eb72f",
   "metadata": {},
   "outputs": [],
   "source": [
    "import pandas as pd\n",
    "import numpy as np\n",
    "import io\n",
    "import statsmodels.formula.api as smf "
   ]
  },
  {
   "cell_type": "code",
   "execution_count": 71,
   "id": "505ffde0",
   "metadata": {},
   "outputs": [
    {
     "data": {
      "text/plain": [
       "'output capital labour\\n9.25    2.61    184  \\n3.66    1.32     91  \\n28.78   22.09   426  \\n4.12    10.74    72  \\n2.89    1.16     46'"
      ]
     },
     "execution_count": 71,
     "metadata": {},
     "output_type": "execute_result"
    }
   ],
   "source": [
    "data_string='''sleep/60 totwrk age y.hat\n",
    "51.88     3438  32  51.00\n",
    "48.67     5020  31  44.43\n",
    "44.50     2815  44  53.72\n",
    "51.38     3786  30  49.53\n",
    "57.47     2580  64  54.92\n",
    "67.72     1205  41  60.36\n",
    "53        2113  35  56.53\n",
    "48.80     3608  47  50.46\n",
    "56.13     2353  32  55.50\n",
    "50.30     2851  30  53.41'''\n",
    "data "
   ]
  },
  {
   "cell_type": "code",
   "execution_count": 72,
   "id": "b142976d",
   "metadata": {},
   "outputs": [
    {
     "data": {
      "text/html": [
       "<div>\n",
       "<style scoped>\n",
       "    .dataframe tbody tr th:only-of-type {\n",
       "        vertical-align: middle;\n",
       "    }\n",
       "\n",
       "    .dataframe tbody tr th {\n",
       "        vertical-align: top;\n",
       "    }\n",
       "\n",
       "    .dataframe thead th {\n",
       "        text-align: right;\n",
       "    }\n",
       "</style>\n",
       "<table border=\"1\" class=\"dataframe\">\n",
       "  <thead>\n",
       "    <tr style=\"text-align: right;\">\n",
       "      <th></th>\n",
       "      <th>sleep/60</th>\n",
       "      <th>totwrk</th>\n",
       "      <th>age</th>\n",
       "      <th>y.hat</th>\n",
       "    </tr>\n",
       "  </thead>\n",
       "  <tbody>\n",
       "    <tr>\n",
       "      <th>0</th>\n",
       "      <td>51.88</td>\n",
       "      <td>3438</td>\n",
       "      <td>32</td>\n",
       "      <td>51.00</td>\n",
       "    </tr>\n",
       "    <tr>\n",
       "      <th>1</th>\n",
       "      <td>48.67</td>\n",
       "      <td>5020</td>\n",
       "      <td>31</td>\n",
       "      <td>44.43</td>\n",
       "    </tr>\n",
       "    <tr>\n",
       "      <th>2</th>\n",
       "      <td>44.50</td>\n",
       "      <td>2815</td>\n",
       "      <td>44</td>\n",
       "      <td>53.72</td>\n",
       "    </tr>\n",
       "    <tr>\n",
       "      <th>3</th>\n",
       "      <td>51.38</td>\n",
       "      <td>3786</td>\n",
       "      <td>30</td>\n",
       "      <td>49.53</td>\n",
       "    </tr>\n",
       "    <tr>\n",
       "      <th>4</th>\n",
       "      <td>57.47</td>\n",
       "      <td>2580</td>\n",
       "      <td>64</td>\n",
       "      <td>54.92</td>\n",
       "    </tr>\n",
       "    <tr>\n",
       "      <th>5</th>\n",
       "      <td>67.72</td>\n",
       "      <td>1205</td>\n",
       "      <td>41</td>\n",
       "      <td>60.36</td>\n",
       "    </tr>\n",
       "    <tr>\n",
       "      <th>6</th>\n",
       "      <td>53.00</td>\n",
       "      <td>2113</td>\n",
       "      <td>35</td>\n",
       "      <td>56.53</td>\n",
       "    </tr>\n",
       "    <tr>\n",
       "      <th>7</th>\n",
       "      <td>48.80</td>\n",
       "      <td>3608</td>\n",
       "      <td>47</td>\n",
       "      <td>50.46</td>\n",
       "    </tr>\n",
       "    <tr>\n",
       "      <th>8</th>\n",
       "      <td>56.13</td>\n",
       "      <td>2353</td>\n",
       "      <td>32</td>\n",
       "      <td>55.50</td>\n",
       "    </tr>\n",
       "    <tr>\n",
       "      <th>9</th>\n",
       "      <td>50.30</td>\n",
       "      <td>2851</td>\n",
       "      <td>30</td>\n",
       "      <td>53.41</td>\n",
       "    </tr>\n",
       "  </tbody>\n",
       "</table>\n",
       "</div>"
      ],
      "text/plain": [
       "   sleep/60  totwrk  age  y.hat\n",
       "0     51.88    3438   32  51.00\n",
       "1     48.67    5020   31  44.43\n",
       "2     44.50    2815   44  53.72\n",
       "3     51.38    3786   30  49.53\n",
       "4     57.47    2580   64  54.92\n",
       "5     67.72    1205   41  60.36\n",
       "6     53.00    2113   35  56.53\n",
       "7     48.80    3608   47  50.46\n",
       "8     56.13    2353   32  55.50\n",
       "9     50.30    2851   30  53.41"
      ]
     },
     "execution_count": 72,
     "metadata": {},
     "output_type": "execute_result"
    }
   ],
   "source": [
    "df = pd.read_csv(io.StringIO(data_string), sep='\\s+')\n",
    "df "
   ]
  },
  {
   "cell_type": "code",
   "execution_count": 73,
   "id": "98681b13",
   "metadata": {},
   "outputs": [
    {
     "data": {
      "text/plain": [
       "173.19"
      ]
     },
     "execution_count": 73,
     "metadata": {},
     "output_type": "execute_result"
    }
   ],
   "source": [
    "ESS = ((df['y.hat'] - np.mean(df['sleep/60']))**2).sum()\n",
    "ESS.round(2) "
   ]
  },
  {
   "cell_type": "code",
   "execution_count": 74,
   "id": "76d1ef60",
   "metadata": {},
   "outputs": [
    {
     "data": {
      "text/plain": [
       "366.26"
      ]
     },
     "execution_count": 74,
     "metadata": {},
     "output_type": "execute_result"
    }
   ],
   "source": [
    "TSS = ((df['sleep/60'] - np.mean(df['sleep/60']))**2).sum()\n",
    "TSS.round(2) "
   ]
  },
  {
   "cell_type": "code",
   "execution_count": 75,
   "id": "7db51bd9",
   "metadata": {},
   "outputs": [
    {
     "data": {
      "text/plain": [
       "0.47"
      ]
     },
     "execution_count": 75,
     "metadata": {},
     "output_type": "execute_result"
    }
   ],
   "source": [
    "R2=ESS/TSS\n",
    "round(R2,2) "
   ]
  },
  {
   "cell_type": "markdown",
   "id": "88261cac",
   "metadata": {},
   "source": [
    "# R2 = 0.47 "
   ]
  },
  {
   "cell_type": "code",
   "execution_count": 76,
   "id": "d47ef220",
   "metadata": {},
   "outputs": [],
   "source": [
    "n=10 \n",
    "k=2"
   ]
  },
  {
   "cell_type": "code",
   "execution_count": 77,
   "id": "c1638c8f",
   "metadata": {},
   "outputs": [
    {
     "data": {
      "text/plain": [
       "0.32"
      ]
     },
     "execution_count": 77,
     "metadata": {},
     "output_type": "execute_result"
    }
   ],
   "source": [
    "R2adj=1-(1-R2)*(n-1)/(n-k-1)\n",
    "round(R2adj,2) "
   ]
  },
  {
   "cell_type": "markdown",
   "id": "0800ab27",
   "metadata": {},
   "source": [
    "# R^2_adj=0.32 "
   ]
  },
  {
   "cell_type": "markdown",
   "id": "06428585",
   "metadata": {},
   "source": [
    "# 2.4 "
   ]
  },
  {
   "cell_type": "code",
   "execution_count": 78,
   "id": "0ff5116f",
   "metadata": {},
   "outputs": [],
   "source": [
    "import pandas as pd\n",
    "import numpy as np\n",
    "import io\n",
    "import statsmodels.formula.api as smf "
   ]
  },
  {
   "cell_type": "code",
   "execution_count": 79,
   "id": "1344ada0",
   "metadata": {},
   "outputs": [
    {
     "data": {
      "text/plain": [
       "'output capital labour\\n9.25    2.61    184  \\n3.66    1.32     91  \\n28.78   22.09   426  \\n4.12    10.74    72  \\n2.89    1.16     46'"
      ]
     },
     "execution_count": 79,
     "metadata": {},
     "output_type": "execute_result"
    }
   ],
   "source": [
    "data_string='''log(output) log(capital) log(labour) y.hat\n",
    "2.22            0.96        5.21     2.19 \n",
    "1.30            0.28        4.51     1.47 \n",
    "3.36            3.10        6.05     3.23 \n",
    "1.42            2.37        4.28     1.56 \n",
    "1.06            0.15        3.83     0.85 \n",
    "6.17            5.62        8.94     6.15 \n",
    "0.77            0.52        3.87     0.94 \n",
    "1.42            0.15        4.68     1.61 \n",
    "0.90           -0.13        3.56     0.57 \n",
    "1.35            1.25        4.28     1.40'''\n",
    "data "
   ]
  },
  {
   "cell_type": "code",
   "execution_count": 80,
   "id": "3a62f2e2",
   "metadata": {},
   "outputs": [
    {
     "data": {
      "text/html": [
       "<div>\n",
       "<style scoped>\n",
       "    .dataframe tbody tr th:only-of-type {\n",
       "        vertical-align: middle;\n",
       "    }\n",
       "\n",
       "    .dataframe tbody tr th {\n",
       "        vertical-align: top;\n",
       "    }\n",
       "\n",
       "    .dataframe thead th {\n",
       "        text-align: right;\n",
       "    }\n",
       "</style>\n",
       "<table border=\"1\" class=\"dataframe\">\n",
       "  <thead>\n",
       "    <tr style=\"text-align: right;\">\n",
       "      <th></th>\n",
       "      <th>log(output)</th>\n",
       "      <th>log(capital)</th>\n",
       "      <th>log(labour)</th>\n",
       "      <th>y.hat</th>\n",
       "    </tr>\n",
       "  </thead>\n",
       "  <tbody>\n",
       "    <tr>\n",
       "      <th>0</th>\n",
       "      <td>2.22</td>\n",
       "      <td>0.96</td>\n",
       "      <td>5.21</td>\n",
       "      <td>2.19</td>\n",
       "    </tr>\n",
       "    <tr>\n",
       "      <th>1</th>\n",
       "      <td>1.30</td>\n",
       "      <td>0.28</td>\n",
       "      <td>4.51</td>\n",
       "      <td>1.47</td>\n",
       "    </tr>\n",
       "    <tr>\n",
       "      <th>2</th>\n",
       "      <td>3.36</td>\n",
       "      <td>3.10</td>\n",
       "      <td>6.05</td>\n",
       "      <td>3.23</td>\n",
       "    </tr>\n",
       "    <tr>\n",
       "      <th>3</th>\n",
       "      <td>1.42</td>\n",
       "      <td>2.37</td>\n",
       "      <td>4.28</td>\n",
       "      <td>1.56</td>\n",
       "    </tr>\n",
       "    <tr>\n",
       "      <th>4</th>\n",
       "      <td>1.06</td>\n",
       "      <td>0.15</td>\n",
       "      <td>3.83</td>\n",
       "      <td>0.85</td>\n",
       "    </tr>\n",
       "    <tr>\n",
       "      <th>5</th>\n",
       "      <td>6.17</td>\n",
       "      <td>5.62</td>\n",
       "      <td>8.94</td>\n",
       "      <td>6.15</td>\n",
       "    </tr>\n",
       "    <tr>\n",
       "      <th>6</th>\n",
       "      <td>0.77</td>\n",
       "      <td>0.52</td>\n",
       "      <td>3.87</td>\n",
       "      <td>0.94</td>\n",
       "    </tr>\n",
       "    <tr>\n",
       "      <th>7</th>\n",
       "      <td>1.42</td>\n",
       "      <td>0.15</td>\n",
       "      <td>4.68</td>\n",
       "      <td>1.61</td>\n",
       "    </tr>\n",
       "    <tr>\n",
       "      <th>8</th>\n",
       "      <td>0.90</td>\n",
       "      <td>-0.13</td>\n",
       "      <td>3.56</td>\n",
       "      <td>0.57</td>\n",
       "    </tr>\n",
       "    <tr>\n",
       "      <th>9</th>\n",
       "      <td>1.35</td>\n",
       "      <td>1.25</td>\n",
       "      <td>4.28</td>\n",
       "      <td>1.40</td>\n",
       "    </tr>\n",
       "  </tbody>\n",
       "</table>\n",
       "</div>"
      ],
      "text/plain": [
       "   log(output)  log(capital)  log(labour)  y.hat\n",
       "0         2.22          0.96         5.21   2.19\n",
       "1         1.30          0.28         4.51   1.47\n",
       "2         3.36          3.10         6.05   3.23\n",
       "3         1.42          2.37         4.28   1.56\n",
       "4         1.06          0.15         3.83   0.85\n",
       "5         6.17          5.62         8.94   6.15\n",
       "6         0.77          0.52         3.87   0.94\n",
       "7         1.42          0.15         4.68   1.61\n",
       "8         0.90         -0.13         3.56   0.57\n",
       "9         1.35          1.25         4.28   1.40"
      ]
     },
     "execution_count": 80,
     "metadata": {},
     "output_type": "execute_result"
    }
   ],
   "source": [
    "df = pd.read_csv(io.StringIO(data_string), sep='\\s+')\n",
    "df "
   ]
  },
  {
   "cell_type": "code",
   "execution_count": 81,
   "id": "fcbc094c",
   "metadata": {},
   "outputs": [
    {
     "data": {
      "text/plain": [
       "24.25"
      ]
     },
     "execution_count": 81,
     "metadata": {},
     "output_type": "execute_result"
    }
   ],
   "source": [
    "ESS = ((df['y.hat'] - np.mean(df['log(output)']))**2).sum()\n",
    "ESS.round(2) "
   ]
  },
  {
   "cell_type": "code",
   "execution_count": 82,
   "id": "439e31ae",
   "metadata": {},
   "outputs": [
    {
     "data": {
      "text/plain": [
       "24.48"
      ]
     },
     "execution_count": 82,
     "metadata": {},
     "output_type": "execute_result"
    }
   ],
   "source": [
    "TSS = ((df['log(output)'] - np.mean(df['log(output)']))**2).sum()\n",
    "TSS.round(2) "
   ]
  },
  {
   "cell_type": "code",
   "execution_count": 83,
   "id": "6367f493",
   "metadata": {},
   "outputs": [
    {
     "data": {
      "text/plain": [
       "0.99"
      ]
     },
     "execution_count": 83,
     "metadata": {},
     "output_type": "execute_result"
    }
   ],
   "source": [
    "R2=ESS/TSS\n",
    "round(R2,2) "
   ]
  },
  {
   "cell_type": "code",
   "execution_count": 84,
   "id": "f5ef872d",
   "metadata": {},
   "outputs": [
    {
     "data": {
      "text/plain": [
       "0.99"
      ]
     },
     "execution_count": 84,
     "metadata": {},
     "output_type": "execute_result"
    }
   ],
   "source": [
    "n=10\n",
    "k=2\n",
    "R2adj=1-(1-R2)*(n-1)/(n-k-1)\n",
    "round(R2adj,2) "
   ]
  },
  {
   "cell_type": "markdown",
   "id": "3d322786",
   "metadata": {},
   "source": [
    "# R2 = 0.99; R^2_adj=0.99 "
   ]
  },
  {
   "cell_type": "markdown",
   "id": "3119af9f",
   "metadata": {},
   "source": [
    "# 3.1"
   ]
  },
  {
   "cell_type": "code",
   "execution_count": 85,
   "id": "836abf10",
   "metadata": {},
   "outputs": [],
   "source": [
    "import pandas as pd\n",
    "import numpy as np\n",
    "import io\n",
    "import statsmodels.formula.api as smf "
   ]
  },
  {
   "cell_type": "code",
   "execution_count": 86,
   "id": "62f4c502",
   "metadata": {},
   "outputs": [
    {
     "data": {
      "text/html": [
       "<div>\n",
       "<style scoped>\n",
       "    .dataframe tbody tr th:only-of-type {\n",
       "        vertical-align: middle;\n",
       "    }\n",
       "\n",
       "    .dataframe tbody tr th {\n",
       "        vertical-align: top;\n",
       "    }\n",
       "\n",
       "    .dataframe thead th {\n",
       "        text-align: right;\n",
       "    }\n",
       "</style>\n",
       "<table border=\"1\" class=\"dataframe\">\n",
       "  <thead>\n",
       "    <tr style=\"text-align: right;\">\n",
       "      <th></th>\n",
       "      <th>age</th>\n",
       "      <th>black</th>\n",
       "      <th>case</th>\n",
       "      <th>clerical</th>\n",
       "      <th>construc</th>\n",
       "      <th>educ</th>\n",
       "      <th>earns74</th>\n",
       "      <th>gdhlth</th>\n",
       "      <th>inlf</th>\n",
       "      <th>leis1</th>\n",
       "      <th>...</th>\n",
       "      <th>spwrk75</th>\n",
       "      <th>totwrk</th>\n",
       "      <th>union</th>\n",
       "      <th>worknrm</th>\n",
       "      <th>workscnd</th>\n",
       "      <th>exper</th>\n",
       "      <th>yngkid</th>\n",
       "      <th>yrsmarr</th>\n",
       "      <th>hrwage</th>\n",
       "      <th>agesq</th>\n",
       "    </tr>\n",
       "  </thead>\n",
       "  <tbody>\n",
       "    <tr>\n",
       "      <th>0</th>\n",
       "      <td>32</td>\n",
       "      <td>0</td>\n",
       "      <td>1</td>\n",
       "      <td>0.000000</td>\n",
       "      <td>0.000000</td>\n",
       "      <td>12</td>\n",
       "      <td>0</td>\n",
       "      <td>0</td>\n",
       "      <td>1</td>\n",
       "      <td>3529</td>\n",
       "      <td>...</td>\n",
       "      <td>0</td>\n",
       "      <td>3438</td>\n",
       "      <td>0</td>\n",
       "      <td>3438</td>\n",
       "      <td>0</td>\n",
       "      <td>14</td>\n",
       "      <td>0</td>\n",
       "      <td>13</td>\n",
       "      <td>7.070004</td>\n",
       "      <td>1024</td>\n",
       "    </tr>\n",
       "    <tr>\n",
       "      <th>1</th>\n",
       "      <td>31</td>\n",
       "      <td>0</td>\n",
       "      <td>2</td>\n",
       "      <td>0.000000</td>\n",
       "      <td>0.000000</td>\n",
       "      <td>14</td>\n",
       "      <td>9500</td>\n",
       "      <td>1</td>\n",
       "      <td>1</td>\n",
       "      <td>2140</td>\n",
       "      <td>...</td>\n",
       "      <td>0</td>\n",
       "      <td>5020</td>\n",
       "      <td>0</td>\n",
       "      <td>5020</td>\n",
       "      <td>0</td>\n",
       "      <td>11</td>\n",
       "      <td>0</td>\n",
       "      <td>0</td>\n",
       "      <td>1.429999</td>\n",
       "      <td>961</td>\n",
       "    </tr>\n",
       "    <tr>\n",
       "      <th>2</th>\n",
       "      <td>44</td>\n",
       "      <td>0</td>\n",
       "      <td>3</td>\n",
       "      <td>0.000000</td>\n",
       "      <td>0.000000</td>\n",
       "      <td>17</td>\n",
       "      <td>42500</td>\n",
       "      <td>1</td>\n",
       "      <td>1</td>\n",
       "      <td>4595</td>\n",
       "      <td>...</td>\n",
       "      <td>1</td>\n",
       "      <td>2815</td>\n",
       "      <td>0</td>\n",
       "      <td>2815</td>\n",
       "      <td>0</td>\n",
       "      <td>21</td>\n",
       "      <td>0</td>\n",
       "      <td>0</td>\n",
       "      <td>20.529997</td>\n",
       "      <td>1936</td>\n",
       "    </tr>\n",
       "    <tr>\n",
       "      <th>3</th>\n",
       "      <td>30</td>\n",
       "      <td>0</td>\n",
       "      <td>4</td>\n",
       "      <td>0.000000</td>\n",
       "      <td>0.000000</td>\n",
       "      <td>12</td>\n",
       "      <td>42500</td>\n",
       "      <td>1</td>\n",
       "      <td>1</td>\n",
       "      <td>3211</td>\n",
       "      <td>...</td>\n",
       "      <td>1</td>\n",
       "      <td>3786</td>\n",
       "      <td>0</td>\n",
       "      <td>3786</td>\n",
       "      <td>0</td>\n",
       "      <td>12</td>\n",
       "      <td>0</td>\n",
       "      <td>12</td>\n",
       "      <td>9.619998</td>\n",
       "      <td>900</td>\n",
       "    </tr>\n",
       "    <tr>\n",
       "      <th>4</th>\n",
       "      <td>64</td>\n",
       "      <td>0</td>\n",
       "      <td>5</td>\n",
       "      <td>0.000000</td>\n",
       "      <td>0.000000</td>\n",
       "      <td>14</td>\n",
       "      <td>2500</td>\n",
       "      <td>1</td>\n",
       "      <td>1</td>\n",
       "      <td>4052</td>\n",
       "      <td>...</td>\n",
       "      <td>1</td>\n",
       "      <td>2580</td>\n",
       "      <td>0</td>\n",
       "      <td>2580</td>\n",
       "      <td>0</td>\n",
       "      <td>44</td>\n",
       "      <td>0</td>\n",
       "      <td>33</td>\n",
       "      <td>2.750000</td>\n",
       "      <td>4096</td>\n",
       "    </tr>\n",
       "    <tr>\n",
       "      <th>...</th>\n",
       "      <td>...</td>\n",
       "      <td>...</td>\n",
       "      <td>...</td>\n",
       "      <td>...</td>\n",
       "      <td>...</td>\n",
       "      <td>...</td>\n",
       "      <td>...</td>\n",
       "      <td>...</td>\n",
       "      <td>...</td>\n",
       "      <td>...</td>\n",
       "      <td>...</td>\n",
       "      <td>...</td>\n",
       "      <td>...</td>\n",
       "      <td>...</td>\n",
       "      <td>...</td>\n",
       "      <td>...</td>\n",
       "      <td>...</td>\n",
       "      <td>...</td>\n",
       "      <td>...</td>\n",
       "      <td>...</td>\n",
       "      <td>...</td>\n",
       "    </tr>\n",
       "    <tr>\n",
       "      <th>701</th>\n",
       "      <td>45</td>\n",
       "      <td>0</td>\n",
       "      <td>702</td>\n",
       "      <td>0.182331</td>\n",
       "      <td>0.030075</td>\n",
       "      <td>12</td>\n",
       "      <td>5500</td>\n",
       "      <td>1</td>\n",
       "      <td>0</td>\n",
       "      <td>5069</td>\n",
       "      <td>...</td>\n",
       "      <td>1</td>\n",
       "      <td>2026</td>\n",
       "      <td>0</td>\n",
       "      <td>2026</td>\n",
       "      <td>0</td>\n",
       "      <td>27</td>\n",
       "      <td>0</td>\n",
       "      <td>18</td>\n",
       "      <td>NaN</td>\n",
       "      <td>2025</td>\n",
       "    </tr>\n",
       "    <tr>\n",
       "      <th>702</th>\n",
       "      <td>34</td>\n",
       "      <td>0</td>\n",
       "      <td>703</td>\n",
       "      <td>0.182331</td>\n",
       "      <td>0.030075</td>\n",
       "      <td>10</td>\n",
       "      <td>2500</td>\n",
       "      <td>0</td>\n",
       "      <td>0</td>\n",
       "      <td>5885</td>\n",
       "      <td>...</td>\n",
       "      <td>0</td>\n",
       "      <td>675</td>\n",
       "      <td>1</td>\n",
       "      <td>465</td>\n",
       "      <td>210</td>\n",
       "      <td>18</td>\n",
       "      <td>0</td>\n",
       "      <td>4</td>\n",
       "      <td>NaN</td>\n",
       "      <td>1156</td>\n",
       "    </tr>\n",
       "    <tr>\n",
       "      <th>703</th>\n",
       "      <td>37</td>\n",
       "      <td>0</td>\n",
       "      <td>704</td>\n",
       "      <td>0.182331</td>\n",
       "      <td>0.030075</td>\n",
       "      <td>12</td>\n",
       "      <td>3500</td>\n",
       "      <td>1</td>\n",
       "      <td>0</td>\n",
       "      <td>4719</td>\n",
       "      <td>...</td>\n",
       "      <td>1</td>\n",
       "      <td>1851</td>\n",
       "      <td>0</td>\n",
       "      <td>1851</td>\n",
       "      <td>0</td>\n",
       "      <td>19</td>\n",
       "      <td>0</td>\n",
       "      <td>17</td>\n",
       "      <td>NaN</td>\n",
       "      <td>1369</td>\n",
       "    </tr>\n",
       "    <tr>\n",
       "      <th>704</th>\n",
       "      <td>54</td>\n",
       "      <td>0</td>\n",
       "      <td>705</td>\n",
       "      <td>0.182331</td>\n",
       "      <td>0.030075</td>\n",
       "      <td>17</td>\n",
       "      <td>32500</td>\n",
       "      <td>1</td>\n",
       "      <td>0</td>\n",
       "      <td>5149</td>\n",
       "      <td>...</td>\n",
       "      <td>1</td>\n",
       "      <td>1961</td>\n",
       "      <td>1</td>\n",
       "      <td>1481</td>\n",
       "      <td>480</td>\n",
       "      <td>31</td>\n",
       "      <td>0</td>\n",
       "      <td>22</td>\n",
       "      <td>NaN</td>\n",
       "      <td>2916</td>\n",
       "    </tr>\n",
       "    <tr>\n",
       "      <th>705</th>\n",
       "      <td>30</td>\n",
       "      <td>0</td>\n",
       "      <td>706</td>\n",
       "      <td>0.182331</td>\n",
       "      <td>0.030075</td>\n",
       "      <td>16</td>\n",
       "      <td>6750</td>\n",
       "      <td>1</td>\n",
       "      <td>0</td>\n",
       "      <td>4747</td>\n",
       "      <td>...</td>\n",
       "      <td>0</td>\n",
       "      <td>2363</td>\n",
       "      <td>0</td>\n",
       "      <td>2363</td>\n",
       "      <td>0</td>\n",
       "      <td>8</td>\n",
       "      <td>1</td>\n",
       "      <td>9</td>\n",
       "      <td>NaN</td>\n",
       "      <td>900</td>\n",
       "    </tr>\n",
       "  </tbody>\n",
       "</table>\n",
       "<p>706 rows × 34 columns</p>\n",
       "</div>"
      ],
      "text/plain": [
       "     age  black  case  clerical  construc  educ  earns74  gdhlth  inlf  leis1  \\\n",
       "0     32      0     1  0.000000  0.000000    12        0       0     1   3529   \n",
       "1     31      0     2  0.000000  0.000000    14     9500       1     1   2140   \n",
       "2     44      0     3  0.000000  0.000000    17    42500       1     1   4595   \n",
       "3     30      0     4  0.000000  0.000000    12    42500       1     1   3211   \n",
       "4     64      0     5  0.000000  0.000000    14     2500       1     1   4052   \n",
       "..   ...    ...   ...       ...       ...   ...      ...     ...   ...    ...   \n",
       "701   45      0   702  0.182331  0.030075    12     5500       1     0   5069   \n",
       "702   34      0   703  0.182331  0.030075    10     2500       0     0   5885   \n",
       "703   37      0   704  0.182331  0.030075    12     3500       1     0   4719   \n",
       "704   54      0   705  0.182331  0.030075    17    32500       1     0   5149   \n",
       "705   30      0   706  0.182331  0.030075    16     6750       1     0   4747   \n",
       "\n",
       "     ...  spwrk75  totwrk  union  worknrm  workscnd  exper  yngkid  yrsmarr  \\\n",
       "0    ...        0    3438      0     3438         0     14       0       13   \n",
       "1    ...        0    5020      0     5020         0     11       0        0   \n",
       "2    ...        1    2815      0     2815         0     21       0        0   \n",
       "3    ...        1    3786      0     3786         0     12       0       12   \n",
       "4    ...        1    2580      0     2580         0     44       0       33   \n",
       "..   ...      ...     ...    ...      ...       ...    ...     ...      ...   \n",
       "701  ...        1    2026      0     2026         0     27       0       18   \n",
       "702  ...        0     675      1      465       210     18       0        4   \n",
       "703  ...        1    1851      0     1851         0     19       0       17   \n",
       "704  ...        1    1961      1     1481       480     31       0       22   \n",
       "705  ...        0    2363      0     2363         0      8       1        9   \n",
       "\n",
       "        hrwage  agesq  \n",
       "0     7.070004   1024  \n",
       "1     1.429999    961  \n",
       "2    20.529997   1936  \n",
       "3     9.619998    900  \n",
       "4     2.750000   4096  \n",
       "..         ...    ...  \n",
       "701        NaN   2025  \n",
       "702        NaN   1156  \n",
       "703        NaN   1369  \n",
       "704        NaN   2916  \n",
       "705        NaN    900  \n",
       "\n",
       "[706 rows x 34 columns]"
      ]
     },
     "execution_count": 86,
     "metadata": {},
     "output_type": "execute_result"
    }
   ],
   "source": [
    "df = pd.read_csv('https://raw.githubusercontent.com/artamonoff/Econometrica/master/python-notebooks/data-csv/sleep75.csv')\n",
    "df"
   ]
  },
  {
   "cell_type": "code",
   "execution_count": 87,
   "id": "c59d84c6",
   "metadata": {},
   "outputs": [
    {
     "data": {
      "text/plain": [
       "Intercept    3494.223143\n",
       "totwrk         -0.167681\n",
       "age             2.806498\n",
       "male           86.908377\n",
       "smsa          -75.285755\n",
       "dtype: float64"
      ]
     },
     "execution_count": 87,
     "metadata": {},
     "output_type": "execute_result"
    }
   ],
   "source": [
    "sleep_eq1 = smf.ols(formula='sleep~totwrk+age+male+smsa', data=df).fit()\n",
    "sleep_eq1.params "
   ]
  },
  {
   "cell_type": "code",
   "execution_count": 95,
   "id": "c5e855f2",
   "metadata": {},
   "outputs": [
    {
     "data": {
      "text/plain": [
       "139239835.763"
      ]
     },
     "execution_count": 95,
     "metadata": {},
     "output_type": "execute_result"
    }
   ],
   "source": [
    "sleep_eq1.centered_tss.round(3)\n",
    "# TSS  "
   ]
  },
  {
   "cell_type": "code",
   "execution_count": 96,
   "id": "815cdba4",
   "metadata": {},
   "outputs": [
    {
     "data": {
      "text/plain": [
       "17188382.234"
      ]
     },
     "execution_count": 96,
     "metadata": {},
     "output_type": "execute_result"
    }
   ],
   "source": [
    "sleep_eq1.ess.round(3)\n",
    "# ESS "
   ]
  },
  {
   "cell_type": "code",
   "execution_count": 97,
   "id": "7396dabf",
   "metadata": {},
   "outputs": [
    {
     "data": {
      "text/plain": [
       "122051453.53"
      ]
     },
     "execution_count": 97,
     "metadata": {},
     "output_type": "execute_result"
    }
   ],
   "source": [
    "RSS=sleep_eq1.ssr.round(3)\n",
    "RSS\n",
    "# RSS "
   ]
  },
  {
   "cell_type": "code",
   "execution_count": 91,
   "id": "3d3e2b48",
   "metadata": {},
   "outputs": [
    {
     "data": {
      "text/plain": [
       "0.1234444"
      ]
     },
     "execution_count": 91,
     "metadata": {},
     "output_type": "execute_result"
    }
   ],
   "source": [
    "sleep_eq1.rsquared.round(7)\n",
    "# R2 "
   ]
  },
  {
   "cell_type": "code",
   "execution_count": 92,
   "id": "c8708aa9",
   "metadata": {},
   "outputs": [
    {
     "data": {
      "text/plain": [
       "0.1184427"
      ]
     },
     "execution_count": 92,
     "metadata": {},
     "output_type": "execute_result"
    }
   ],
   "source": [
    "sleep_eq1.rsquared_adj.round(7)\n",
    "# R2adj "
   ]
  },
  {
   "cell_type": "code",
   "execution_count": 93,
   "id": "857a92dd",
   "metadata": {},
   "outputs": [
    {
     "data": {
      "text/plain": [
       "417.2655"
      ]
     },
     "execution_count": 93,
     "metadata": {},
     "output_type": "execute_result"
    }
   ],
   "source": [
    "n=706\n",
    "k=4\n",
    "s=np.sqrt(RSS/(n-k-1))\n",
    "round(s,4) "
   ]
  },
  {
   "cell_type": "markdown",
   "id": "d7c53e81",
   "metadata": {},
   "source": [
    "# TSS=139239835.763456; ESS=17188382.2336173; RSS=122051453.529839 "
   ]
  },
  {
   "cell_type": "markdown",
   "id": "07e6e117",
   "metadata": {},
   "source": [
    "# 3.2 "
   ]
  },
  {
   "cell_type": "code",
   "execution_count": 98,
   "id": "84917bf4",
   "metadata": {},
   "outputs": [],
   "source": [
    "import pandas as pd\n",
    "import numpy as np\n",
    "import io\n",
    "import statsmodels.formula.api as smf "
   ]
  },
  {
   "cell_type": "code",
   "execution_count": 99,
   "id": "deb2f7d9",
   "metadata": {},
   "outputs": [],
   "source": [
    "pd.set_option('display.max_columns', None) "
   ]
  },
  {
   "cell_type": "code",
   "execution_count": 100,
   "id": "38e8825f",
   "metadata": {},
   "outputs": [
    {
     "data": {
      "text/html": [
       "<div>\n",
       "<style scoped>\n",
       "    .dataframe tbody tr th:only-of-type {\n",
       "        vertical-align: middle;\n",
       "    }\n",
       "\n",
       "    .dataframe tbody tr th {\n",
       "        vertical-align: top;\n",
       "    }\n",
       "\n",
       "    .dataframe thead th {\n",
       "        text-align: right;\n",
       "    }\n",
       "</style>\n",
       "<table border=\"1\" class=\"dataframe\">\n",
       "  <thead>\n",
       "    <tr style=\"text-align: right;\">\n",
       "      <th></th>\n",
       "      <th>age</th>\n",
       "      <th>black</th>\n",
       "      <th>case</th>\n",
       "      <th>clerical</th>\n",
       "      <th>construc</th>\n",
       "      <th>educ</th>\n",
       "      <th>earns74</th>\n",
       "      <th>gdhlth</th>\n",
       "      <th>inlf</th>\n",
       "      <th>leis1</th>\n",
       "      <th>leis2</th>\n",
       "      <th>leis3</th>\n",
       "      <th>smsa</th>\n",
       "      <th>lhrwage</th>\n",
       "      <th>lothinc</th>\n",
       "      <th>male</th>\n",
       "      <th>marr</th>\n",
       "      <th>prot</th>\n",
       "      <th>rlxall</th>\n",
       "      <th>selfe</th>\n",
       "      <th>sleep</th>\n",
       "      <th>slpnaps</th>\n",
       "      <th>south</th>\n",
       "      <th>spsepay</th>\n",
       "      <th>spwrk75</th>\n",
       "      <th>totwrk</th>\n",
       "      <th>union</th>\n",
       "      <th>worknrm</th>\n",
       "      <th>workscnd</th>\n",
       "      <th>exper</th>\n",
       "      <th>yngkid</th>\n",
       "      <th>yrsmarr</th>\n",
       "      <th>hrwage</th>\n",
       "      <th>agesq</th>\n",
       "    </tr>\n",
       "  </thead>\n",
       "  <tbody>\n",
       "    <tr>\n",
       "      <th>0</th>\n",
       "      <td>32</td>\n",
       "      <td>0</td>\n",
       "      <td>1</td>\n",
       "      <td>0.000000</td>\n",
       "      <td>0.000000</td>\n",
       "      <td>12</td>\n",
       "      <td>0</td>\n",
       "      <td>0</td>\n",
       "      <td>1</td>\n",
       "      <td>3529</td>\n",
       "      <td>3479</td>\n",
       "      <td>3479</td>\n",
       "      <td>0</td>\n",
       "      <td>1.955861</td>\n",
       "      <td>10.075380</td>\n",
       "      <td>1</td>\n",
       "      <td>1</td>\n",
       "      <td>1</td>\n",
       "      <td>3163</td>\n",
       "      <td>0</td>\n",
       "      <td>3113</td>\n",
       "      <td>3163</td>\n",
       "      <td>0</td>\n",
       "      <td>0</td>\n",
       "      <td>0</td>\n",
       "      <td>3438</td>\n",
       "      <td>0</td>\n",
       "      <td>3438</td>\n",
       "      <td>0</td>\n",
       "      <td>14</td>\n",
       "      <td>0</td>\n",
       "      <td>13</td>\n",
       "      <td>7.070004</td>\n",
       "      <td>1024</td>\n",
       "    </tr>\n",
       "    <tr>\n",
       "      <th>1</th>\n",
       "      <td>31</td>\n",
       "      <td>0</td>\n",
       "      <td>2</td>\n",
       "      <td>0.000000</td>\n",
       "      <td>0.000000</td>\n",
       "      <td>14</td>\n",
       "      <td>9500</td>\n",
       "      <td>1</td>\n",
       "      <td>1</td>\n",
       "      <td>2140</td>\n",
       "      <td>2140</td>\n",
       "      <td>2140</td>\n",
       "      <td>0</td>\n",
       "      <td>0.357674</td>\n",
       "      <td>0.000000</td>\n",
       "      <td>1</td>\n",
       "      <td>0</td>\n",
       "      <td>1</td>\n",
       "      <td>2920</td>\n",
       "      <td>1</td>\n",
       "      <td>2920</td>\n",
       "      <td>2920</td>\n",
       "      <td>1</td>\n",
       "      <td>0</td>\n",
       "      <td>0</td>\n",
       "      <td>5020</td>\n",
       "      <td>0</td>\n",
       "      <td>5020</td>\n",
       "      <td>0</td>\n",
       "      <td>11</td>\n",
       "      <td>0</td>\n",
       "      <td>0</td>\n",
       "      <td>1.429999</td>\n",
       "      <td>961</td>\n",
       "    </tr>\n",
       "    <tr>\n",
       "      <th>2</th>\n",
       "      <td>44</td>\n",
       "      <td>0</td>\n",
       "      <td>3</td>\n",
       "      <td>0.000000</td>\n",
       "      <td>0.000000</td>\n",
       "      <td>17</td>\n",
       "      <td>42500</td>\n",
       "      <td>1</td>\n",
       "      <td>1</td>\n",
       "      <td>4595</td>\n",
       "      <td>4505</td>\n",
       "      <td>4227</td>\n",
       "      <td>1</td>\n",
       "      <td>3.021887</td>\n",
       "      <td>0.000000</td>\n",
       "      <td>1</td>\n",
       "      <td>1</td>\n",
       "      <td>0</td>\n",
       "      <td>3038</td>\n",
       "      <td>1</td>\n",
       "      <td>2670</td>\n",
       "      <td>2760</td>\n",
       "      <td>0</td>\n",
       "      <td>20000</td>\n",
       "      <td>1</td>\n",
       "      <td>2815</td>\n",
       "      <td>0</td>\n",
       "      <td>2815</td>\n",
       "      <td>0</td>\n",
       "      <td>21</td>\n",
       "      <td>0</td>\n",
       "      <td>0</td>\n",
       "      <td>20.529997</td>\n",
       "      <td>1936</td>\n",
       "    </tr>\n",
       "    <tr>\n",
       "      <th>3</th>\n",
       "      <td>30</td>\n",
       "      <td>0</td>\n",
       "      <td>4</td>\n",
       "      <td>0.000000</td>\n",
       "      <td>0.000000</td>\n",
       "      <td>12</td>\n",
       "      <td>42500</td>\n",
       "      <td>1</td>\n",
       "      <td>1</td>\n",
       "      <td>3211</td>\n",
       "      <td>3211</td>\n",
       "      <td>3211</td>\n",
       "      <td>0</td>\n",
       "      <td>2.263844</td>\n",
       "      <td>0.000000</td>\n",
       "      <td>0</td>\n",
       "      <td>1</td>\n",
       "      <td>1</td>\n",
       "      <td>3083</td>\n",
       "      <td>1</td>\n",
       "      <td>3083</td>\n",
       "      <td>3083</td>\n",
       "      <td>0</td>\n",
       "      <td>5000</td>\n",
       "      <td>1</td>\n",
       "      <td>3786</td>\n",
       "      <td>0</td>\n",
       "      <td>3786</td>\n",
       "      <td>0</td>\n",
       "      <td>12</td>\n",
       "      <td>0</td>\n",
       "      <td>12</td>\n",
       "      <td>9.619998</td>\n",
       "      <td>900</td>\n",
       "    </tr>\n",
       "    <tr>\n",
       "      <th>4</th>\n",
       "      <td>64</td>\n",
       "      <td>0</td>\n",
       "      <td>5</td>\n",
       "      <td>0.000000</td>\n",
       "      <td>0.000000</td>\n",
       "      <td>14</td>\n",
       "      <td>2500</td>\n",
       "      <td>1</td>\n",
       "      <td>1</td>\n",
       "      <td>4052</td>\n",
       "      <td>4007</td>\n",
       "      <td>4007</td>\n",
       "      <td>0</td>\n",
       "      <td>1.011601</td>\n",
       "      <td>9.328213</td>\n",
       "      <td>1</td>\n",
       "      <td>1</td>\n",
       "      <td>1</td>\n",
       "      <td>3493</td>\n",
       "      <td>0</td>\n",
       "      <td>3448</td>\n",
       "      <td>3493</td>\n",
       "      <td>0</td>\n",
       "      <td>2400</td>\n",
       "      <td>1</td>\n",
       "      <td>2580</td>\n",
       "      <td>0</td>\n",
       "      <td>2580</td>\n",
       "      <td>0</td>\n",
       "      <td>44</td>\n",
       "      <td>0</td>\n",
       "      <td>33</td>\n",
       "      <td>2.750000</td>\n",
       "      <td>4096</td>\n",
       "    </tr>\n",
       "    <tr>\n",
       "      <th>...</th>\n",
       "      <td>...</td>\n",
       "      <td>...</td>\n",
       "      <td>...</td>\n",
       "      <td>...</td>\n",
       "      <td>...</td>\n",
       "      <td>...</td>\n",
       "      <td>...</td>\n",
       "      <td>...</td>\n",
       "      <td>...</td>\n",
       "      <td>...</td>\n",
       "      <td>...</td>\n",
       "      <td>...</td>\n",
       "      <td>...</td>\n",
       "      <td>...</td>\n",
       "      <td>...</td>\n",
       "      <td>...</td>\n",
       "      <td>...</td>\n",
       "      <td>...</td>\n",
       "      <td>...</td>\n",
       "      <td>...</td>\n",
       "      <td>...</td>\n",
       "      <td>...</td>\n",
       "      <td>...</td>\n",
       "      <td>...</td>\n",
       "      <td>...</td>\n",
       "      <td>...</td>\n",
       "      <td>...</td>\n",
       "      <td>...</td>\n",
       "      <td>...</td>\n",
       "      <td>...</td>\n",
       "      <td>...</td>\n",
       "      <td>...</td>\n",
       "      <td>...</td>\n",
       "      <td>...</td>\n",
       "    </tr>\n",
       "    <tr>\n",
       "      <th>701</th>\n",
       "      <td>45</td>\n",
       "      <td>0</td>\n",
       "      <td>702</td>\n",
       "      <td>0.182331</td>\n",
       "      <td>0.030075</td>\n",
       "      <td>12</td>\n",
       "      <td>5500</td>\n",
       "      <td>1</td>\n",
       "      <td>0</td>\n",
       "      <td>5069</td>\n",
       "      <td>4669</td>\n",
       "      <td>4644</td>\n",
       "      <td>1</td>\n",
       "      <td>NaN</td>\n",
       "      <td>9.664660</td>\n",
       "      <td>0</td>\n",
       "      <td>1</td>\n",
       "      <td>1</td>\n",
       "      <td>3410</td>\n",
       "      <td>0</td>\n",
       "      <td>2985</td>\n",
       "      <td>3385</td>\n",
       "      <td>0</td>\n",
       "      <td>16000</td>\n",
       "      <td>1</td>\n",
       "      <td>2026</td>\n",
       "      <td>0</td>\n",
       "      <td>2026</td>\n",
       "      <td>0</td>\n",
       "      <td>27</td>\n",
       "      <td>0</td>\n",
       "      <td>18</td>\n",
       "      <td>NaN</td>\n",
       "      <td>2025</td>\n",
       "    </tr>\n",
       "    <tr>\n",
       "      <th>702</th>\n",
       "      <td>34</td>\n",
       "      <td>0</td>\n",
       "      <td>703</td>\n",
       "      <td>0.182331</td>\n",
       "      <td>0.030075</td>\n",
       "      <td>10</td>\n",
       "      <td>2500</td>\n",
       "      <td>0</td>\n",
       "      <td>0</td>\n",
       "      <td>5885</td>\n",
       "      <td>5870</td>\n",
       "      <td>5870</td>\n",
       "      <td>0</td>\n",
       "      <td>NaN</td>\n",
       "      <td>0.000000</td>\n",
       "      <td>1</td>\n",
       "      <td>1</td>\n",
       "      <td>0</td>\n",
       "      <td>3535</td>\n",
       "      <td>0</td>\n",
       "      <td>3520</td>\n",
       "      <td>3535</td>\n",
       "      <td>0</td>\n",
       "      <td>0</td>\n",
       "      <td>0</td>\n",
       "      <td>675</td>\n",
       "      <td>1</td>\n",
       "      <td>465</td>\n",
       "      <td>210</td>\n",
       "      <td>18</td>\n",
       "      <td>0</td>\n",
       "      <td>4</td>\n",
       "      <td>NaN</td>\n",
       "      <td>1156</td>\n",
       "    </tr>\n",
       "    <tr>\n",
       "      <th>703</th>\n",
       "      <td>37</td>\n",
       "      <td>0</td>\n",
       "      <td>704</td>\n",
       "      <td>0.182331</td>\n",
       "      <td>0.030075</td>\n",
       "      <td>12</td>\n",
       "      <td>3500</td>\n",
       "      <td>1</td>\n",
       "      <td>0</td>\n",
       "      <td>4719</td>\n",
       "      <td>4719</td>\n",
       "      <td>4584</td>\n",
       "      <td>0</td>\n",
       "      <td>NaN</td>\n",
       "      <td>9.235130</td>\n",
       "      <td>0</td>\n",
       "      <td>1</td>\n",
       "      <td>1</td>\n",
       "      <td>3645</td>\n",
       "      <td>0</td>\n",
       "      <td>3510</td>\n",
       "      <td>3510</td>\n",
       "      <td>0</td>\n",
       "      <td>12000</td>\n",
       "      <td>1</td>\n",
       "      <td>1851</td>\n",
       "      <td>0</td>\n",
       "      <td>1851</td>\n",
       "      <td>0</td>\n",
       "      <td>19</td>\n",
       "      <td>0</td>\n",
       "      <td>17</td>\n",
       "      <td>NaN</td>\n",
       "      <td>1369</td>\n",
       "    </tr>\n",
       "    <tr>\n",
       "      <th>704</th>\n",
       "      <td>54</td>\n",
       "      <td>0</td>\n",
       "      <td>705</td>\n",
       "      <td>0.182331</td>\n",
       "      <td>0.030075</td>\n",
       "      <td>17</td>\n",
       "      <td>32500</td>\n",
       "      <td>1</td>\n",
       "      <td>0</td>\n",
       "      <td>5149</td>\n",
       "      <td>5119</td>\n",
       "      <td>5031</td>\n",
       "      <td>0</td>\n",
       "      <td>NaN</td>\n",
       "      <td>9.210441</td>\n",
       "      <td>0</td>\n",
       "      <td>1</td>\n",
       "      <td>1</td>\n",
       "      <td>3088</td>\n",
       "      <td>1</td>\n",
       "      <td>2970</td>\n",
       "      <td>3000</td>\n",
       "      <td>1</td>\n",
       "      <td>35000</td>\n",
       "      <td>1</td>\n",
       "      <td>1961</td>\n",
       "      <td>1</td>\n",
       "      <td>1481</td>\n",
       "      <td>480</td>\n",
       "      <td>31</td>\n",
       "      <td>0</td>\n",
       "      <td>22</td>\n",
       "      <td>NaN</td>\n",
       "      <td>2916</td>\n",
       "    </tr>\n",
       "    <tr>\n",
       "      <th>705</th>\n",
       "      <td>30</td>\n",
       "      <td>0</td>\n",
       "      <td>706</td>\n",
       "      <td>0.182331</td>\n",
       "      <td>0.030075</td>\n",
       "      <td>16</td>\n",
       "      <td>6750</td>\n",
       "      <td>1</td>\n",
       "      <td>0</td>\n",
       "      <td>4747</td>\n",
       "      <td>4302</td>\n",
       "      <td>4302</td>\n",
       "      <td>0</td>\n",
       "      <td>NaN</td>\n",
       "      <td>9.940350</td>\n",
       "      <td>0</td>\n",
       "      <td>1</td>\n",
       "      <td>0</td>\n",
       "      <td>3415</td>\n",
       "      <td>0</td>\n",
       "      <td>2970</td>\n",
       "      <td>3415</td>\n",
       "      <td>1</td>\n",
       "      <td>0</td>\n",
       "      <td>0</td>\n",
       "      <td>2363</td>\n",
       "      <td>0</td>\n",
       "      <td>2363</td>\n",
       "      <td>0</td>\n",
       "      <td>8</td>\n",
       "      <td>1</td>\n",
       "      <td>9</td>\n",
       "      <td>NaN</td>\n",
       "      <td>900</td>\n",
       "    </tr>\n",
       "  </tbody>\n",
       "</table>\n",
       "<p>706 rows × 34 columns</p>\n",
       "</div>"
      ],
      "text/plain": [
       "     age  black  case  clerical  construc  educ  earns74  gdhlth  inlf  leis1  \\\n",
       "0     32      0     1  0.000000  0.000000    12        0       0     1   3529   \n",
       "1     31      0     2  0.000000  0.000000    14     9500       1     1   2140   \n",
       "2     44      0     3  0.000000  0.000000    17    42500       1     1   4595   \n",
       "3     30      0     4  0.000000  0.000000    12    42500       1     1   3211   \n",
       "4     64      0     5  0.000000  0.000000    14     2500       1     1   4052   \n",
       "..   ...    ...   ...       ...       ...   ...      ...     ...   ...    ...   \n",
       "701   45      0   702  0.182331  0.030075    12     5500       1     0   5069   \n",
       "702   34      0   703  0.182331  0.030075    10     2500       0     0   5885   \n",
       "703   37      0   704  0.182331  0.030075    12     3500       1     0   4719   \n",
       "704   54      0   705  0.182331  0.030075    17    32500       1     0   5149   \n",
       "705   30      0   706  0.182331  0.030075    16     6750       1     0   4747   \n",
       "\n",
       "     leis2  leis3  smsa   lhrwage    lothinc  male  marr  prot  rlxall  selfe  \\\n",
       "0     3479   3479     0  1.955861  10.075380     1     1     1    3163      0   \n",
       "1     2140   2140     0  0.357674   0.000000     1     0     1    2920      1   \n",
       "2     4505   4227     1  3.021887   0.000000     1     1     0    3038      1   \n",
       "3     3211   3211     0  2.263844   0.000000     0     1     1    3083      1   \n",
       "4     4007   4007     0  1.011601   9.328213     1     1     1    3493      0   \n",
       "..     ...    ...   ...       ...        ...   ...   ...   ...     ...    ...   \n",
       "701   4669   4644     1       NaN   9.664660     0     1     1    3410      0   \n",
       "702   5870   5870     0       NaN   0.000000     1     1     0    3535      0   \n",
       "703   4719   4584     0       NaN   9.235130     0     1     1    3645      0   \n",
       "704   5119   5031     0       NaN   9.210441     0     1     1    3088      1   \n",
       "705   4302   4302     0       NaN   9.940350     0     1     0    3415      0   \n",
       "\n",
       "     sleep  slpnaps  south  spsepay  spwrk75  totwrk  union  worknrm  \\\n",
       "0     3113     3163      0        0        0    3438      0     3438   \n",
       "1     2920     2920      1        0        0    5020      0     5020   \n",
       "2     2670     2760      0    20000        1    2815      0     2815   \n",
       "3     3083     3083      0     5000        1    3786      0     3786   \n",
       "4     3448     3493      0     2400        1    2580      0     2580   \n",
       "..     ...      ...    ...      ...      ...     ...    ...      ...   \n",
       "701   2985     3385      0    16000        1    2026      0     2026   \n",
       "702   3520     3535      0        0        0     675      1      465   \n",
       "703   3510     3510      0    12000        1    1851      0     1851   \n",
       "704   2970     3000      1    35000        1    1961      1     1481   \n",
       "705   2970     3415      1        0        0    2363      0     2363   \n",
       "\n",
       "     workscnd  exper  yngkid  yrsmarr     hrwage  agesq  \n",
       "0           0     14       0       13   7.070004   1024  \n",
       "1           0     11       0        0   1.429999    961  \n",
       "2           0     21       0        0  20.529997   1936  \n",
       "3           0     12       0       12   9.619998    900  \n",
       "4           0     44       0       33   2.750000   4096  \n",
       "..        ...    ...     ...      ...        ...    ...  \n",
       "701         0     27       0       18        NaN   2025  \n",
       "702       210     18       0        4        NaN   1156  \n",
       "703         0     19       0       17        NaN   1369  \n",
       "704       480     31       0       22        NaN   2916  \n",
       "705         0      8       1        9        NaN    900  \n",
       "\n",
       "[706 rows x 34 columns]"
      ]
     },
     "execution_count": 100,
     "metadata": {},
     "output_type": "execute_result"
    }
   ],
   "source": [
    "df = pd.read_csv('https://raw.githubusercontent.com/artamonoff/Econometrica/master/python-notebooks/data-csv/sleep75.csv')\n",
    "df "
   ]
  },
  {
   "cell_type": "code",
   "execution_count": 102,
   "id": "c19c9c24",
   "metadata": {},
   "outputs": [
    {
     "data": {
      "text/plain": [
       "Intercept    3444.997481\n",
       "totwrk         -0.169384\n",
       "age             2.784779\n",
       "male           90.743163\n",
       "south         116.443437\n",
       "dtype: float64"
      ]
     },
     "execution_count": 102,
     "metadata": {},
     "output_type": "execute_result"
    }
   ],
   "source": [
    "sleep_eq1 = smf.ols(formula='sleep~totwrk+age+male+south', data=df).fit()\n",
    "sleep_eq1.params "
   ]
  },
  {
   "cell_type": "code",
   "execution_count": 105,
   "id": "a539eef1",
   "metadata": {},
   "outputs": [
    {
     "data": {
      "text/plain": [
       "139239835.763"
      ]
     },
     "execution_count": 105,
     "metadata": {},
     "output_type": "execute_result"
    }
   ],
   "source": [
    "TSS\n",
    "sleep_eq1.centered_tss.round(3)  "
   ]
  },
  {
   "cell_type": "code",
   "execution_count": 104,
   "id": "283545b7",
   "metadata": {},
   "outputs": [
    {
     "data": {
      "text/plain": [
       "17660244.725"
      ]
     },
     "execution_count": 104,
     "metadata": {},
     "output_type": "execute_result"
    }
   ],
   "source": [
    "ESS\n",
    "sleep_eq1.ess.round(3) "
   ]
  },
  {
   "cell_type": "code",
   "execution_count": 108,
   "id": "26e80005",
   "metadata": {},
   "outputs": [
    {
     "data": {
      "text/plain": [
       "121579591.038"
      ]
     },
     "execution_count": 108,
     "metadata": {},
     "output_type": "execute_result"
    }
   ],
   "source": [
    "RSS\n",
    "RSS=sleep_eq1.ssr.round(3) \n",
    "RSS "
   ]
  },
  {
   "cell_type": "code",
   "execution_count": 110,
   "id": "9ab1397b",
   "metadata": {},
   "outputs": [
    {
     "data": {
      "text/plain": [
       "0.1268333"
      ]
     },
     "execution_count": 110,
     "metadata": {},
     "output_type": "execute_result"
    }
   ],
   "source": [
    "R2 \n",
    "sleep_eq1.rsquared.round(7) "
   ]
  },
  {
   "cell_type": "code",
   "execution_count": 111,
   "id": "c2d1b3e9",
   "metadata": {},
   "outputs": [
    {
     "data": {
      "text/plain": [
       "0.1218509"
      ]
     },
     "execution_count": 111,
     "metadata": {},
     "output_type": "execute_result"
    }
   ],
   "source": [
    "R2adj \n",
    "sleep_eq1.rsquared_adj.round(7) "
   ]
  },
  {
   "cell_type": "code",
   "execution_count": 112,
   "id": "2323d851",
   "metadata": {},
   "outputs": [
    {
     "data": {
      "text/plain": [
       "662.507"
      ]
     },
     "execution_count": 112,
     "metadata": {},
     "output_type": "execute_result"
    }
   ],
   "source": [
    "n=282\n",
    "k=4\n",
    "s=np.sqrt(RSS/(n-k-1))\n",
    "round(s,4) "
   ]
  },
  {
   "cell_type": "markdown",
   "id": "1170224a",
   "metadata": {},
   "source": [
    "# 3.3 "
   ]
  },
  {
   "cell_type": "code",
   "execution_count": 113,
   "id": "d2f5397b",
   "metadata": {},
   "outputs": [],
   "source": [
    "import pandas as pd\n",
    "import numpy as np\n",
    "import io\n",
    "import statsmodels.formula.api as smf "
   ]
  },
  {
   "cell_type": "code",
   "execution_count": 114,
   "id": "1dffee29",
   "metadata": {},
   "outputs": [
    {
     "data": {
      "text/html": [
       "<div>\n",
       "<style scoped>\n",
       "    .dataframe tbody tr th:only-of-type {\n",
       "        vertical-align: middle;\n",
       "    }\n",
       "\n",
       "    .dataframe tbody tr th {\n",
       "        vertical-align: top;\n",
       "    }\n",
       "\n",
       "    .dataframe thead th {\n",
       "        text-align: right;\n",
       "    }\n",
       "</style>\n",
       "<table border=\"1\" class=\"dataframe\">\n",
       "  <thead>\n",
       "    <tr style=\"text-align: right;\">\n",
       "      <th></th>\n",
       "      <th>age</th>\n",
       "      <th>black</th>\n",
       "      <th>case</th>\n",
       "      <th>clerical</th>\n",
       "      <th>construc</th>\n",
       "      <th>educ</th>\n",
       "      <th>earns74</th>\n",
       "      <th>gdhlth</th>\n",
       "      <th>inlf</th>\n",
       "      <th>leis1</th>\n",
       "      <th>leis2</th>\n",
       "      <th>leis3</th>\n",
       "      <th>smsa</th>\n",
       "      <th>lhrwage</th>\n",
       "      <th>lothinc</th>\n",
       "      <th>male</th>\n",
       "      <th>marr</th>\n",
       "      <th>prot</th>\n",
       "      <th>rlxall</th>\n",
       "      <th>selfe</th>\n",
       "      <th>sleep</th>\n",
       "      <th>slpnaps</th>\n",
       "      <th>south</th>\n",
       "      <th>spsepay</th>\n",
       "      <th>spwrk75</th>\n",
       "      <th>totwrk</th>\n",
       "      <th>union</th>\n",
       "      <th>worknrm</th>\n",
       "      <th>workscnd</th>\n",
       "      <th>exper</th>\n",
       "      <th>yngkid</th>\n",
       "      <th>yrsmarr</th>\n",
       "      <th>hrwage</th>\n",
       "      <th>agesq</th>\n",
       "    </tr>\n",
       "  </thead>\n",
       "  <tbody>\n",
       "    <tr>\n",
       "      <th>0</th>\n",
       "      <td>32</td>\n",
       "      <td>0</td>\n",
       "      <td>1</td>\n",
       "      <td>0.000000</td>\n",
       "      <td>0.000000</td>\n",
       "      <td>12</td>\n",
       "      <td>0</td>\n",
       "      <td>0</td>\n",
       "      <td>1</td>\n",
       "      <td>3529</td>\n",
       "      <td>3479</td>\n",
       "      <td>3479</td>\n",
       "      <td>0</td>\n",
       "      <td>1.955861</td>\n",
       "      <td>10.075380</td>\n",
       "      <td>1</td>\n",
       "      <td>1</td>\n",
       "      <td>1</td>\n",
       "      <td>3163</td>\n",
       "      <td>0</td>\n",
       "      <td>3113</td>\n",
       "      <td>3163</td>\n",
       "      <td>0</td>\n",
       "      <td>0</td>\n",
       "      <td>0</td>\n",
       "      <td>3438</td>\n",
       "      <td>0</td>\n",
       "      <td>3438</td>\n",
       "      <td>0</td>\n",
       "      <td>14</td>\n",
       "      <td>0</td>\n",
       "      <td>13</td>\n",
       "      <td>7.070004</td>\n",
       "      <td>1024</td>\n",
       "    </tr>\n",
       "    <tr>\n",
       "      <th>1</th>\n",
       "      <td>31</td>\n",
       "      <td>0</td>\n",
       "      <td>2</td>\n",
       "      <td>0.000000</td>\n",
       "      <td>0.000000</td>\n",
       "      <td>14</td>\n",
       "      <td>9500</td>\n",
       "      <td>1</td>\n",
       "      <td>1</td>\n",
       "      <td>2140</td>\n",
       "      <td>2140</td>\n",
       "      <td>2140</td>\n",
       "      <td>0</td>\n",
       "      <td>0.357674</td>\n",
       "      <td>0.000000</td>\n",
       "      <td>1</td>\n",
       "      <td>0</td>\n",
       "      <td>1</td>\n",
       "      <td>2920</td>\n",
       "      <td>1</td>\n",
       "      <td>2920</td>\n",
       "      <td>2920</td>\n",
       "      <td>1</td>\n",
       "      <td>0</td>\n",
       "      <td>0</td>\n",
       "      <td>5020</td>\n",
       "      <td>0</td>\n",
       "      <td>5020</td>\n",
       "      <td>0</td>\n",
       "      <td>11</td>\n",
       "      <td>0</td>\n",
       "      <td>0</td>\n",
       "      <td>1.429999</td>\n",
       "      <td>961</td>\n",
       "    </tr>\n",
       "    <tr>\n",
       "      <th>2</th>\n",
       "      <td>44</td>\n",
       "      <td>0</td>\n",
       "      <td>3</td>\n",
       "      <td>0.000000</td>\n",
       "      <td>0.000000</td>\n",
       "      <td>17</td>\n",
       "      <td>42500</td>\n",
       "      <td>1</td>\n",
       "      <td>1</td>\n",
       "      <td>4595</td>\n",
       "      <td>4505</td>\n",
       "      <td>4227</td>\n",
       "      <td>1</td>\n",
       "      <td>3.021887</td>\n",
       "      <td>0.000000</td>\n",
       "      <td>1</td>\n",
       "      <td>1</td>\n",
       "      <td>0</td>\n",
       "      <td>3038</td>\n",
       "      <td>1</td>\n",
       "      <td>2670</td>\n",
       "      <td>2760</td>\n",
       "      <td>0</td>\n",
       "      <td>20000</td>\n",
       "      <td>1</td>\n",
       "      <td>2815</td>\n",
       "      <td>0</td>\n",
       "      <td>2815</td>\n",
       "      <td>0</td>\n",
       "      <td>21</td>\n",
       "      <td>0</td>\n",
       "      <td>0</td>\n",
       "      <td>20.529997</td>\n",
       "      <td>1936</td>\n",
       "    </tr>\n",
       "    <tr>\n",
       "      <th>3</th>\n",
       "      <td>30</td>\n",
       "      <td>0</td>\n",
       "      <td>4</td>\n",
       "      <td>0.000000</td>\n",
       "      <td>0.000000</td>\n",
       "      <td>12</td>\n",
       "      <td>42500</td>\n",
       "      <td>1</td>\n",
       "      <td>1</td>\n",
       "      <td>3211</td>\n",
       "      <td>3211</td>\n",
       "      <td>3211</td>\n",
       "      <td>0</td>\n",
       "      <td>2.263844</td>\n",
       "      <td>0.000000</td>\n",
       "      <td>0</td>\n",
       "      <td>1</td>\n",
       "      <td>1</td>\n",
       "      <td>3083</td>\n",
       "      <td>1</td>\n",
       "      <td>3083</td>\n",
       "      <td>3083</td>\n",
       "      <td>0</td>\n",
       "      <td>5000</td>\n",
       "      <td>1</td>\n",
       "      <td>3786</td>\n",
       "      <td>0</td>\n",
       "      <td>3786</td>\n",
       "      <td>0</td>\n",
       "      <td>12</td>\n",
       "      <td>0</td>\n",
       "      <td>12</td>\n",
       "      <td>9.619998</td>\n",
       "      <td>900</td>\n",
       "    </tr>\n",
       "    <tr>\n",
       "      <th>4</th>\n",
       "      <td>64</td>\n",
       "      <td>0</td>\n",
       "      <td>5</td>\n",
       "      <td>0.000000</td>\n",
       "      <td>0.000000</td>\n",
       "      <td>14</td>\n",
       "      <td>2500</td>\n",
       "      <td>1</td>\n",
       "      <td>1</td>\n",
       "      <td>4052</td>\n",
       "      <td>4007</td>\n",
       "      <td>4007</td>\n",
       "      <td>0</td>\n",
       "      <td>1.011601</td>\n",
       "      <td>9.328213</td>\n",
       "      <td>1</td>\n",
       "      <td>1</td>\n",
       "      <td>1</td>\n",
       "      <td>3493</td>\n",
       "      <td>0</td>\n",
       "      <td>3448</td>\n",
       "      <td>3493</td>\n",
       "      <td>0</td>\n",
       "      <td>2400</td>\n",
       "      <td>1</td>\n",
       "      <td>2580</td>\n",
       "      <td>0</td>\n",
       "      <td>2580</td>\n",
       "      <td>0</td>\n",
       "      <td>44</td>\n",
       "      <td>0</td>\n",
       "      <td>33</td>\n",
       "      <td>2.750000</td>\n",
       "      <td>4096</td>\n",
       "    </tr>\n",
       "    <tr>\n",
       "      <th>...</th>\n",
       "      <td>...</td>\n",
       "      <td>...</td>\n",
       "      <td>...</td>\n",
       "      <td>...</td>\n",
       "      <td>...</td>\n",
       "      <td>...</td>\n",
       "      <td>...</td>\n",
       "      <td>...</td>\n",
       "      <td>...</td>\n",
       "      <td>...</td>\n",
       "      <td>...</td>\n",
       "      <td>...</td>\n",
       "      <td>...</td>\n",
       "      <td>...</td>\n",
       "      <td>...</td>\n",
       "      <td>...</td>\n",
       "      <td>...</td>\n",
       "      <td>...</td>\n",
       "      <td>...</td>\n",
       "      <td>...</td>\n",
       "      <td>...</td>\n",
       "      <td>...</td>\n",
       "      <td>...</td>\n",
       "      <td>...</td>\n",
       "      <td>...</td>\n",
       "      <td>...</td>\n",
       "      <td>...</td>\n",
       "      <td>...</td>\n",
       "      <td>...</td>\n",
       "      <td>...</td>\n",
       "      <td>...</td>\n",
       "      <td>...</td>\n",
       "      <td>...</td>\n",
       "      <td>...</td>\n",
       "    </tr>\n",
       "    <tr>\n",
       "      <th>701</th>\n",
       "      <td>45</td>\n",
       "      <td>0</td>\n",
       "      <td>702</td>\n",
       "      <td>0.182331</td>\n",
       "      <td>0.030075</td>\n",
       "      <td>12</td>\n",
       "      <td>5500</td>\n",
       "      <td>1</td>\n",
       "      <td>0</td>\n",
       "      <td>5069</td>\n",
       "      <td>4669</td>\n",
       "      <td>4644</td>\n",
       "      <td>1</td>\n",
       "      <td>NaN</td>\n",
       "      <td>9.664660</td>\n",
       "      <td>0</td>\n",
       "      <td>1</td>\n",
       "      <td>1</td>\n",
       "      <td>3410</td>\n",
       "      <td>0</td>\n",
       "      <td>2985</td>\n",
       "      <td>3385</td>\n",
       "      <td>0</td>\n",
       "      <td>16000</td>\n",
       "      <td>1</td>\n",
       "      <td>2026</td>\n",
       "      <td>0</td>\n",
       "      <td>2026</td>\n",
       "      <td>0</td>\n",
       "      <td>27</td>\n",
       "      <td>0</td>\n",
       "      <td>18</td>\n",
       "      <td>NaN</td>\n",
       "      <td>2025</td>\n",
       "    </tr>\n",
       "    <tr>\n",
       "      <th>702</th>\n",
       "      <td>34</td>\n",
       "      <td>0</td>\n",
       "      <td>703</td>\n",
       "      <td>0.182331</td>\n",
       "      <td>0.030075</td>\n",
       "      <td>10</td>\n",
       "      <td>2500</td>\n",
       "      <td>0</td>\n",
       "      <td>0</td>\n",
       "      <td>5885</td>\n",
       "      <td>5870</td>\n",
       "      <td>5870</td>\n",
       "      <td>0</td>\n",
       "      <td>NaN</td>\n",
       "      <td>0.000000</td>\n",
       "      <td>1</td>\n",
       "      <td>1</td>\n",
       "      <td>0</td>\n",
       "      <td>3535</td>\n",
       "      <td>0</td>\n",
       "      <td>3520</td>\n",
       "      <td>3535</td>\n",
       "      <td>0</td>\n",
       "      <td>0</td>\n",
       "      <td>0</td>\n",
       "      <td>675</td>\n",
       "      <td>1</td>\n",
       "      <td>465</td>\n",
       "      <td>210</td>\n",
       "      <td>18</td>\n",
       "      <td>0</td>\n",
       "      <td>4</td>\n",
       "      <td>NaN</td>\n",
       "      <td>1156</td>\n",
       "    </tr>\n",
       "    <tr>\n",
       "      <th>703</th>\n",
       "      <td>37</td>\n",
       "      <td>0</td>\n",
       "      <td>704</td>\n",
       "      <td>0.182331</td>\n",
       "      <td>0.030075</td>\n",
       "      <td>12</td>\n",
       "      <td>3500</td>\n",
       "      <td>1</td>\n",
       "      <td>0</td>\n",
       "      <td>4719</td>\n",
       "      <td>4719</td>\n",
       "      <td>4584</td>\n",
       "      <td>0</td>\n",
       "      <td>NaN</td>\n",
       "      <td>9.235130</td>\n",
       "      <td>0</td>\n",
       "      <td>1</td>\n",
       "      <td>1</td>\n",
       "      <td>3645</td>\n",
       "      <td>0</td>\n",
       "      <td>3510</td>\n",
       "      <td>3510</td>\n",
       "      <td>0</td>\n",
       "      <td>12000</td>\n",
       "      <td>1</td>\n",
       "      <td>1851</td>\n",
       "      <td>0</td>\n",
       "      <td>1851</td>\n",
       "      <td>0</td>\n",
       "      <td>19</td>\n",
       "      <td>0</td>\n",
       "      <td>17</td>\n",
       "      <td>NaN</td>\n",
       "      <td>1369</td>\n",
       "    </tr>\n",
       "    <tr>\n",
       "      <th>704</th>\n",
       "      <td>54</td>\n",
       "      <td>0</td>\n",
       "      <td>705</td>\n",
       "      <td>0.182331</td>\n",
       "      <td>0.030075</td>\n",
       "      <td>17</td>\n",
       "      <td>32500</td>\n",
       "      <td>1</td>\n",
       "      <td>0</td>\n",
       "      <td>5149</td>\n",
       "      <td>5119</td>\n",
       "      <td>5031</td>\n",
       "      <td>0</td>\n",
       "      <td>NaN</td>\n",
       "      <td>9.210441</td>\n",
       "      <td>0</td>\n",
       "      <td>1</td>\n",
       "      <td>1</td>\n",
       "      <td>3088</td>\n",
       "      <td>1</td>\n",
       "      <td>2970</td>\n",
       "      <td>3000</td>\n",
       "      <td>1</td>\n",
       "      <td>35000</td>\n",
       "      <td>1</td>\n",
       "      <td>1961</td>\n",
       "      <td>1</td>\n",
       "      <td>1481</td>\n",
       "      <td>480</td>\n",
       "      <td>31</td>\n",
       "      <td>0</td>\n",
       "      <td>22</td>\n",
       "      <td>NaN</td>\n",
       "      <td>2916</td>\n",
       "    </tr>\n",
       "    <tr>\n",
       "      <th>705</th>\n",
       "      <td>30</td>\n",
       "      <td>0</td>\n",
       "      <td>706</td>\n",
       "      <td>0.182331</td>\n",
       "      <td>0.030075</td>\n",
       "      <td>16</td>\n",
       "      <td>6750</td>\n",
       "      <td>1</td>\n",
       "      <td>0</td>\n",
       "      <td>4747</td>\n",
       "      <td>4302</td>\n",
       "      <td>4302</td>\n",
       "      <td>0</td>\n",
       "      <td>NaN</td>\n",
       "      <td>9.940350</td>\n",
       "      <td>0</td>\n",
       "      <td>1</td>\n",
       "      <td>0</td>\n",
       "      <td>3415</td>\n",
       "      <td>0</td>\n",
       "      <td>2970</td>\n",
       "      <td>3415</td>\n",
       "      <td>1</td>\n",
       "      <td>0</td>\n",
       "      <td>0</td>\n",
       "      <td>2363</td>\n",
       "      <td>0</td>\n",
       "      <td>2363</td>\n",
       "      <td>0</td>\n",
       "      <td>8</td>\n",
       "      <td>1</td>\n",
       "      <td>9</td>\n",
       "      <td>NaN</td>\n",
       "      <td>900</td>\n",
       "    </tr>\n",
       "  </tbody>\n",
       "</table>\n",
       "<p>706 rows × 34 columns</p>\n",
       "</div>"
      ],
      "text/plain": [
       "     age  black  case  clerical  construc  educ  earns74  gdhlth  inlf  leis1  \\\n",
       "0     32      0     1  0.000000  0.000000    12        0       0     1   3529   \n",
       "1     31      0     2  0.000000  0.000000    14     9500       1     1   2140   \n",
       "2     44      0     3  0.000000  0.000000    17    42500       1     1   4595   \n",
       "3     30      0     4  0.000000  0.000000    12    42500       1     1   3211   \n",
       "4     64      0     5  0.000000  0.000000    14     2500       1     1   4052   \n",
       "..   ...    ...   ...       ...       ...   ...      ...     ...   ...    ...   \n",
       "701   45      0   702  0.182331  0.030075    12     5500       1     0   5069   \n",
       "702   34      0   703  0.182331  0.030075    10     2500       0     0   5885   \n",
       "703   37      0   704  0.182331  0.030075    12     3500       1     0   4719   \n",
       "704   54      0   705  0.182331  0.030075    17    32500       1     0   5149   \n",
       "705   30      0   706  0.182331  0.030075    16     6750       1     0   4747   \n",
       "\n",
       "     leis2  leis3  smsa   lhrwage    lothinc  male  marr  prot  rlxall  selfe  \\\n",
       "0     3479   3479     0  1.955861  10.075380     1     1     1    3163      0   \n",
       "1     2140   2140     0  0.357674   0.000000     1     0     1    2920      1   \n",
       "2     4505   4227     1  3.021887   0.000000     1     1     0    3038      1   \n",
       "3     3211   3211     0  2.263844   0.000000     0     1     1    3083      1   \n",
       "4     4007   4007     0  1.011601   9.328213     1     1     1    3493      0   \n",
       "..     ...    ...   ...       ...        ...   ...   ...   ...     ...    ...   \n",
       "701   4669   4644     1       NaN   9.664660     0     1     1    3410      0   \n",
       "702   5870   5870     0       NaN   0.000000     1     1     0    3535      0   \n",
       "703   4719   4584     0       NaN   9.235130     0     1     1    3645      0   \n",
       "704   5119   5031     0       NaN   9.210441     0     1     1    3088      1   \n",
       "705   4302   4302     0       NaN   9.940350     0     1     0    3415      0   \n",
       "\n",
       "     sleep  slpnaps  south  spsepay  spwrk75  totwrk  union  worknrm  \\\n",
       "0     3113     3163      0        0        0    3438      0     3438   \n",
       "1     2920     2920      1        0        0    5020      0     5020   \n",
       "2     2670     2760      0    20000        1    2815      0     2815   \n",
       "3     3083     3083      0     5000        1    3786      0     3786   \n",
       "4     3448     3493      0     2400        1    2580      0     2580   \n",
       "..     ...      ...    ...      ...      ...     ...    ...      ...   \n",
       "701   2985     3385      0    16000        1    2026      0     2026   \n",
       "702   3520     3535      0        0        0     675      1      465   \n",
       "703   3510     3510      0    12000        1    1851      0     1851   \n",
       "704   2970     3000      1    35000        1    1961      1     1481   \n",
       "705   2970     3415      1        0        0    2363      0     2363   \n",
       "\n",
       "     workscnd  exper  yngkid  yrsmarr     hrwage  agesq  \n",
       "0           0     14       0       13   7.070004   1024  \n",
       "1           0     11       0        0   1.429999    961  \n",
       "2           0     21       0        0  20.529997   1936  \n",
       "3           0     12       0       12   9.619998    900  \n",
       "4           0     44       0       33   2.750000   4096  \n",
       "..        ...    ...     ...      ...        ...    ...  \n",
       "701         0     27       0       18        NaN   2025  \n",
       "702       210     18       0        4        NaN   1156  \n",
       "703         0     19       0       17        NaN   1369  \n",
       "704       480     31       0       22        NaN   2916  \n",
       "705         0      8       1        9        NaN    900  \n",
       "\n",
       "[706 rows x 34 columns]"
      ]
     },
     "execution_count": 114,
     "metadata": {},
     "output_type": "execute_result"
    }
   ],
   "source": [
    "pd.set_option('display.max_columns', None)\n",
    "df = pd.read_csv('https://raw.githubusercontent.com/artamonoff/Econometrica/master/python-notebooks/data-csv/sleep75.csv')\n",
    "df "
   ]
  },
  {
   "cell_type": "code",
   "execution_count": 115,
   "id": "089cab5a",
   "metadata": {},
   "outputs": [
    {
     "data": {
      "text/html": [
       "<div>\n",
       "<style scoped>\n",
       "    .dataframe tbody tr th:only-of-type {\n",
       "        vertical-align: middle;\n",
       "    }\n",
       "\n",
       "    .dataframe tbody tr th {\n",
       "        vertical-align: top;\n",
       "    }\n",
       "\n",
       "    .dataframe thead th {\n",
       "        text-align: right;\n",
       "    }\n",
       "</style>\n",
       "<table border=\"1\" class=\"dataframe\">\n",
       "  <thead>\n",
       "    <tr style=\"text-align: right;\">\n",
       "      <th></th>\n",
       "      <th>age</th>\n",
       "      <th>black</th>\n",
       "      <th>case</th>\n",
       "      <th>clerical</th>\n",
       "      <th>construc</th>\n",
       "      <th>educ</th>\n",
       "      <th>earns74</th>\n",
       "      <th>gdhlth</th>\n",
       "      <th>inlf</th>\n",
       "      <th>leis1</th>\n",
       "      <th>leis2</th>\n",
       "      <th>leis3</th>\n",
       "      <th>smsa</th>\n",
       "      <th>lhrwage</th>\n",
       "      <th>lothinc</th>\n",
       "      <th>male</th>\n",
       "      <th>marr</th>\n",
       "      <th>prot</th>\n",
       "      <th>rlxall</th>\n",
       "      <th>selfe</th>\n",
       "      <th>sleep</th>\n",
       "      <th>slpnaps</th>\n",
       "      <th>south</th>\n",
       "      <th>spsepay</th>\n",
       "      <th>spwrk75</th>\n",
       "      <th>totwrk</th>\n",
       "      <th>union</th>\n",
       "      <th>worknrm</th>\n",
       "      <th>workscnd</th>\n",
       "      <th>exper</th>\n",
       "      <th>yngkid</th>\n",
       "      <th>yrsmarr</th>\n",
       "      <th>hrwage</th>\n",
       "      <th>agesq</th>\n",
       "    </tr>\n",
       "  </thead>\n",
       "  <tbody>\n",
       "    <tr>\n",
       "      <th>0</th>\n",
       "      <td>32</td>\n",
       "      <td>0</td>\n",
       "      <td>1</td>\n",
       "      <td>0.000000</td>\n",
       "      <td>0.000000</td>\n",
       "      <td>12</td>\n",
       "      <td>0</td>\n",
       "      <td>0</td>\n",
       "      <td>1</td>\n",
       "      <td>3529</td>\n",
       "      <td>3479</td>\n",
       "      <td>3479</td>\n",
       "      <td>0</td>\n",
       "      <td>1.955861</td>\n",
       "      <td>10.075380</td>\n",
       "      <td>1</td>\n",
       "      <td>1</td>\n",
       "      <td>1</td>\n",
       "      <td>3163</td>\n",
       "      <td>0</td>\n",
       "      <td>3113</td>\n",
       "      <td>3163</td>\n",
       "      <td>0</td>\n",
       "      <td>0</td>\n",
       "      <td>0</td>\n",
       "      <td>3438</td>\n",
       "      <td>0</td>\n",
       "      <td>3438</td>\n",
       "      <td>0</td>\n",
       "      <td>14</td>\n",
       "      <td>0</td>\n",
       "      <td>13</td>\n",
       "      <td>7.070004</td>\n",
       "      <td>1024</td>\n",
       "    </tr>\n",
       "    <tr>\n",
       "      <th>1</th>\n",
       "      <td>31</td>\n",
       "      <td>0</td>\n",
       "      <td>2</td>\n",
       "      <td>0.000000</td>\n",
       "      <td>0.000000</td>\n",
       "      <td>14</td>\n",
       "      <td>9500</td>\n",
       "      <td>1</td>\n",
       "      <td>1</td>\n",
       "      <td>2140</td>\n",
       "      <td>2140</td>\n",
       "      <td>2140</td>\n",
       "      <td>0</td>\n",
       "      <td>0.357674</td>\n",
       "      <td>0.000000</td>\n",
       "      <td>1</td>\n",
       "      <td>0</td>\n",
       "      <td>1</td>\n",
       "      <td>2920</td>\n",
       "      <td>1</td>\n",
       "      <td>2920</td>\n",
       "      <td>2920</td>\n",
       "      <td>1</td>\n",
       "      <td>0</td>\n",
       "      <td>0</td>\n",
       "      <td>5020</td>\n",
       "      <td>0</td>\n",
       "      <td>5020</td>\n",
       "      <td>0</td>\n",
       "      <td>11</td>\n",
       "      <td>0</td>\n",
       "      <td>0</td>\n",
       "      <td>1.429999</td>\n",
       "      <td>961</td>\n",
       "    </tr>\n",
       "    <tr>\n",
       "      <th>2</th>\n",
       "      <td>44</td>\n",
       "      <td>0</td>\n",
       "      <td>3</td>\n",
       "      <td>0.000000</td>\n",
       "      <td>0.000000</td>\n",
       "      <td>17</td>\n",
       "      <td>42500</td>\n",
       "      <td>1</td>\n",
       "      <td>1</td>\n",
       "      <td>4595</td>\n",
       "      <td>4505</td>\n",
       "      <td>4227</td>\n",
       "      <td>1</td>\n",
       "      <td>3.021887</td>\n",
       "      <td>0.000000</td>\n",
       "      <td>1</td>\n",
       "      <td>1</td>\n",
       "      <td>0</td>\n",
       "      <td>3038</td>\n",
       "      <td>1</td>\n",
       "      <td>2670</td>\n",
       "      <td>2760</td>\n",
       "      <td>0</td>\n",
       "      <td>20000</td>\n",
       "      <td>1</td>\n",
       "      <td>2815</td>\n",
       "      <td>0</td>\n",
       "      <td>2815</td>\n",
       "      <td>0</td>\n",
       "      <td>21</td>\n",
       "      <td>0</td>\n",
       "      <td>0</td>\n",
       "      <td>20.529997</td>\n",
       "      <td>1936</td>\n",
       "    </tr>\n",
       "    <tr>\n",
       "      <th>4</th>\n",
       "      <td>64</td>\n",
       "      <td>0</td>\n",
       "      <td>5</td>\n",
       "      <td>0.000000</td>\n",
       "      <td>0.000000</td>\n",
       "      <td>14</td>\n",
       "      <td>2500</td>\n",
       "      <td>1</td>\n",
       "      <td>1</td>\n",
       "      <td>4052</td>\n",
       "      <td>4007</td>\n",
       "      <td>4007</td>\n",
       "      <td>0</td>\n",
       "      <td>1.011601</td>\n",
       "      <td>9.328213</td>\n",
       "      <td>1</td>\n",
       "      <td>1</td>\n",
       "      <td>1</td>\n",
       "      <td>3493</td>\n",
       "      <td>0</td>\n",
       "      <td>3448</td>\n",
       "      <td>3493</td>\n",
       "      <td>0</td>\n",
       "      <td>2400</td>\n",
       "      <td>1</td>\n",
       "      <td>2580</td>\n",
       "      <td>0</td>\n",
       "      <td>2580</td>\n",
       "      <td>0</td>\n",
       "      <td>44</td>\n",
       "      <td>0</td>\n",
       "      <td>33</td>\n",
       "      <td>2.750000</td>\n",
       "      <td>4096</td>\n",
       "    </tr>\n",
       "    <tr>\n",
       "      <th>5</th>\n",
       "      <td>41</td>\n",
       "      <td>0</td>\n",
       "      <td>6</td>\n",
       "      <td>0.000000</td>\n",
       "      <td>0.000000</td>\n",
       "      <td>12</td>\n",
       "      <td>0</td>\n",
       "      <td>1</td>\n",
       "      <td>1</td>\n",
       "      <td>4812</td>\n",
       "      <td>4797</td>\n",
       "      <td>4797</td>\n",
       "      <td>0</td>\n",
       "      <td>2.957511</td>\n",
       "      <td>10.657280</td>\n",
       "      <td>1</td>\n",
       "      <td>1</td>\n",
       "      <td>1</td>\n",
       "      <td>4078</td>\n",
       "      <td>0</td>\n",
       "      <td>4063</td>\n",
       "      <td>4078</td>\n",
       "      <td>0</td>\n",
       "      <td>0</td>\n",
       "      <td>0</td>\n",
       "      <td>1205</td>\n",
       "      <td>0</td>\n",
       "      <td>0</td>\n",
       "      <td>1205</td>\n",
       "      <td>23</td>\n",
       "      <td>0</td>\n",
       "      <td>23</td>\n",
       "      <td>19.249998</td>\n",
       "      <td>1681</td>\n",
       "    </tr>\n",
       "    <tr>\n",
       "      <th>...</th>\n",
       "      <td>...</td>\n",
       "      <td>...</td>\n",
       "      <td>...</td>\n",
       "      <td>...</td>\n",
       "      <td>...</td>\n",
       "      <td>...</td>\n",
       "      <td>...</td>\n",
       "      <td>...</td>\n",
       "      <td>...</td>\n",
       "      <td>...</td>\n",
       "      <td>...</td>\n",
       "      <td>...</td>\n",
       "      <td>...</td>\n",
       "      <td>...</td>\n",
       "      <td>...</td>\n",
       "      <td>...</td>\n",
       "      <td>...</td>\n",
       "      <td>...</td>\n",
       "      <td>...</td>\n",
       "      <td>...</td>\n",
       "      <td>...</td>\n",
       "      <td>...</td>\n",
       "      <td>...</td>\n",
       "      <td>...</td>\n",
       "      <td>...</td>\n",
       "      <td>...</td>\n",
       "      <td>...</td>\n",
       "      <td>...</td>\n",
       "      <td>...</td>\n",
       "      <td>...</td>\n",
       "      <td>...</td>\n",
       "      <td>...</td>\n",
       "      <td>...</td>\n",
       "      <td>...</td>\n",
       "    </tr>\n",
       "    <tr>\n",
       "      <th>692</th>\n",
       "      <td>50</td>\n",
       "      <td>0</td>\n",
       "      <td>693</td>\n",
       "      <td>0.182331</td>\n",
       "      <td>0.030075</td>\n",
       "      <td>12</td>\n",
       "      <td>2500</td>\n",
       "      <td>1</td>\n",
       "      <td>0</td>\n",
       "      <td>4417</td>\n",
       "      <td>4147</td>\n",
       "      <td>4147</td>\n",
       "      <td>0</td>\n",
       "      <td>NaN</td>\n",
       "      <td>9.328213</td>\n",
       "      <td>1</td>\n",
       "      <td>1</td>\n",
       "      <td>0</td>\n",
       "      <td>3330</td>\n",
       "      <td>0</td>\n",
       "      <td>3060</td>\n",
       "      <td>3330</td>\n",
       "      <td>0</td>\n",
       "      <td>2500</td>\n",
       "      <td>1</td>\n",
       "      <td>2603</td>\n",
       "      <td>0</td>\n",
       "      <td>2603</td>\n",
       "      <td>0</td>\n",
       "      <td>32</td>\n",
       "      <td>0</td>\n",
       "      <td>22</td>\n",
       "      <td>NaN</td>\n",
       "      <td>2500</td>\n",
       "    </tr>\n",
       "    <tr>\n",
       "      <th>694</th>\n",
       "      <td>44</td>\n",
       "      <td>0</td>\n",
       "      <td>695</td>\n",
       "      <td>0.182331</td>\n",
       "      <td>0.030075</td>\n",
       "      <td>16</td>\n",
       "      <td>16250</td>\n",
       "      <td>1</td>\n",
       "      <td>0</td>\n",
       "      <td>4539</td>\n",
       "      <td>4451</td>\n",
       "      <td>4393</td>\n",
       "      <td>0</td>\n",
       "      <td>NaN</td>\n",
       "      <td>7.824446</td>\n",
       "      <td>1</td>\n",
       "      <td>1</td>\n",
       "      <td>1</td>\n",
       "      <td>3174</td>\n",
       "      <td>0</td>\n",
       "      <td>3028</td>\n",
       "      <td>3116</td>\n",
       "      <td>0</td>\n",
       "      <td>0</td>\n",
       "      <td>0</td>\n",
       "      <td>2513</td>\n",
       "      <td>0</td>\n",
       "      <td>2513</td>\n",
       "      <td>0</td>\n",
       "      <td>22</td>\n",
       "      <td>0</td>\n",
       "      <td>19</td>\n",
       "      <td>NaN</td>\n",
       "      <td>1936</td>\n",
       "    </tr>\n",
       "    <tr>\n",
       "      <th>695</th>\n",
       "      <td>29</td>\n",
       "      <td>0</td>\n",
       "      <td>696</td>\n",
       "      <td>0.182331</td>\n",
       "      <td>0.030075</td>\n",
       "      <td>16</td>\n",
       "      <td>16250</td>\n",
       "      <td>1</td>\n",
       "      <td>0</td>\n",
       "      <td>4639</td>\n",
       "      <td>4519</td>\n",
       "      <td>4519</td>\n",
       "      <td>0</td>\n",
       "      <td>NaN</td>\n",
       "      <td>9.328213</td>\n",
       "      <td>1</td>\n",
       "      <td>1</td>\n",
       "      <td>1</td>\n",
       "      <td>3143</td>\n",
       "      <td>0</td>\n",
       "      <td>3023</td>\n",
       "      <td>3143</td>\n",
       "      <td>0</td>\n",
       "      <td>0</td>\n",
       "      <td>0</td>\n",
       "      <td>2418</td>\n",
       "      <td>0</td>\n",
       "      <td>2418</td>\n",
       "      <td>0</td>\n",
       "      <td>7</td>\n",
       "      <td>1</td>\n",
       "      <td>5</td>\n",
       "      <td>NaN</td>\n",
       "      <td>841</td>\n",
       "    </tr>\n",
       "    <tr>\n",
       "      <th>699</th>\n",
       "      <td>61</td>\n",
       "      <td>0</td>\n",
       "      <td>700</td>\n",
       "      <td>0.182331</td>\n",
       "      <td>0.030075</td>\n",
       "      <td>17</td>\n",
       "      <td>27500</td>\n",
       "      <td>1</td>\n",
       "      <td>0</td>\n",
       "      <td>4362</td>\n",
       "      <td>4362</td>\n",
       "      <td>4237</td>\n",
       "      <td>0</td>\n",
       "      <td>NaN</td>\n",
       "      <td>9.615872</td>\n",
       "      <td>1</td>\n",
       "      <td>1</td>\n",
       "      <td>0</td>\n",
       "      <td>3118</td>\n",
       "      <td>1</td>\n",
       "      <td>2993</td>\n",
       "      <td>2993</td>\n",
       "      <td>0</td>\n",
       "      <td>0</td>\n",
       "      <td>0</td>\n",
       "      <td>2725</td>\n",
       "      <td>0</td>\n",
       "      <td>2725</td>\n",
       "      <td>0</td>\n",
       "      <td>38</td>\n",
       "      <td>0</td>\n",
       "      <td>30</td>\n",
       "      <td>NaN</td>\n",
       "      <td>3721</td>\n",
       "    </tr>\n",
       "    <tr>\n",
       "      <th>702</th>\n",
       "      <td>34</td>\n",
       "      <td>0</td>\n",
       "      <td>703</td>\n",
       "      <td>0.182331</td>\n",
       "      <td>0.030075</td>\n",
       "      <td>10</td>\n",
       "      <td>2500</td>\n",
       "      <td>0</td>\n",
       "      <td>0</td>\n",
       "      <td>5885</td>\n",
       "      <td>5870</td>\n",
       "      <td>5870</td>\n",
       "      <td>0</td>\n",
       "      <td>NaN</td>\n",
       "      <td>0.000000</td>\n",
       "      <td>1</td>\n",
       "      <td>1</td>\n",
       "      <td>0</td>\n",
       "      <td>3535</td>\n",
       "      <td>0</td>\n",
       "      <td>3520</td>\n",
       "      <td>3535</td>\n",
       "      <td>0</td>\n",
       "      <td>0</td>\n",
       "      <td>0</td>\n",
       "      <td>675</td>\n",
       "      <td>1</td>\n",
       "      <td>465</td>\n",
       "      <td>210</td>\n",
       "      <td>18</td>\n",
       "      <td>0</td>\n",
       "      <td>4</td>\n",
       "      <td>NaN</td>\n",
       "      <td>1156</td>\n",
       "    </tr>\n",
       "  </tbody>\n",
       "</table>\n",
       "<p>400 rows × 34 columns</p>\n",
       "</div>"
      ],
      "text/plain": [
       "     age  black  case  clerical  construc  educ  earns74  gdhlth  inlf  leis1  \\\n",
       "0     32      0     1  0.000000  0.000000    12        0       0     1   3529   \n",
       "1     31      0     2  0.000000  0.000000    14     9500       1     1   2140   \n",
       "2     44      0     3  0.000000  0.000000    17    42500       1     1   4595   \n",
       "4     64      0     5  0.000000  0.000000    14     2500       1     1   4052   \n",
       "5     41      0     6  0.000000  0.000000    12        0       1     1   4812   \n",
       "..   ...    ...   ...       ...       ...   ...      ...     ...   ...    ...   \n",
       "692   50      0   693  0.182331  0.030075    12     2500       1     0   4417   \n",
       "694   44      0   695  0.182331  0.030075    16    16250       1     0   4539   \n",
       "695   29      0   696  0.182331  0.030075    16    16250       1     0   4639   \n",
       "699   61      0   700  0.182331  0.030075    17    27500       1     0   4362   \n",
       "702   34      0   703  0.182331  0.030075    10     2500       0     0   5885   \n",
       "\n",
       "     leis2  leis3  smsa   lhrwage    lothinc  male  marr  prot  rlxall  selfe  \\\n",
       "0     3479   3479     0  1.955861  10.075380     1     1     1    3163      0   \n",
       "1     2140   2140     0  0.357674   0.000000     1     0     1    2920      1   \n",
       "2     4505   4227     1  3.021887   0.000000     1     1     0    3038      1   \n",
       "4     4007   4007     0  1.011601   9.328213     1     1     1    3493      0   \n",
       "5     4797   4797     0  2.957511  10.657280     1     1     1    4078      0   \n",
       "..     ...    ...   ...       ...        ...   ...   ...   ...     ...    ...   \n",
       "692   4147   4147     0       NaN   9.328213     1     1     0    3330      0   \n",
       "694   4451   4393     0       NaN   7.824446     1     1     1    3174      0   \n",
       "695   4519   4519     0       NaN   9.328213     1     1     1    3143      0   \n",
       "699   4362   4237     0       NaN   9.615872     1     1     0    3118      1   \n",
       "702   5870   5870     0       NaN   0.000000     1     1     0    3535      0   \n",
       "\n",
       "     sleep  slpnaps  south  spsepay  spwrk75  totwrk  union  worknrm  \\\n",
       "0     3113     3163      0        0        0    3438      0     3438   \n",
       "1     2920     2920      1        0        0    5020      0     5020   \n",
       "2     2670     2760      0    20000        1    2815      0     2815   \n",
       "4     3448     3493      0     2400        1    2580      0     2580   \n",
       "5     4063     4078      0        0        0    1205      0        0   \n",
       "..     ...      ...    ...      ...      ...     ...    ...      ...   \n",
       "692   3060     3330      0     2500        1    2603      0     2603   \n",
       "694   3028     3116      0        0        0    2513      0     2513   \n",
       "695   3023     3143      0        0        0    2418      0     2418   \n",
       "699   2993     2993      0        0        0    2725      0     2725   \n",
       "702   3520     3535      0        0        0     675      1      465   \n",
       "\n",
       "     workscnd  exper  yngkid  yrsmarr     hrwage  agesq  \n",
       "0           0     14       0       13   7.070004   1024  \n",
       "1           0     11       0        0   1.429999    961  \n",
       "2           0     21       0        0  20.529997   1936  \n",
       "4           0     44       0       33   2.750000   4096  \n",
       "5        1205     23       0       23  19.249998   1681  \n",
       "..        ...    ...     ...      ...        ...    ...  \n",
       "692         0     32       0       22        NaN   2500  \n",
       "694         0     22       0       19        NaN   1936  \n",
       "695         0      7       1        5        NaN    841  \n",
       "699         0     38       0       30        NaN   3721  \n",
       "702       210     18       0        4        NaN   1156  \n",
       "\n",
       "[400 rows x 34 columns]"
      ]
     },
     "execution_count": 115,
     "metadata": {},
     "output_type": "execute_result"
    }
   ],
   "source": [
    "df = df[df.male >= 1]\n",
    "df "
   ]
  },
  {
   "cell_type": "code",
   "execution_count": 116,
   "id": "ae3f82fa",
   "metadata": {},
   "outputs": [
    {
     "data": {
      "text/plain": [
       "Intercept    3600.958512\n",
       "totwrk         -0.187650\n",
       "age             3.301936\n",
       "smsa          -77.686142\n",
       "south          60.113665\n",
       "dtype: float64"
      ]
     },
     "execution_count": 116,
     "metadata": {},
     "output_type": "execute_result"
    }
   ],
   "source": [
    "sleep_eq1 = smf.ols(formula='sleep~totwrk+age+smsa+south', data=df).fit()\n",
    "sleep_eq1.params "
   ]
  },
  {
   "cell_type": "code",
   "execution_count": 118,
   "id": "818cd1d7",
   "metadata": {},
   "outputs": [
    {
     "data": {
      "text/plain": [
       "75570140.578"
      ]
     },
     "execution_count": 118,
     "metadata": {},
     "output_type": "execute_result"
    }
   ],
   "source": [
    "TSS\n",
    "sleep_eq1.centered_tss.round(3) "
   ]
  },
  {
   "cell_type": "code",
   "execution_count": 119,
   "id": "b5cb3677",
   "metadata": {},
   "outputs": [
    {
     "data": {
      "text/plain": [
       "12125135.598"
      ]
     },
     "execution_count": 119,
     "metadata": {},
     "output_type": "execute_result"
    }
   ],
   "source": [
    "ESS\n",
    "sleep_eq1.ess.round(3) "
   ]
  },
  {
   "cell_type": "code",
   "execution_count": 120,
   "id": "e916365d",
   "metadata": {},
   "outputs": [
    {
     "data": {
      "text/plain": [
       "63445004.98"
      ]
     },
     "execution_count": 120,
     "metadata": {},
     "output_type": "execute_result"
    }
   ],
   "source": [
    "RSS\n",
    "RSS=sleep_eq1.ssr.round(3)\n",
    "RSS "
   ]
  },
  {
   "cell_type": "code",
   "execution_count": 121,
   "id": "e9e188ad",
   "metadata": {},
   "outputs": [
    {
     "data": {
      "text/plain": [
       "0.1604488"
      ]
     },
     "execution_count": 121,
     "metadata": {},
     "output_type": "execute_result"
    }
   ],
   "source": [
    "R2\n",
    "sleep_eq1.rsquared.round(7) "
   ]
  },
  {
   "cell_type": "code",
   "execution_count": 124,
   "id": "be1e0e27",
   "metadata": {},
   "outputs": [
    {
     "data": {
      "text/plain": [
       "0.151947"
      ]
     },
     "execution_count": 124,
     "metadata": {},
     "output_type": "execute_result"
    }
   ],
   "source": [
    "R2adj \n",
    "sleep_eq1.rsquared_adj.round(7)  "
   ]
  },
  {
   "cell_type": "code",
   "execution_count": 125,
   "id": "4f64bec8",
   "metadata": {},
   "outputs": [
    {
     "data": {
      "text/plain": [
       "400.7746"
      ]
     },
     "execution_count": 125,
     "metadata": {},
     "output_type": "execute_result"
    }
   ],
   "source": [
    "n=400\n",
    "k=4\n",
    "s=np.sqrt(RSS/(n-k-1))\n",
    "round(s,4) "
   ]
  },
  {
   "cell_type": "markdown",
   "id": "3156071c",
   "metadata": {},
   "source": [
    "# 3.4  "
   ]
  },
  {
   "cell_type": "code",
   "execution_count": 126,
   "id": "081dad21",
   "metadata": {},
   "outputs": [],
   "source": [
    "import pandas as pd\n",
    "import numpy as np\n",
    "import io\n",
    "import statsmodels.formula.api as smf "
   ]
  },
  {
   "cell_type": "code",
   "execution_count": 127,
   "id": "faa3347c",
   "metadata": {},
   "outputs": [],
   "source": [
    "pd.set_option('display.max_columns', None) "
   ]
  },
  {
   "cell_type": "code",
   "execution_count": 128,
   "id": "fac65ee3",
   "metadata": {},
   "outputs": [
    {
     "data": {
      "text/html": [
       "<div>\n",
       "<style scoped>\n",
       "    .dataframe tbody tr th:only-of-type {\n",
       "        vertical-align: middle;\n",
       "    }\n",
       "\n",
       "    .dataframe tbody tr th {\n",
       "        vertical-align: top;\n",
       "    }\n",
       "\n",
       "    .dataframe thead th {\n",
       "        text-align: right;\n",
       "    }\n",
       "</style>\n",
       "<table border=\"1\" class=\"dataframe\">\n",
       "  <thead>\n",
       "    <tr style=\"text-align: right;\">\n",
       "      <th></th>\n",
       "      <th>age</th>\n",
       "      <th>black</th>\n",
       "      <th>case</th>\n",
       "      <th>clerical</th>\n",
       "      <th>construc</th>\n",
       "      <th>educ</th>\n",
       "      <th>earns74</th>\n",
       "      <th>gdhlth</th>\n",
       "      <th>inlf</th>\n",
       "      <th>leis1</th>\n",
       "      <th>leis2</th>\n",
       "      <th>leis3</th>\n",
       "      <th>smsa</th>\n",
       "      <th>lhrwage</th>\n",
       "      <th>lothinc</th>\n",
       "      <th>male</th>\n",
       "      <th>marr</th>\n",
       "      <th>prot</th>\n",
       "      <th>rlxall</th>\n",
       "      <th>selfe</th>\n",
       "      <th>sleep</th>\n",
       "      <th>slpnaps</th>\n",
       "      <th>south</th>\n",
       "      <th>spsepay</th>\n",
       "      <th>spwrk75</th>\n",
       "      <th>totwrk</th>\n",
       "      <th>union</th>\n",
       "      <th>worknrm</th>\n",
       "      <th>workscnd</th>\n",
       "      <th>exper</th>\n",
       "      <th>yngkid</th>\n",
       "      <th>yrsmarr</th>\n",
       "      <th>hrwage</th>\n",
       "      <th>agesq</th>\n",
       "    </tr>\n",
       "  </thead>\n",
       "  <tbody>\n",
       "    <tr>\n",
       "      <th>0</th>\n",
       "      <td>32</td>\n",
       "      <td>0</td>\n",
       "      <td>1</td>\n",
       "      <td>0.000000</td>\n",
       "      <td>0.000000</td>\n",
       "      <td>12</td>\n",
       "      <td>0</td>\n",
       "      <td>0</td>\n",
       "      <td>1</td>\n",
       "      <td>3529</td>\n",
       "      <td>3479</td>\n",
       "      <td>3479</td>\n",
       "      <td>0</td>\n",
       "      <td>1.955861</td>\n",
       "      <td>10.075380</td>\n",
       "      <td>1</td>\n",
       "      <td>1</td>\n",
       "      <td>1</td>\n",
       "      <td>3163</td>\n",
       "      <td>0</td>\n",
       "      <td>3113</td>\n",
       "      <td>3163</td>\n",
       "      <td>0</td>\n",
       "      <td>0</td>\n",
       "      <td>0</td>\n",
       "      <td>3438</td>\n",
       "      <td>0</td>\n",
       "      <td>3438</td>\n",
       "      <td>0</td>\n",
       "      <td>14</td>\n",
       "      <td>0</td>\n",
       "      <td>13</td>\n",
       "      <td>7.070004</td>\n",
       "      <td>1024</td>\n",
       "    </tr>\n",
       "    <tr>\n",
       "      <th>1</th>\n",
       "      <td>31</td>\n",
       "      <td>0</td>\n",
       "      <td>2</td>\n",
       "      <td>0.000000</td>\n",
       "      <td>0.000000</td>\n",
       "      <td>14</td>\n",
       "      <td>9500</td>\n",
       "      <td>1</td>\n",
       "      <td>1</td>\n",
       "      <td>2140</td>\n",
       "      <td>2140</td>\n",
       "      <td>2140</td>\n",
       "      <td>0</td>\n",
       "      <td>0.357674</td>\n",
       "      <td>0.000000</td>\n",
       "      <td>1</td>\n",
       "      <td>0</td>\n",
       "      <td>1</td>\n",
       "      <td>2920</td>\n",
       "      <td>1</td>\n",
       "      <td>2920</td>\n",
       "      <td>2920</td>\n",
       "      <td>1</td>\n",
       "      <td>0</td>\n",
       "      <td>0</td>\n",
       "      <td>5020</td>\n",
       "      <td>0</td>\n",
       "      <td>5020</td>\n",
       "      <td>0</td>\n",
       "      <td>11</td>\n",
       "      <td>0</td>\n",
       "      <td>0</td>\n",
       "      <td>1.429999</td>\n",
       "      <td>961</td>\n",
       "    </tr>\n",
       "    <tr>\n",
       "      <th>2</th>\n",
       "      <td>44</td>\n",
       "      <td>0</td>\n",
       "      <td>3</td>\n",
       "      <td>0.000000</td>\n",
       "      <td>0.000000</td>\n",
       "      <td>17</td>\n",
       "      <td>42500</td>\n",
       "      <td>1</td>\n",
       "      <td>1</td>\n",
       "      <td>4595</td>\n",
       "      <td>4505</td>\n",
       "      <td>4227</td>\n",
       "      <td>1</td>\n",
       "      <td>3.021887</td>\n",
       "      <td>0.000000</td>\n",
       "      <td>1</td>\n",
       "      <td>1</td>\n",
       "      <td>0</td>\n",
       "      <td>3038</td>\n",
       "      <td>1</td>\n",
       "      <td>2670</td>\n",
       "      <td>2760</td>\n",
       "      <td>0</td>\n",
       "      <td>20000</td>\n",
       "      <td>1</td>\n",
       "      <td>2815</td>\n",
       "      <td>0</td>\n",
       "      <td>2815</td>\n",
       "      <td>0</td>\n",
       "      <td>21</td>\n",
       "      <td>0</td>\n",
       "      <td>0</td>\n",
       "      <td>20.529997</td>\n",
       "      <td>1936</td>\n",
       "    </tr>\n",
       "    <tr>\n",
       "      <th>3</th>\n",
       "      <td>30</td>\n",
       "      <td>0</td>\n",
       "      <td>4</td>\n",
       "      <td>0.000000</td>\n",
       "      <td>0.000000</td>\n",
       "      <td>12</td>\n",
       "      <td>42500</td>\n",
       "      <td>1</td>\n",
       "      <td>1</td>\n",
       "      <td>3211</td>\n",
       "      <td>3211</td>\n",
       "      <td>3211</td>\n",
       "      <td>0</td>\n",
       "      <td>2.263844</td>\n",
       "      <td>0.000000</td>\n",
       "      <td>0</td>\n",
       "      <td>1</td>\n",
       "      <td>1</td>\n",
       "      <td>3083</td>\n",
       "      <td>1</td>\n",
       "      <td>3083</td>\n",
       "      <td>3083</td>\n",
       "      <td>0</td>\n",
       "      <td>5000</td>\n",
       "      <td>1</td>\n",
       "      <td>3786</td>\n",
       "      <td>0</td>\n",
       "      <td>3786</td>\n",
       "      <td>0</td>\n",
       "      <td>12</td>\n",
       "      <td>0</td>\n",
       "      <td>12</td>\n",
       "      <td>9.619998</td>\n",
       "      <td>900</td>\n",
       "    </tr>\n",
       "    <tr>\n",
       "      <th>4</th>\n",
       "      <td>64</td>\n",
       "      <td>0</td>\n",
       "      <td>5</td>\n",
       "      <td>0.000000</td>\n",
       "      <td>0.000000</td>\n",
       "      <td>14</td>\n",
       "      <td>2500</td>\n",
       "      <td>1</td>\n",
       "      <td>1</td>\n",
       "      <td>4052</td>\n",
       "      <td>4007</td>\n",
       "      <td>4007</td>\n",
       "      <td>0</td>\n",
       "      <td>1.011601</td>\n",
       "      <td>9.328213</td>\n",
       "      <td>1</td>\n",
       "      <td>1</td>\n",
       "      <td>1</td>\n",
       "      <td>3493</td>\n",
       "      <td>0</td>\n",
       "      <td>3448</td>\n",
       "      <td>3493</td>\n",
       "      <td>0</td>\n",
       "      <td>2400</td>\n",
       "      <td>1</td>\n",
       "      <td>2580</td>\n",
       "      <td>0</td>\n",
       "      <td>2580</td>\n",
       "      <td>0</td>\n",
       "      <td>44</td>\n",
       "      <td>0</td>\n",
       "      <td>33</td>\n",
       "      <td>2.750000</td>\n",
       "      <td>4096</td>\n",
       "    </tr>\n",
       "    <tr>\n",
       "      <th>...</th>\n",
       "      <td>...</td>\n",
       "      <td>...</td>\n",
       "      <td>...</td>\n",
       "      <td>...</td>\n",
       "      <td>...</td>\n",
       "      <td>...</td>\n",
       "      <td>...</td>\n",
       "      <td>...</td>\n",
       "      <td>...</td>\n",
       "      <td>...</td>\n",
       "      <td>...</td>\n",
       "      <td>...</td>\n",
       "      <td>...</td>\n",
       "      <td>...</td>\n",
       "      <td>...</td>\n",
       "      <td>...</td>\n",
       "      <td>...</td>\n",
       "      <td>...</td>\n",
       "      <td>...</td>\n",
       "      <td>...</td>\n",
       "      <td>...</td>\n",
       "      <td>...</td>\n",
       "      <td>...</td>\n",
       "      <td>...</td>\n",
       "      <td>...</td>\n",
       "      <td>...</td>\n",
       "      <td>...</td>\n",
       "      <td>...</td>\n",
       "      <td>...</td>\n",
       "      <td>...</td>\n",
       "      <td>...</td>\n",
       "      <td>...</td>\n",
       "      <td>...</td>\n",
       "      <td>...</td>\n",
       "    </tr>\n",
       "    <tr>\n",
       "      <th>701</th>\n",
       "      <td>45</td>\n",
       "      <td>0</td>\n",
       "      <td>702</td>\n",
       "      <td>0.182331</td>\n",
       "      <td>0.030075</td>\n",
       "      <td>12</td>\n",
       "      <td>5500</td>\n",
       "      <td>1</td>\n",
       "      <td>0</td>\n",
       "      <td>5069</td>\n",
       "      <td>4669</td>\n",
       "      <td>4644</td>\n",
       "      <td>1</td>\n",
       "      <td>NaN</td>\n",
       "      <td>9.664660</td>\n",
       "      <td>0</td>\n",
       "      <td>1</td>\n",
       "      <td>1</td>\n",
       "      <td>3410</td>\n",
       "      <td>0</td>\n",
       "      <td>2985</td>\n",
       "      <td>3385</td>\n",
       "      <td>0</td>\n",
       "      <td>16000</td>\n",
       "      <td>1</td>\n",
       "      <td>2026</td>\n",
       "      <td>0</td>\n",
       "      <td>2026</td>\n",
       "      <td>0</td>\n",
       "      <td>27</td>\n",
       "      <td>0</td>\n",
       "      <td>18</td>\n",
       "      <td>NaN</td>\n",
       "      <td>2025</td>\n",
       "    </tr>\n",
       "    <tr>\n",
       "      <th>702</th>\n",
       "      <td>34</td>\n",
       "      <td>0</td>\n",
       "      <td>703</td>\n",
       "      <td>0.182331</td>\n",
       "      <td>0.030075</td>\n",
       "      <td>10</td>\n",
       "      <td>2500</td>\n",
       "      <td>0</td>\n",
       "      <td>0</td>\n",
       "      <td>5885</td>\n",
       "      <td>5870</td>\n",
       "      <td>5870</td>\n",
       "      <td>0</td>\n",
       "      <td>NaN</td>\n",
       "      <td>0.000000</td>\n",
       "      <td>1</td>\n",
       "      <td>1</td>\n",
       "      <td>0</td>\n",
       "      <td>3535</td>\n",
       "      <td>0</td>\n",
       "      <td>3520</td>\n",
       "      <td>3535</td>\n",
       "      <td>0</td>\n",
       "      <td>0</td>\n",
       "      <td>0</td>\n",
       "      <td>675</td>\n",
       "      <td>1</td>\n",
       "      <td>465</td>\n",
       "      <td>210</td>\n",
       "      <td>18</td>\n",
       "      <td>0</td>\n",
       "      <td>4</td>\n",
       "      <td>NaN</td>\n",
       "      <td>1156</td>\n",
       "    </tr>\n",
       "    <tr>\n",
       "      <th>703</th>\n",
       "      <td>37</td>\n",
       "      <td>0</td>\n",
       "      <td>704</td>\n",
       "      <td>0.182331</td>\n",
       "      <td>0.030075</td>\n",
       "      <td>12</td>\n",
       "      <td>3500</td>\n",
       "      <td>1</td>\n",
       "      <td>0</td>\n",
       "      <td>4719</td>\n",
       "      <td>4719</td>\n",
       "      <td>4584</td>\n",
       "      <td>0</td>\n",
       "      <td>NaN</td>\n",
       "      <td>9.235130</td>\n",
       "      <td>0</td>\n",
       "      <td>1</td>\n",
       "      <td>1</td>\n",
       "      <td>3645</td>\n",
       "      <td>0</td>\n",
       "      <td>3510</td>\n",
       "      <td>3510</td>\n",
       "      <td>0</td>\n",
       "      <td>12000</td>\n",
       "      <td>1</td>\n",
       "      <td>1851</td>\n",
       "      <td>0</td>\n",
       "      <td>1851</td>\n",
       "      <td>0</td>\n",
       "      <td>19</td>\n",
       "      <td>0</td>\n",
       "      <td>17</td>\n",
       "      <td>NaN</td>\n",
       "      <td>1369</td>\n",
       "    </tr>\n",
       "    <tr>\n",
       "      <th>704</th>\n",
       "      <td>54</td>\n",
       "      <td>0</td>\n",
       "      <td>705</td>\n",
       "      <td>0.182331</td>\n",
       "      <td>0.030075</td>\n",
       "      <td>17</td>\n",
       "      <td>32500</td>\n",
       "      <td>1</td>\n",
       "      <td>0</td>\n",
       "      <td>5149</td>\n",
       "      <td>5119</td>\n",
       "      <td>5031</td>\n",
       "      <td>0</td>\n",
       "      <td>NaN</td>\n",
       "      <td>9.210441</td>\n",
       "      <td>0</td>\n",
       "      <td>1</td>\n",
       "      <td>1</td>\n",
       "      <td>3088</td>\n",
       "      <td>1</td>\n",
       "      <td>2970</td>\n",
       "      <td>3000</td>\n",
       "      <td>1</td>\n",
       "      <td>35000</td>\n",
       "      <td>1</td>\n",
       "      <td>1961</td>\n",
       "      <td>1</td>\n",
       "      <td>1481</td>\n",
       "      <td>480</td>\n",
       "      <td>31</td>\n",
       "      <td>0</td>\n",
       "      <td>22</td>\n",
       "      <td>NaN</td>\n",
       "      <td>2916</td>\n",
       "    </tr>\n",
       "    <tr>\n",
       "      <th>705</th>\n",
       "      <td>30</td>\n",
       "      <td>0</td>\n",
       "      <td>706</td>\n",
       "      <td>0.182331</td>\n",
       "      <td>0.030075</td>\n",
       "      <td>16</td>\n",
       "      <td>6750</td>\n",
       "      <td>1</td>\n",
       "      <td>0</td>\n",
       "      <td>4747</td>\n",
       "      <td>4302</td>\n",
       "      <td>4302</td>\n",
       "      <td>0</td>\n",
       "      <td>NaN</td>\n",
       "      <td>9.940350</td>\n",
       "      <td>0</td>\n",
       "      <td>1</td>\n",
       "      <td>0</td>\n",
       "      <td>3415</td>\n",
       "      <td>0</td>\n",
       "      <td>2970</td>\n",
       "      <td>3415</td>\n",
       "      <td>1</td>\n",
       "      <td>0</td>\n",
       "      <td>0</td>\n",
       "      <td>2363</td>\n",
       "      <td>0</td>\n",
       "      <td>2363</td>\n",
       "      <td>0</td>\n",
       "      <td>8</td>\n",
       "      <td>1</td>\n",
       "      <td>9</td>\n",
       "      <td>NaN</td>\n",
       "      <td>900</td>\n",
       "    </tr>\n",
       "  </tbody>\n",
       "</table>\n",
       "<p>706 rows × 34 columns</p>\n",
       "</div>"
      ],
      "text/plain": [
       "     age  black  case  clerical  construc  educ  earns74  gdhlth  inlf  leis1  \\\n",
       "0     32      0     1  0.000000  0.000000    12        0       0     1   3529   \n",
       "1     31      0     2  0.000000  0.000000    14     9500       1     1   2140   \n",
       "2     44      0     3  0.000000  0.000000    17    42500       1     1   4595   \n",
       "3     30      0     4  0.000000  0.000000    12    42500       1     1   3211   \n",
       "4     64      0     5  0.000000  0.000000    14     2500       1     1   4052   \n",
       "..   ...    ...   ...       ...       ...   ...      ...     ...   ...    ...   \n",
       "701   45      0   702  0.182331  0.030075    12     5500       1     0   5069   \n",
       "702   34      0   703  0.182331  0.030075    10     2500       0     0   5885   \n",
       "703   37      0   704  0.182331  0.030075    12     3500       1     0   4719   \n",
       "704   54      0   705  0.182331  0.030075    17    32500       1     0   5149   \n",
       "705   30      0   706  0.182331  0.030075    16     6750       1     0   4747   \n",
       "\n",
       "     leis2  leis3  smsa   lhrwage    lothinc  male  marr  prot  rlxall  selfe  \\\n",
       "0     3479   3479     0  1.955861  10.075380     1     1     1    3163      0   \n",
       "1     2140   2140     0  0.357674   0.000000     1     0     1    2920      1   \n",
       "2     4505   4227     1  3.021887   0.000000     1     1     0    3038      1   \n",
       "3     3211   3211     0  2.263844   0.000000     0     1     1    3083      1   \n",
       "4     4007   4007     0  1.011601   9.328213     1     1     1    3493      0   \n",
       "..     ...    ...   ...       ...        ...   ...   ...   ...     ...    ...   \n",
       "701   4669   4644     1       NaN   9.664660     0     1     1    3410      0   \n",
       "702   5870   5870     0       NaN   0.000000     1     1     0    3535      0   \n",
       "703   4719   4584     0       NaN   9.235130     0     1     1    3645      0   \n",
       "704   5119   5031     0       NaN   9.210441     0     1     1    3088      1   \n",
       "705   4302   4302     0       NaN   9.940350     0     1     0    3415      0   \n",
       "\n",
       "     sleep  slpnaps  south  spsepay  spwrk75  totwrk  union  worknrm  \\\n",
       "0     3113     3163      0        0        0    3438      0     3438   \n",
       "1     2920     2920      1        0        0    5020      0     5020   \n",
       "2     2670     2760      0    20000        1    2815      0     2815   \n",
       "3     3083     3083      0     5000        1    3786      0     3786   \n",
       "4     3448     3493      0     2400        1    2580      0     2580   \n",
       "..     ...      ...    ...      ...      ...     ...    ...      ...   \n",
       "701   2985     3385      0    16000        1    2026      0     2026   \n",
       "702   3520     3535      0        0        0     675      1      465   \n",
       "703   3510     3510      0    12000        1    1851      0     1851   \n",
       "704   2970     3000      1    35000        1    1961      1     1481   \n",
       "705   2970     3415      1        0        0    2363      0     2363   \n",
       "\n",
       "     workscnd  exper  yngkid  yrsmarr     hrwage  agesq  \n",
       "0           0     14       0       13   7.070004   1024  \n",
       "1           0     11       0        0   1.429999    961  \n",
       "2           0     21       0        0  20.529997   1936  \n",
       "3           0     12       0       12   9.619998    900  \n",
       "4           0     44       0       33   2.750000   4096  \n",
       "..        ...    ...     ...      ...        ...    ...  \n",
       "701         0     27       0       18        NaN   2025  \n",
       "702       210     18       0        4        NaN   1156  \n",
       "703         0     19       0       17        NaN   1369  \n",
       "704       480     31       0       22        NaN   2916  \n",
       "705         0      8       1        9        NaN    900  \n",
       "\n",
       "[706 rows x 34 columns]"
      ]
     },
     "execution_count": 128,
     "metadata": {},
     "output_type": "execute_result"
    }
   ],
   "source": [
    "df = pd.read_csv('https://raw.githubusercontent.com/artamonoff/Econometrica/master/python-notebooks/data-csv/sleep75.csv')\n",
    "df "
   ]
  },
  {
   "cell_type": "code",
   "execution_count": 130,
   "id": "76410137",
   "metadata": {},
   "outputs": [
    {
     "data": {
      "text/html": [
       "<div>\n",
       "<style scoped>\n",
       "    .dataframe tbody tr th:only-of-type {\n",
       "        vertical-align: middle;\n",
       "    }\n",
       "\n",
       "    .dataframe tbody tr th {\n",
       "        vertical-align: top;\n",
       "    }\n",
       "\n",
       "    .dataframe thead th {\n",
       "        text-align: right;\n",
       "    }\n",
       "</style>\n",
       "<table border=\"1\" class=\"dataframe\">\n",
       "  <thead>\n",
       "    <tr style=\"text-align: right;\">\n",
       "      <th></th>\n",
       "      <th>age</th>\n",
       "      <th>black</th>\n",
       "      <th>case</th>\n",
       "      <th>clerical</th>\n",
       "      <th>construc</th>\n",
       "      <th>educ</th>\n",
       "      <th>earns74</th>\n",
       "      <th>gdhlth</th>\n",
       "      <th>inlf</th>\n",
       "      <th>leis1</th>\n",
       "      <th>leis2</th>\n",
       "      <th>leis3</th>\n",
       "      <th>smsa</th>\n",
       "      <th>lhrwage</th>\n",
       "      <th>lothinc</th>\n",
       "      <th>male</th>\n",
       "      <th>marr</th>\n",
       "      <th>prot</th>\n",
       "      <th>rlxall</th>\n",
       "      <th>selfe</th>\n",
       "      <th>sleep</th>\n",
       "      <th>slpnaps</th>\n",
       "      <th>south</th>\n",
       "      <th>spsepay</th>\n",
       "      <th>spwrk75</th>\n",
       "      <th>totwrk</th>\n",
       "      <th>union</th>\n",
       "      <th>worknrm</th>\n",
       "      <th>workscnd</th>\n",
       "      <th>exper</th>\n",
       "      <th>yngkid</th>\n",
       "      <th>yrsmarr</th>\n",
       "      <th>hrwage</th>\n",
       "      <th>agesq</th>\n",
       "    </tr>\n",
       "  </thead>\n",
       "  <tbody>\n",
       "    <tr>\n",
       "      <th>3</th>\n",
       "      <td>30</td>\n",
       "      <td>0</td>\n",
       "      <td>4</td>\n",
       "      <td>0.000000</td>\n",
       "      <td>0.000000</td>\n",
       "      <td>12</td>\n",
       "      <td>42500</td>\n",
       "      <td>1</td>\n",
       "      <td>1</td>\n",
       "      <td>3211</td>\n",
       "      <td>3211</td>\n",
       "      <td>3211</td>\n",
       "      <td>0</td>\n",
       "      <td>2.263844</td>\n",
       "      <td>0.000000</td>\n",
       "      <td>0</td>\n",
       "      <td>1</td>\n",
       "      <td>1</td>\n",
       "      <td>3083</td>\n",
       "      <td>1</td>\n",
       "      <td>3083</td>\n",
       "      <td>3083</td>\n",
       "      <td>0</td>\n",
       "      <td>5000</td>\n",
       "      <td>1</td>\n",
       "      <td>3786</td>\n",
       "      <td>0</td>\n",
       "      <td>3786</td>\n",
       "      <td>0</td>\n",
       "      <td>12</td>\n",
       "      <td>0</td>\n",
       "      <td>12</td>\n",
       "      <td>9.619998</td>\n",
       "      <td>900</td>\n",
       "    </tr>\n",
       "    <tr>\n",
       "      <th>11</th>\n",
       "      <td>23</td>\n",
       "      <td>0</td>\n",
       "      <td>12</td>\n",
       "      <td>0.000000</td>\n",
       "      <td>0.000000</td>\n",
       "      <td>16</td>\n",
       "      <td>1000</td>\n",
       "      <td>1</td>\n",
       "      <td>1</td>\n",
       "      <td>6415</td>\n",
       "      <td>6355</td>\n",
       "      <td>6230</td>\n",
       "      <td>1</td>\n",
       "      <td>0.207014</td>\n",
       "      <td>7.313887</td>\n",
       "      <td>0</td>\n",
       "      <td>1</td>\n",
       "      <td>0</td>\n",
       "      <td>3480</td>\n",
       "      <td>0</td>\n",
       "      <td>3295</td>\n",
       "      <td>3355</td>\n",
       "      <td>0</td>\n",
       "      <td>3000</td>\n",
       "      <td>1</td>\n",
       "      <td>370</td>\n",
       "      <td>0</td>\n",
       "      <td>370</td>\n",
       "      <td>0</td>\n",
       "      <td>1</td>\n",
       "      <td>0</td>\n",
       "      <td>4</td>\n",
       "      <td>1.230000</td>\n",
       "      <td>529</td>\n",
       "    </tr>\n",
       "    <tr>\n",
       "      <th>27</th>\n",
       "      <td>35</td>\n",
       "      <td>0</td>\n",
       "      <td>28</td>\n",
       "      <td>1.000000</td>\n",
       "      <td>0.000000</td>\n",
       "      <td>12</td>\n",
       "      <td>6750</td>\n",
       "      <td>1</td>\n",
       "      <td>1</td>\n",
       "      <td>4904</td>\n",
       "      <td>4829</td>\n",
       "      <td>4829</td>\n",
       "      <td>1</td>\n",
       "      <td>0.989541</td>\n",
       "      <td>7.313887</td>\n",
       "      <td>0</td>\n",
       "      <td>0</td>\n",
       "      <td>1</td>\n",
       "      <td>3001</td>\n",
       "      <td>0</td>\n",
       "      <td>2926</td>\n",
       "      <td>3001</td>\n",
       "      <td>0</td>\n",
       "      <td>0</td>\n",
       "      <td>0</td>\n",
       "      <td>2250</td>\n",
       "      <td>0</td>\n",
       "      <td>2250</td>\n",
       "      <td>0</td>\n",
       "      <td>17</td>\n",
       "      <td>0</td>\n",
       "      <td>0</td>\n",
       "      <td>2.690000</td>\n",
       "      <td>1225</td>\n",
       "    </tr>\n",
       "    <tr>\n",
       "      <th>42</th>\n",
       "      <td>44</td>\n",
       "      <td>0</td>\n",
       "      <td>43</td>\n",
       "      <td>0.000000</td>\n",
       "      <td>0.000000</td>\n",
       "      <td>17</td>\n",
       "      <td>6750</td>\n",
       "      <td>1</td>\n",
       "      <td>1</td>\n",
       "      <td>4804</td>\n",
       "      <td>4591</td>\n",
       "      <td>4591</td>\n",
       "      <td>0</td>\n",
       "      <td>0.770108</td>\n",
       "      <td>7.313887</td>\n",
       "      <td>0</td>\n",
       "      <td>0</td>\n",
       "      <td>0</td>\n",
       "      <td>2978</td>\n",
       "      <td>1</td>\n",
       "      <td>2765</td>\n",
       "      <td>2978</td>\n",
       "      <td>0</td>\n",
       "      <td>0</td>\n",
       "      <td>0</td>\n",
       "      <td>2511</td>\n",
       "      <td>0</td>\n",
       "      <td>2511</td>\n",
       "      <td>0</td>\n",
       "      <td>21</td>\n",
       "      <td>0</td>\n",
       "      <td>0</td>\n",
       "      <td>2.159999</td>\n",
       "      <td>1936</td>\n",
       "    </tr>\n",
       "    <tr>\n",
       "      <th>55</th>\n",
       "      <td>24</td>\n",
       "      <td>0</td>\n",
       "      <td>56</td>\n",
       "      <td>0.000000</td>\n",
       "      <td>0.000000</td>\n",
       "      <td>14</td>\n",
       "      <td>1000</td>\n",
       "      <td>1</td>\n",
       "      <td>1</td>\n",
       "      <td>5490</td>\n",
       "      <td>5490</td>\n",
       "      <td>5490</td>\n",
       "      <td>0</td>\n",
       "      <td>0.048790</td>\n",
       "      <td>0.000000</td>\n",
       "      <td>0</td>\n",
       "      <td>0</td>\n",
       "      <td>0</td>\n",
       "      <td>2790</td>\n",
       "      <td>1</td>\n",
       "      <td>2790</td>\n",
       "      <td>2790</td>\n",
       "      <td>0</td>\n",
       "      <td>0</td>\n",
       "      <td>0</td>\n",
       "      <td>1800</td>\n",
       "      <td>1</td>\n",
       "      <td>1800</td>\n",
       "      <td>0</td>\n",
       "      <td>4</td>\n",
       "      <td>0</td>\n",
       "      <td>0</td>\n",
       "      <td>1.050000</td>\n",
       "      <td>576</td>\n",
       "    </tr>\n",
       "    <tr>\n",
       "      <th>...</th>\n",
       "      <td>...</td>\n",
       "      <td>...</td>\n",
       "      <td>...</td>\n",
       "      <td>...</td>\n",
       "      <td>...</td>\n",
       "      <td>...</td>\n",
       "      <td>...</td>\n",
       "      <td>...</td>\n",
       "      <td>...</td>\n",
       "      <td>...</td>\n",
       "      <td>...</td>\n",
       "      <td>...</td>\n",
       "      <td>...</td>\n",
       "      <td>...</td>\n",
       "      <td>...</td>\n",
       "      <td>...</td>\n",
       "      <td>...</td>\n",
       "      <td>...</td>\n",
       "      <td>...</td>\n",
       "      <td>...</td>\n",
       "      <td>...</td>\n",
       "      <td>...</td>\n",
       "      <td>...</td>\n",
       "      <td>...</td>\n",
       "      <td>...</td>\n",
       "      <td>...</td>\n",
       "      <td>...</td>\n",
       "      <td>...</td>\n",
       "      <td>...</td>\n",
       "      <td>...</td>\n",
       "      <td>...</td>\n",
       "      <td>...</td>\n",
       "      <td>...</td>\n",
       "      <td>...</td>\n",
       "    </tr>\n",
       "    <tr>\n",
       "      <th>700</th>\n",
       "      <td>32</td>\n",
       "      <td>0</td>\n",
       "      <td>701</td>\n",
       "      <td>0.182331</td>\n",
       "      <td>0.030075</td>\n",
       "      <td>16</td>\n",
       "      <td>10500</td>\n",
       "      <td>1</td>\n",
       "      <td>0</td>\n",
       "      <td>4707</td>\n",
       "      <td>4587</td>\n",
       "      <td>4512</td>\n",
       "      <td>1</td>\n",
       "      <td>NaN</td>\n",
       "      <td>9.282754</td>\n",
       "      <td>0</td>\n",
       "      <td>0</td>\n",
       "      <td>0</td>\n",
       "      <td>3180</td>\n",
       "      <td>0</td>\n",
       "      <td>2985</td>\n",
       "      <td>3105</td>\n",
       "      <td>1</td>\n",
       "      <td>0</td>\n",
       "      <td>0</td>\n",
       "      <td>2388</td>\n",
       "      <td>0</td>\n",
       "      <td>2388</td>\n",
       "      <td>0</td>\n",
       "      <td>10</td>\n",
       "      <td>0</td>\n",
       "      <td>0</td>\n",
       "      <td>NaN</td>\n",
       "      <td>1024</td>\n",
       "    </tr>\n",
       "    <tr>\n",
       "      <th>701</th>\n",
       "      <td>45</td>\n",
       "      <td>0</td>\n",
       "      <td>702</td>\n",
       "      <td>0.182331</td>\n",
       "      <td>0.030075</td>\n",
       "      <td>12</td>\n",
       "      <td>5500</td>\n",
       "      <td>1</td>\n",
       "      <td>0</td>\n",
       "      <td>5069</td>\n",
       "      <td>4669</td>\n",
       "      <td>4644</td>\n",
       "      <td>1</td>\n",
       "      <td>NaN</td>\n",
       "      <td>9.664660</td>\n",
       "      <td>0</td>\n",
       "      <td>1</td>\n",
       "      <td>1</td>\n",
       "      <td>3410</td>\n",
       "      <td>0</td>\n",
       "      <td>2985</td>\n",
       "      <td>3385</td>\n",
       "      <td>0</td>\n",
       "      <td>16000</td>\n",
       "      <td>1</td>\n",
       "      <td>2026</td>\n",
       "      <td>0</td>\n",
       "      <td>2026</td>\n",
       "      <td>0</td>\n",
       "      <td>27</td>\n",
       "      <td>0</td>\n",
       "      <td>18</td>\n",
       "      <td>NaN</td>\n",
       "      <td>2025</td>\n",
       "    </tr>\n",
       "    <tr>\n",
       "      <th>703</th>\n",
       "      <td>37</td>\n",
       "      <td>0</td>\n",
       "      <td>704</td>\n",
       "      <td>0.182331</td>\n",
       "      <td>0.030075</td>\n",
       "      <td>12</td>\n",
       "      <td>3500</td>\n",
       "      <td>1</td>\n",
       "      <td>0</td>\n",
       "      <td>4719</td>\n",
       "      <td>4719</td>\n",
       "      <td>4584</td>\n",
       "      <td>0</td>\n",
       "      <td>NaN</td>\n",
       "      <td>9.235130</td>\n",
       "      <td>0</td>\n",
       "      <td>1</td>\n",
       "      <td>1</td>\n",
       "      <td>3645</td>\n",
       "      <td>0</td>\n",
       "      <td>3510</td>\n",
       "      <td>3510</td>\n",
       "      <td>0</td>\n",
       "      <td>12000</td>\n",
       "      <td>1</td>\n",
       "      <td>1851</td>\n",
       "      <td>0</td>\n",
       "      <td>1851</td>\n",
       "      <td>0</td>\n",
       "      <td>19</td>\n",
       "      <td>0</td>\n",
       "      <td>17</td>\n",
       "      <td>NaN</td>\n",
       "      <td>1369</td>\n",
       "    </tr>\n",
       "    <tr>\n",
       "      <th>704</th>\n",
       "      <td>54</td>\n",
       "      <td>0</td>\n",
       "      <td>705</td>\n",
       "      <td>0.182331</td>\n",
       "      <td>0.030075</td>\n",
       "      <td>17</td>\n",
       "      <td>32500</td>\n",
       "      <td>1</td>\n",
       "      <td>0</td>\n",
       "      <td>5149</td>\n",
       "      <td>5119</td>\n",
       "      <td>5031</td>\n",
       "      <td>0</td>\n",
       "      <td>NaN</td>\n",
       "      <td>9.210441</td>\n",
       "      <td>0</td>\n",
       "      <td>1</td>\n",
       "      <td>1</td>\n",
       "      <td>3088</td>\n",
       "      <td>1</td>\n",
       "      <td>2970</td>\n",
       "      <td>3000</td>\n",
       "      <td>1</td>\n",
       "      <td>35000</td>\n",
       "      <td>1</td>\n",
       "      <td>1961</td>\n",
       "      <td>1</td>\n",
       "      <td>1481</td>\n",
       "      <td>480</td>\n",
       "      <td>31</td>\n",
       "      <td>0</td>\n",
       "      <td>22</td>\n",
       "      <td>NaN</td>\n",
       "      <td>2916</td>\n",
       "    </tr>\n",
       "    <tr>\n",
       "      <th>705</th>\n",
       "      <td>30</td>\n",
       "      <td>0</td>\n",
       "      <td>706</td>\n",
       "      <td>0.182331</td>\n",
       "      <td>0.030075</td>\n",
       "      <td>16</td>\n",
       "      <td>6750</td>\n",
       "      <td>1</td>\n",
       "      <td>0</td>\n",
       "      <td>4747</td>\n",
       "      <td>4302</td>\n",
       "      <td>4302</td>\n",
       "      <td>0</td>\n",
       "      <td>NaN</td>\n",
       "      <td>9.940350</td>\n",
       "      <td>0</td>\n",
       "      <td>1</td>\n",
       "      <td>0</td>\n",
       "      <td>3415</td>\n",
       "      <td>0</td>\n",
       "      <td>2970</td>\n",
       "      <td>3415</td>\n",
       "      <td>1</td>\n",
       "      <td>0</td>\n",
       "      <td>0</td>\n",
       "      <td>2363</td>\n",
       "      <td>0</td>\n",
       "      <td>2363</td>\n",
       "      <td>0</td>\n",
       "      <td>8</td>\n",
       "      <td>1</td>\n",
       "      <td>9</td>\n",
       "      <td>NaN</td>\n",
       "      <td>900</td>\n",
       "    </tr>\n",
       "  </tbody>\n",
       "</table>\n",
       "<p>306 rows × 34 columns</p>\n",
       "</div>"
      ],
      "text/plain": [
       "     age  black  case  clerical  construc  educ  earns74  gdhlth  inlf  leis1  \\\n",
       "3     30      0     4  0.000000  0.000000    12    42500       1     1   3211   \n",
       "11    23      0    12  0.000000  0.000000    16     1000       1     1   6415   \n",
       "27    35      0    28  1.000000  0.000000    12     6750       1     1   4904   \n",
       "42    44      0    43  0.000000  0.000000    17     6750       1     1   4804   \n",
       "55    24      0    56  0.000000  0.000000    14     1000       1     1   5490   \n",
       "..   ...    ...   ...       ...       ...   ...      ...     ...   ...    ...   \n",
       "700   32      0   701  0.182331  0.030075    16    10500       1     0   4707   \n",
       "701   45      0   702  0.182331  0.030075    12     5500       1     0   5069   \n",
       "703   37      0   704  0.182331  0.030075    12     3500       1     0   4719   \n",
       "704   54      0   705  0.182331  0.030075    17    32500       1     0   5149   \n",
       "705   30      0   706  0.182331  0.030075    16     6750       1     0   4747   \n",
       "\n",
       "     leis2  leis3  smsa   lhrwage   lothinc  male  marr  prot  rlxall  selfe  \\\n",
       "3     3211   3211     0  2.263844  0.000000     0     1     1    3083      1   \n",
       "11    6355   6230     1  0.207014  7.313887     0     1     0    3480      0   \n",
       "27    4829   4829     1  0.989541  7.313887     0     0     1    3001      0   \n",
       "42    4591   4591     0  0.770108  7.313887     0     0     0    2978      1   \n",
       "55    5490   5490     0  0.048790  0.000000     0     0     0    2790      1   \n",
       "..     ...    ...   ...       ...       ...   ...   ...   ...     ...    ...   \n",
       "700   4587   4512     1       NaN  9.282754     0     0     0    3180      0   \n",
       "701   4669   4644     1       NaN  9.664660     0     1     1    3410      0   \n",
       "703   4719   4584     0       NaN  9.235130     0     1     1    3645      0   \n",
       "704   5119   5031     0       NaN  9.210441     0     1     1    3088      1   \n",
       "705   4302   4302     0       NaN  9.940350     0     1     0    3415      0   \n",
       "\n",
       "     sleep  slpnaps  south  spsepay  spwrk75  totwrk  union  worknrm  \\\n",
       "3     3083     3083      0     5000        1    3786      0     3786   \n",
       "11    3295     3355      0     3000        1     370      0      370   \n",
       "27    2926     3001      0        0        0    2250      0     2250   \n",
       "42    2765     2978      0        0        0    2511      0     2511   \n",
       "55    2790     2790      0        0        0    1800      1     1800   \n",
       "..     ...      ...    ...      ...      ...     ...    ...      ...   \n",
       "700   2985     3105      1        0        0    2388      0     2388   \n",
       "701   2985     3385      0    16000        1    2026      0     2026   \n",
       "703   3510     3510      0    12000        1    1851      0     1851   \n",
       "704   2970     3000      1    35000        1    1961      1     1481   \n",
       "705   2970     3415      1        0        0    2363      0     2363   \n",
       "\n",
       "     workscnd  exper  yngkid  yrsmarr    hrwage  agesq  \n",
       "3           0     12       0       12  9.619998    900  \n",
       "11          0      1       0        4  1.230000    529  \n",
       "27          0     17       0        0  2.690000   1225  \n",
       "42          0     21       0        0  2.159999   1936  \n",
       "55          0      4       0        0  1.050000    576  \n",
       "..        ...    ...     ...      ...       ...    ...  \n",
       "700         0     10       0        0       NaN   1024  \n",
       "701         0     27       0       18       NaN   2025  \n",
       "703         0     19       0       17       NaN   1369  \n",
       "704       480     31       0       22       NaN   2916  \n",
       "705         0      8       1        9       NaN    900  \n",
       "\n",
       "[306 rows x 34 columns]"
      ]
     },
     "execution_count": 130,
     "metadata": {},
     "output_type": "execute_result"
    }
   ],
   "source": [
    "df = df[df.male >= 0]\n",
    "df  "
   ]
  },
  {
   "cell_type": "code",
   "execution_count": 131,
   "id": "52da84e6",
   "metadata": {},
   "outputs": [
    {
     "data": {
      "text/plain": [
       "Intercept    3468.202663\n",
       "totwrk         -0.150993\n",
       "age             1.645390\n",
       "smsa          -37.687393\n",
       "south         136.029203\n",
       "dtype: float64"
      ]
     },
     "execution_count": 131,
     "metadata": {},
     "output_type": "execute_result"
    }
   ],
   "source": [
    "sleep_eq1 = smf.ols(formula='sleep~totwrk+age+smsa+south', data=df).fit()\n",
    "sleep_eq1.params "
   ]
  },
  {
   "cell_type": "code",
   "execution_count": 133,
   "id": "1be140eb",
   "metadata": {},
   "outputs": [
    {
     "data": {
      "text/plain": [
       "6300990.569"
      ]
     },
     "execution_count": 133,
     "metadata": {},
     "output_type": "execute_result"
    }
   ],
   "source": [
    "ESS\n",
    "sleep_eq1.ess.round(3) "
   ]
  },
  {
   "cell_type": "code",
   "execution_count": 135,
   "id": "65baf02b",
   "metadata": {},
   "outputs": [
    {
     "data": {
      "text/plain": [
       "63490152.118"
      ]
     },
     "execution_count": 135,
     "metadata": {},
     "output_type": "execute_result"
    }
   ],
   "source": [
    "TSS\n",
    "sleep_eq1.centered_tss.round(3)  "
   ]
  },
  {
   "cell_type": "code",
   "execution_count": 136,
   "id": "721b741b",
   "metadata": {},
   "outputs": [
    {
     "data": {
      "text/plain": [
       "57189161.549"
      ]
     },
     "execution_count": 136,
     "metadata": {},
     "output_type": "execute_result"
    }
   ],
   "source": [
    "RSS=sleep_eq1.ssr.round(3)\n",
    "RSS "
   ]
  },
  {
   "cell_type": "code",
   "execution_count": 137,
   "id": "0a904a7b",
   "metadata": {},
   "outputs": [
    {
     "data": {
      "text/plain": [
       "0.0992436"
      ]
     },
     "execution_count": 137,
     "metadata": {},
     "output_type": "execute_result"
    }
   ],
   "source": [
    "R2\n",
    "sleep_eq1.rsquared.round(7) "
   ]
  },
  {
   "cell_type": "code",
   "execution_count": 138,
   "id": "98d9d7d0",
   "metadata": {},
   "outputs": [
    {
     "data": {
      "text/plain": [
       "0.0872734"
      ]
     },
     "execution_count": 138,
     "metadata": {},
     "output_type": "execute_result"
    }
   ],
   "source": [
    "R2adj\n",
    "sleep_eq1.rsquared_adj.round(7) "
   ]
  },
  {
   "cell_type": "code",
   "execution_count": 139,
   "id": "950b37ef",
   "metadata": {},
   "outputs": [
    {
     "data": {
      "text/plain": [
       "435.8867"
      ]
     },
     "execution_count": 139,
     "metadata": {},
     "output_type": "execute_result"
    }
   ],
   "source": [
    "n=306\n",
    "k=4\n",
    "s=np.sqrt(RSS/(n-k-1))\n",
    "round(s,4) "
   ]
  },
  {
   "cell_type": "markdown",
   "id": "2456ef04",
   "metadata": {},
   "source": [
    "# 3.5 "
   ]
  },
  {
   "cell_type": "code",
   "execution_count": 140,
   "id": "f8d878e5",
   "metadata": {},
   "outputs": [],
   "source": [
    "import pandas as pd\n",
    "import numpy as np\n",
    "import io\n",
    "import statsmodels.formula.api as smf "
   ]
  },
  {
   "cell_type": "code",
   "execution_count": 141,
   "id": "a4873b12",
   "metadata": {},
   "outputs": [
    {
     "data": {
      "text/html": [
       "<div>\n",
       "<style scoped>\n",
       "    .dataframe tbody tr th:only-of-type {\n",
       "        vertical-align: middle;\n",
       "    }\n",
       "\n",
       "    .dataframe tbody tr th {\n",
       "        vertical-align: top;\n",
       "    }\n",
       "\n",
       "    .dataframe thead th {\n",
       "        text-align: right;\n",
       "    }\n",
       "</style>\n",
       "<table border=\"1\" class=\"dataframe\">\n",
       "  <thead>\n",
       "    <tr style=\"text-align: right;\">\n",
       "      <th></th>\n",
       "      <th>capital</th>\n",
       "      <th>labour</th>\n",
       "      <th>output</th>\n",
       "      <th>wage</th>\n",
       "    </tr>\n",
       "  </thead>\n",
       "  <tbody>\n",
       "    <tr>\n",
       "      <th>0</th>\n",
       "      <td>2.606563</td>\n",
       "      <td>184</td>\n",
       "      <td>9.250759</td>\n",
       "      <td>43.080307</td>\n",
       "    </tr>\n",
       "    <tr>\n",
       "      <th>1</th>\n",
       "      <td>1.323237</td>\n",
       "      <td>91</td>\n",
       "      <td>3.664310</td>\n",
       "      <td>27.780016</td>\n",
       "    </tr>\n",
       "    <tr>\n",
       "      <th>2</th>\n",
       "      <td>22.093692</td>\n",
       "      <td>426</td>\n",
       "      <td>28.781516</td>\n",
       "      <td>44.467748</td>\n",
       "    </tr>\n",
       "    <tr>\n",
       "      <th>3</th>\n",
       "      <td>10.737851</td>\n",
       "      <td>72</td>\n",
       "      <td>4.124642</td>\n",
       "      <td>39.734710</td>\n",
       "    </tr>\n",
       "    <tr>\n",
       "      <th>4</th>\n",
       "      <td>1.161365</td>\n",
       "      <td>46</td>\n",
       "      <td>2.890150</td>\n",
       "      <td>34.650709</td>\n",
       "    </tr>\n",
       "    <tr>\n",
       "      <th>...</th>\n",
       "      <td>...</td>\n",
       "      <td>...</td>\n",
       "      <td>...</td>\n",
       "      <td>...</td>\n",
       "    </tr>\n",
       "    <tr>\n",
       "      <th>564</th>\n",
       "      <td>2.625403</td>\n",
       "      <td>20</td>\n",
       "      <td>1.424376</td>\n",
       "      <td>33.477545</td>\n",
       "    </tr>\n",
       "    <tr>\n",
       "      <th>565</th>\n",
       "      <td>1.276386</td>\n",
       "      <td>61</td>\n",
       "      <td>2.109048</td>\n",
       "      <td>26.300732</td>\n",
       "    </tr>\n",
       "    <tr>\n",
       "      <th>566</th>\n",
       "      <td>1.953869</td>\n",
       "      <td>117</td>\n",
       "      <td>6.241870</td>\n",
       "      <td>41.153979</td>\n",
       "    </tr>\n",
       "    <tr>\n",
       "      <th>567</th>\n",
       "      <td>1.318527</td>\n",
       "      <td>46</td>\n",
       "      <td>7.902237</td>\n",
       "      <td>66.720139</td>\n",
       "    </tr>\n",
       "    <tr>\n",
       "      <th>568</th>\n",
       "      <td>2.832391</td>\n",
       "      <td>161</td>\n",
       "      <td>6.804085</td>\n",
       "      <td>36.618435</td>\n",
       "    </tr>\n",
       "  </tbody>\n",
       "</table>\n",
       "<p>569 rows × 4 columns</p>\n",
       "</div>"
      ],
      "text/plain": [
       "       capital  labour     output       wage\n",
       "0     2.606563     184   9.250759  43.080307\n",
       "1     1.323237      91   3.664310  27.780016\n",
       "2    22.093692     426  28.781516  44.467748\n",
       "3    10.737851      72   4.124642  39.734710\n",
       "4     1.161365      46   2.890150  34.650709\n",
       "..         ...     ...        ...        ...\n",
       "564   2.625403      20   1.424376  33.477545\n",
       "565   1.276386      61   2.109048  26.300732\n",
       "566   1.953869     117   6.241870  41.153979\n",
       "567   1.318527      46   7.902237  66.720139\n",
       "568   2.832391     161   6.804085  36.618435\n",
       "\n",
       "[569 rows x 4 columns]"
      ]
     },
     "execution_count": 141,
     "metadata": {},
     "output_type": "execute_result"
    }
   ],
   "source": [
    "df = pd.read_csv('https://raw.githubusercontent.com/artamonoff/Econometrica/master/python-notebooks/data-csv/Labour.csv')\n",
    "df "
   ]
  },
  {
   "cell_type": "code",
   "execution_count": 142,
   "id": "bdd9ff52",
   "metadata": {},
   "outputs": [
    {
     "data": {
      "text/plain": [
       "Intercept   -16.745898\n",
       "capital       0.395074\n",
       "labour        0.049899\n",
       "wage          0.436984\n",
       "dtype: float64"
      ]
     },
     "execution_count": 142,
     "metadata": {},
     "output_type": "execute_result"
    }
   ],
   "source": [
    "labour_eq1 = smf.ols(formula='output~capital+labour+wage', data=df).fit()\n",
    "labour_eq1.params "
   ]
  },
  {
   "cell_type": "code",
   "execution_count": 143,
   "id": "34560f17",
   "metadata": {},
   "outputs": [
    {
     "data": {
      "text/plain": [
       "2235073.295"
      ]
     },
     "execution_count": 143,
     "metadata": {},
     "output_type": "execute_result"
    }
   ],
   "source": [
    "TSS\n",
    "labour_eq1.centered_tss.round(3) "
   ]
  },
  {
   "cell_type": "code",
   "execution_count": 144,
   "id": "bb41a468",
   "metadata": {},
   "outputs": [
    {
     "data": {
      "text/plain": [
       "2190376.077"
      ]
     },
     "execution_count": 144,
     "metadata": {},
     "output_type": "execute_result"
    }
   ],
   "source": [
    "ESS \n",
    "labour_eq1.ess.round(3) "
   ]
  },
  {
   "cell_type": "code",
   "execution_count": 145,
   "id": "2c41f3f0",
   "metadata": {},
   "outputs": [
    {
     "data": {
      "text/plain": [
       "44697.218"
      ]
     },
     "execution_count": 145,
     "metadata": {},
     "output_type": "execute_result"
    }
   ],
   "source": [
    "RSS=labour_eq1.ssr.round(3)\n",
    "RSS "
   ]
  },
  {
   "cell_type": "code",
   "execution_count": 146,
   "id": "9f03e51f",
   "metadata": {},
   "outputs": [
    {
     "data": {
      "text/plain": [
       "0.9800019"
      ]
     },
     "execution_count": 146,
     "metadata": {},
     "output_type": "execute_result"
    }
   ],
   "source": [
    "labour_eq1.rsquared.round(7) "
   ]
  },
  {
   "cell_type": "code",
   "execution_count": 147,
   "id": "900c47e3",
   "metadata": {},
   "outputs": [
    {
     "data": {
      "text/plain": [
       "0.9798957"
      ]
     },
     "execution_count": 147,
     "metadata": {},
     "output_type": "execute_result"
    }
   ],
   "source": [
    "labour_eq1.rsquared_adj.round(7) "
   ]
  },
  {
   "cell_type": "code",
   "execution_count": 148,
   "id": "0d00d8d1",
   "metadata": {},
   "outputs": [
    {
     "data": {
      "text/plain": [
       "8.8944"
      ]
     },
     "execution_count": 148,
     "metadata": {},
     "output_type": "execute_result"
    }
   ],
   "source": [
    "n=569\n",
    "k=3\n",
    "s=np.sqrt(RSS/(n-k-1))\n",
    "round(s,4) "
   ]
  },
  {
   "cell_type": "markdown",
   "id": "bcba02a4",
   "metadata": {},
   "source": [
    "# 3.6  "
   ]
  },
  {
   "cell_type": "code",
   "execution_count": 149,
   "id": "c0bfada0",
   "metadata": {},
   "outputs": [],
   "source": [
    "import pandas as pd\n",
    "import numpy as np\n",
    "import io\n",
    "import statsmodels.formula.api as smf "
   ]
  },
  {
   "cell_type": "code",
   "execution_count": 150,
   "id": "de0f0a10",
   "metadata": {},
   "outputs": [
    {
     "data": {
      "text/html": [
       "<div>\n",
       "<style scoped>\n",
       "    .dataframe tbody tr th:only-of-type {\n",
       "        vertical-align: middle;\n",
       "    }\n",
       "\n",
       "    .dataframe tbody tr th {\n",
       "        vertical-align: top;\n",
       "    }\n",
       "\n",
       "    .dataframe thead th {\n",
       "        text-align: right;\n",
       "    }\n",
       "</style>\n",
       "<table border=\"1\" class=\"dataframe\">\n",
       "  <thead>\n",
       "    <tr style=\"text-align: right;\">\n",
       "      <th></th>\n",
       "      <th>capital</th>\n",
       "      <th>labour</th>\n",
       "      <th>output</th>\n",
       "      <th>wage</th>\n",
       "    </tr>\n",
       "  </thead>\n",
       "  <tbody>\n",
       "    <tr>\n",
       "      <th>0</th>\n",
       "      <td>2.606563</td>\n",
       "      <td>184</td>\n",
       "      <td>9.250759</td>\n",
       "      <td>43.080307</td>\n",
       "    </tr>\n",
       "    <tr>\n",
       "      <th>1</th>\n",
       "      <td>1.323237</td>\n",
       "      <td>91</td>\n",
       "      <td>3.664310</td>\n",
       "      <td>27.780016</td>\n",
       "    </tr>\n",
       "    <tr>\n",
       "      <th>2</th>\n",
       "      <td>22.093692</td>\n",
       "      <td>426</td>\n",
       "      <td>28.781516</td>\n",
       "      <td>44.467748</td>\n",
       "    </tr>\n",
       "    <tr>\n",
       "      <th>3</th>\n",
       "      <td>10.737851</td>\n",
       "      <td>72</td>\n",
       "      <td>4.124642</td>\n",
       "      <td>39.734710</td>\n",
       "    </tr>\n",
       "    <tr>\n",
       "      <th>4</th>\n",
       "      <td>1.161365</td>\n",
       "      <td>46</td>\n",
       "      <td>2.890150</td>\n",
       "      <td>34.650709</td>\n",
       "    </tr>\n",
       "    <tr>\n",
       "      <th>...</th>\n",
       "      <td>...</td>\n",
       "      <td>...</td>\n",
       "      <td>...</td>\n",
       "      <td>...</td>\n",
       "    </tr>\n",
       "    <tr>\n",
       "      <th>564</th>\n",
       "      <td>2.625403</td>\n",
       "      <td>20</td>\n",
       "      <td>1.424376</td>\n",
       "      <td>33.477545</td>\n",
       "    </tr>\n",
       "    <tr>\n",
       "      <th>565</th>\n",
       "      <td>1.276386</td>\n",
       "      <td>61</td>\n",
       "      <td>2.109048</td>\n",
       "      <td>26.300732</td>\n",
       "    </tr>\n",
       "    <tr>\n",
       "      <th>566</th>\n",
       "      <td>1.953869</td>\n",
       "      <td>117</td>\n",
       "      <td>6.241870</td>\n",
       "      <td>41.153979</td>\n",
       "    </tr>\n",
       "    <tr>\n",
       "      <th>567</th>\n",
       "      <td>1.318527</td>\n",
       "      <td>46</td>\n",
       "      <td>7.902237</td>\n",
       "      <td>66.720139</td>\n",
       "    </tr>\n",
       "    <tr>\n",
       "      <th>568</th>\n",
       "      <td>2.832391</td>\n",
       "      <td>161</td>\n",
       "      <td>6.804085</td>\n",
       "      <td>36.618435</td>\n",
       "    </tr>\n",
       "  </tbody>\n",
       "</table>\n",
       "<p>569 rows × 4 columns</p>\n",
       "</div>"
      ],
      "text/plain": [
       "       capital  labour     output       wage\n",
       "0     2.606563     184   9.250759  43.080307\n",
       "1     1.323237      91   3.664310  27.780016\n",
       "2    22.093692     426  28.781516  44.467748\n",
       "3    10.737851      72   4.124642  39.734710\n",
       "4     1.161365      46   2.890150  34.650709\n",
       "..         ...     ...        ...        ...\n",
       "564   2.625403      20   1.424376  33.477545\n",
       "565   1.276386      61   2.109048  26.300732\n",
       "566   1.953869     117   6.241870  41.153979\n",
       "567   1.318527      46   7.902237  66.720139\n",
       "568   2.832391     161   6.804085  36.618435\n",
       "\n",
       "[569 rows x 4 columns]"
      ]
     },
     "execution_count": 150,
     "metadata": {},
     "output_type": "execute_result"
    }
   ],
   "source": [
    "df = pd.read_csv('https://raw.githubusercontent.com/artamonoff/Econometrica/master/python-notebooks/data-csv/Labour.csv')\n",
    "df "
   ]
  },
  {
   "cell_type": "code",
   "execution_count": 158,
   "id": "28f59fda",
   "metadata": {},
   "outputs": [
    {
     "data": {
      "text/plain": [
       "Intercept         -206.621176\n",
       "np.log(capital)      5.824849\n",
       "np.log(labour)      15.416062\n",
       "np.log(wage)        40.831251\n",
       "dtype: float64"
      ]
     },
     "execution_count": 158,
     "metadata": {},
     "output_type": "execute_result"
    }
   ],
   "source": [
    "labour_eq2 = smf.ols(formula='output~np.log(capital)+np.log(labour)+np.log(wage)', data=df).fit()\n",
    "labour_eq2.params "
   ]
  },
  {
   "cell_type": "code",
   "execution_count": 159,
   "id": "4f4fefd3",
   "metadata": {},
   "outputs": [
    {
     "data": {
      "text/plain": [
       "2235073.295"
      ]
     },
     "execution_count": 159,
     "metadata": {},
     "output_type": "execute_result"
    }
   ],
   "source": [
    "TSS\n",
    "labour_eq1.centered_tss.round(3) "
   ]
  },
  {
   "cell_type": "code",
   "execution_count": 160,
   "id": "bf5fe914",
   "metadata": {},
   "outputs": [
    {
     "data": {
      "text/plain": [
       "2190376.077"
      ]
     },
     "execution_count": 160,
     "metadata": {},
     "output_type": "execute_result"
    }
   ],
   "source": [
    "ESS\n",
    "labour_eq1.ess.round(3) "
   ]
  },
  {
   "cell_type": "code",
   "execution_count": 161,
   "id": "c67a04d8",
   "metadata": {},
   "outputs": [
    {
     "data": {
      "text/plain": [
       "44697.218"
      ]
     },
     "execution_count": 161,
     "metadata": {},
     "output_type": "execute_result"
    }
   ],
   "source": [
    "RSS=labour_eq1.ssr.round(3)\n",
    "RSS "
   ]
  },
  {
   "cell_type": "code",
   "execution_count": 162,
   "id": "20e58c26",
   "metadata": {},
   "outputs": [
    {
     "data": {
      "text/plain": [
       "0.9800019"
      ]
     },
     "execution_count": 162,
     "metadata": {},
     "output_type": "execute_result"
    }
   ],
   "source": [
    "labour_eq1.rsquared.round(7) "
   ]
  },
  {
   "cell_type": "code",
   "execution_count": 163,
   "id": "98f9491f",
   "metadata": {},
   "outputs": [
    {
     "data": {
      "text/plain": [
       "0.9798957"
      ]
     },
     "execution_count": 163,
     "metadata": {},
     "output_type": "execute_result"
    }
   ],
   "source": [
    "labour_eq1.rsquared_adj.round(7) "
   ]
  },
  {
   "cell_type": "code",
   "execution_count": 164,
   "id": "9a9e3373",
   "metadata": {},
   "outputs": [
    {
     "data": {
      "text/plain": [
       "8.8944"
      ]
     },
     "execution_count": 164,
     "metadata": {},
     "output_type": "execute_result"
    }
   ],
   "source": [
    "n=569\n",
    "k=3\n",
    "s=np.sqrt(RSS/(n-k-1))\n",
    "round(s,4) "
   ]
  },
  {
   "cell_type": "markdown",
   "id": "afef9b41",
   "metadata": {},
   "source": [
    "# 3.7 "
   ]
  },
  {
   "cell_type": "code",
   "execution_count": 165,
   "id": "1a0fbafc",
   "metadata": {},
   "outputs": [],
   "source": [
    "import pandas as pd\n",
    "import numpy as np\n",
    "import io\n",
    "import statsmodels.formula.api as smf "
   ]
  },
  {
   "cell_type": "code",
   "execution_count": 166,
   "id": "613f0c96",
   "metadata": {},
   "outputs": [
    {
     "data": {
      "text/html": [
       "<div>\n",
       "<style scoped>\n",
       "    .dataframe tbody tr th:only-of-type {\n",
       "        vertical-align: middle;\n",
       "    }\n",
       "\n",
       "    .dataframe tbody tr th {\n",
       "        vertical-align: top;\n",
       "    }\n",
       "\n",
       "    .dataframe thead th {\n",
       "        text-align: right;\n",
       "    }\n",
       "</style>\n",
       "<table border=\"1\" class=\"dataframe\">\n",
       "  <thead>\n",
       "    <tr style=\"text-align: right;\">\n",
       "      <th></th>\n",
       "      <th>cost</th>\n",
       "      <th>q</th>\n",
       "      <th>pl</th>\n",
       "      <th>sl</th>\n",
       "      <th>pk</th>\n",
       "      <th>sk</th>\n",
       "      <th>pf</th>\n",
       "      <th>sf</th>\n",
       "    </tr>\n",
       "  </thead>\n",
       "  <tbody>\n",
       "    <tr>\n",
       "      <th>0</th>\n",
       "      <td>0.2130</td>\n",
       "      <td>8.0</td>\n",
       "      <td>6869.47</td>\n",
       "      <td>0.3291</td>\n",
       "      <td>64.945</td>\n",
       "      <td>0.4197</td>\n",
       "      <td>18.000</td>\n",
       "      <td>0.2512</td>\n",
       "    </tr>\n",
       "    <tr>\n",
       "      <th>1</th>\n",
       "      <td>3.0427</td>\n",
       "      <td>869.0</td>\n",
       "      <td>8372.96</td>\n",
       "      <td>0.1030</td>\n",
       "      <td>68.227</td>\n",
       "      <td>0.2913</td>\n",
       "      <td>21.067</td>\n",
       "      <td>0.6057</td>\n",
       "    </tr>\n",
       "    <tr>\n",
       "      <th>2</th>\n",
       "      <td>9.4059</td>\n",
       "      <td>1412.0</td>\n",
       "      <td>7960.90</td>\n",
       "      <td>0.0891</td>\n",
       "      <td>40.692</td>\n",
       "      <td>0.1567</td>\n",
       "      <td>41.530</td>\n",
       "      <td>0.7542</td>\n",
       "    </tr>\n",
       "    <tr>\n",
       "      <th>3</th>\n",
       "      <td>0.7606</td>\n",
       "      <td>65.0</td>\n",
       "      <td>8971.89</td>\n",
       "      <td>0.2802</td>\n",
       "      <td>41.243</td>\n",
       "      <td>0.1282</td>\n",
       "      <td>28.539</td>\n",
       "      <td>0.5916</td>\n",
       "    </tr>\n",
       "    <tr>\n",
       "      <th>4</th>\n",
       "      <td>2.2587</td>\n",
       "      <td>295.0</td>\n",
       "      <td>8218.40</td>\n",
       "      <td>0.1772</td>\n",
       "      <td>71.940</td>\n",
       "      <td>0.1623</td>\n",
       "      <td>39.200</td>\n",
       "      <td>0.6606</td>\n",
       "    </tr>\n",
       "    <tr>\n",
       "      <th>...</th>\n",
       "      <td>...</td>\n",
       "      <td>...</td>\n",
       "      <td>...</td>\n",
       "      <td>...</td>\n",
       "      <td>...</td>\n",
       "      <td>...</td>\n",
       "      <td>...</td>\n",
       "      <td>...</td>\n",
       "    </tr>\n",
       "    <tr>\n",
       "      <th>153</th>\n",
       "      <td>6.8293</td>\n",
       "      <td>946.6</td>\n",
       "      <td>10642.16</td>\n",
       "      <td>0.0883</td>\n",
       "      <td>43.600</td>\n",
       "      <td>0.1914</td>\n",
       "      <td>51.463</td>\n",
       "      <td>0.7203</td>\n",
       "    </tr>\n",
       "    <tr>\n",
       "      <th>154</th>\n",
       "      <td>3.7605</td>\n",
       "      <td>377.0</td>\n",
       "      <td>7432.24</td>\n",
       "      <td>0.2117</td>\n",
       "      <td>74.120</td>\n",
       "      <td>0.2274</td>\n",
       "      <td>33.436</td>\n",
       "      <td>0.5609</td>\n",
       "    </tr>\n",
       "    <tr>\n",
       "      <th>155</th>\n",
       "      <td>3.9822</td>\n",
       "      <td>391.0</td>\n",
       "      <td>5826.04</td>\n",
       "      <td>0.1926</td>\n",
       "      <td>78.288</td>\n",
       "      <td>0.0924</td>\n",
       "      <td>44.633</td>\n",
       "      <td>0.7151</td>\n",
       "    </tr>\n",
       "    <tr>\n",
       "      <th>156</th>\n",
       "      <td>30.1880</td>\n",
       "      <td>5317.0</td>\n",
       "      <td>9586.63</td>\n",
       "      <td>0.0845</td>\n",
       "      <td>78.008</td>\n",
       "      <td>0.2009</td>\n",
       "      <td>41.840</td>\n",
       "      <td>0.7147</td>\n",
       "    </tr>\n",
       "    <tr>\n",
       "      <th>157</th>\n",
       "      <td>67.8562</td>\n",
       "      <td>15220.0</td>\n",
       "      <td>6986.09</td>\n",
       "      <td>0.1451</td>\n",
       "      <td>74.025</td>\n",
       "      <td>0.2596</td>\n",
       "      <td>25.662</td>\n",
       "      <td>0.5945</td>\n",
       "    </tr>\n",
       "  </tbody>\n",
       "</table>\n",
       "<p>158 rows × 8 columns</p>\n",
       "</div>"
      ],
      "text/plain": [
       "        cost        q        pl      sl      pk      sk      pf      sf\n",
       "0     0.2130      8.0   6869.47  0.3291  64.945  0.4197  18.000  0.2512\n",
       "1     3.0427    869.0   8372.96  0.1030  68.227  0.2913  21.067  0.6057\n",
       "2     9.4059   1412.0   7960.90  0.0891  40.692  0.1567  41.530  0.7542\n",
       "3     0.7606     65.0   8971.89  0.2802  41.243  0.1282  28.539  0.5916\n",
       "4     2.2587    295.0   8218.40  0.1772  71.940  0.1623  39.200  0.6606\n",
       "..       ...      ...       ...     ...     ...     ...     ...     ...\n",
       "153   6.8293    946.6  10642.16  0.0883  43.600  0.1914  51.463  0.7203\n",
       "154   3.7605    377.0   7432.24  0.2117  74.120  0.2274  33.436  0.5609\n",
       "155   3.9822    391.0   5826.04  0.1926  78.288  0.0924  44.633  0.7151\n",
       "156  30.1880   5317.0   9586.63  0.0845  78.008  0.2009  41.840  0.7147\n",
       "157  67.8562  15220.0   6986.09  0.1451  74.025  0.2596  25.662  0.5945\n",
       "\n",
       "[158 rows x 8 columns]"
      ]
     },
     "execution_count": 166,
     "metadata": {},
     "output_type": "execute_result"
    }
   ],
   "source": [
    "df = pd.read_csv('https://raw.githubusercontent.com/artamonoff/Econometrica/master/python-notebooks/data-csv/Electricity.csv')\n",
    "df "
   ]
  },
  {
   "cell_type": "code",
   "execution_count": 167,
   "id": "a79964cf",
   "metadata": {},
   "outputs": [
    {
     "data": {
      "text/plain": [
       "Intercept   -84.555714\n",
       "q             0.005471\n",
       "pk            0.303479\n",
       "pf            1.071896\n",
       "pl            0.003239\n",
       "dtype: float64"
      ]
     },
     "execution_count": 167,
     "metadata": {},
     "output_type": "execute_result"
    }
   ],
   "source": [
    "elec_eq1 = smf.ols(formula='cost~q+(q**2)+pk+pf+pl', data=df).fit()\n",
    "elec_eq1.params "
   ]
  },
  {
   "cell_type": "code",
   "execution_count": null,
   "id": "03008237",
   "metadata": {},
   "outputs": [],
   "source": []
  }
 ],
 "metadata": {
  "kernelspec": {
   "display_name": "Python 3 (ipykernel)",
   "language": "python",
   "name": "python3"
  },
  "language_info": {
   "codemirror_mode": {
    "name": "ipython",
    "version": 3
   },
   "file_extension": ".py",
   "mimetype": "text/x-python",
   "name": "python",
   "nbconvert_exporter": "python",
   "pygments_lexer": "ipython3",
   "version": "3.9.13"
  }
 },
 "nbformat": 4,
 "nbformat_minor": 5
}
